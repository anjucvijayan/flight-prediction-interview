{
 "cells": [
  {
   "cell_type": "markdown",
   "id": "c06be040",
   "metadata": {},
   "source": [
    "Predict Loan Eligibility for Dream Housing Finance company\n",
    "\n",
    "Dream Housing Finance company deals in all kinds of home loans. They have presence across all urban, semi urban and rural areas. Customer first applies for home loan and after that company validates the customer eligibility for loan.\n",
    "\n",
    "Company wants to automate the loan eligibility process (real time) based on customer detail provided while filling online application form. These details are Gender, Marital Status, Education, Number of Dependents, Income, Loan Amount, Credit History and others. To automate this process, they have provided a dataset to identify the customers segments that are eligible for loan amount so that they can specifically target these customers."
   ]
  },
  {
   "cell_type": "markdown",
   "id": "6efee59c",
   "metadata": {},
   "source": [
    "\n",
    "Variable\t          Description\n",
    "\n",
    "Loan_ID\t              Unique Loan ID\n",
    "\n",
    "Gender\t              Male/ Female\n",
    "\n",
    "Married\tApplicant      married (Y/N)\n",
    "\n",
    "Dependents\t           Number of dependents\n",
    "\n",
    "Education\t          Applicant Education (Graduate/ Under Graduate)\n",
    "\n",
    "Self_Employed\t     Self employed (Y/N)\n",
    "\n",
    "ApplicantIncome\t     Applicant income\n",
    "\n",
    "CoapplicantIncome\t Coapplicant income\n",
    "\n",
    "LoanAmount\t         Loan amount in thousands\n",
    "\n",
    "Loan_Amount_Term\t Term of loan in months\n",
    "\n",
    "Credit_History\t     credit history meets guidelines\n",
    "\n",
    "Property_Area\t     Urban/ Semi Urban/ Rural\n",
    "\n",
    "Loan_Status\t(Target) Loan approved (Y/N)"
   ]
  },
  {
   "cell_type": "code",
   "execution_count": 147,
   "id": "50988a7a",
   "metadata": {},
   "outputs": [],
   "source": [
    "import numpy as np\n",
    "import pandas as pd\n",
    "import matplotlib.pyplot as plt\n",
    "import seaborn as sns\n",
    "\n",
    "import warnings\n",
    "warnings.filterwarnings('ignore')"
   ]
  },
  {
   "cell_type": "code",
   "execution_count": 148,
   "id": "c02086fa",
   "metadata": {},
   "outputs": [
    {
     "data": {
      "text/html": [
       "<div>\n",
       "<style scoped>\n",
       "    .dataframe tbody tr th:only-of-type {\n",
       "        vertical-align: middle;\n",
       "    }\n",
       "\n",
       "    .dataframe tbody tr th {\n",
       "        vertical-align: top;\n",
       "    }\n",
       "\n",
       "    .dataframe thead th {\n",
       "        text-align: right;\n",
       "    }\n",
       "</style>\n",
       "<table border=\"1\" class=\"dataframe\">\n",
       "  <thead>\n",
       "    <tr style=\"text-align: right;\">\n",
       "      <th></th>\n",
       "      <th>Loan_ID</th>\n",
       "      <th>Gender</th>\n",
       "      <th>Married</th>\n",
       "      <th>Dependents</th>\n",
       "      <th>Education</th>\n",
       "      <th>Self_Employed</th>\n",
       "      <th>ApplicantIncome</th>\n",
       "      <th>CoapplicantIncome</th>\n",
       "      <th>LoanAmount</th>\n",
       "      <th>Loan_Amount_Term</th>\n",
       "      <th>Credit_History</th>\n",
       "      <th>Property_Area</th>\n",
       "      <th>Loan_Status</th>\n",
       "    </tr>\n",
       "  </thead>\n",
       "  <tbody>\n",
       "    <tr>\n",
       "      <th>0</th>\n",
       "      <td>LP001002</td>\n",
       "      <td>Male</td>\n",
       "      <td>No</td>\n",
       "      <td>0</td>\n",
       "      <td>Graduate</td>\n",
       "      <td>No</td>\n",
       "      <td>5849</td>\n",
       "      <td>0.0</td>\n",
       "      <td>NaN</td>\n",
       "      <td>360.0</td>\n",
       "      <td>1.0</td>\n",
       "      <td>Urban</td>\n",
       "      <td>Y</td>\n",
       "    </tr>\n",
       "    <tr>\n",
       "      <th>1</th>\n",
       "      <td>LP001003</td>\n",
       "      <td>Male</td>\n",
       "      <td>Yes</td>\n",
       "      <td>1</td>\n",
       "      <td>Graduate</td>\n",
       "      <td>No</td>\n",
       "      <td>4583</td>\n",
       "      <td>1508.0</td>\n",
       "      <td>128.0</td>\n",
       "      <td>360.0</td>\n",
       "      <td>1.0</td>\n",
       "      <td>Rural</td>\n",
       "      <td>N</td>\n",
       "    </tr>\n",
       "    <tr>\n",
       "      <th>2</th>\n",
       "      <td>LP001005</td>\n",
       "      <td>Male</td>\n",
       "      <td>Yes</td>\n",
       "      <td>0</td>\n",
       "      <td>Graduate</td>\n",
       "      <td>Yes</td>\n",
       "      <td>3000</td>\n",
       "      <td>0.0</td>\n",
       "      <td>66.0</td>\n",
       "      <td>360.0</td>\n",
       "      <td>1.0</td>\n",
       "      <td>Urban</td>\n",
       "      <td>Y</td>\n",
       "    </tr>\n",
       "    <tr>\n",
       "      <th>3</th>\n",
       "      <td>LP001006</td>\n",
       "      <td>Male</td>\n",
       "      <td>Yes</td>\n",
       "      <td>0</td>\n",
       "      <td>Not Graduate</td>\n",
       "      <td>No</td>\n",
       "      <td>2583</td>\n",
       "      <td>2358.0</td>\n",
       "      <td>120.0</td>\n",
       "      <td>360.0</td>\n",
       "      <td>1.0</td>\n",
       "      <td>Urban</td>\n",
       "      <td>Y</td>\n",
       "    </tr>\n",
       "    <tr>\n",
       "      <th>4</th>\n",
       "      <td>LP001008</td>\n",
       "      <td>Male</td>\n",
       "      <td>No</td>\n",
       "      <td>0</td>\n",
       "      <td>Graduate</td>\n",
       "      <td>No</td>\n",
       "      <td>6000</td>\n",
       "      <td>0.0</td>\n",
       "      <td>141.0</td>\n",
       "      <td>360.0</td>\n",
       "      <td>1.0</td>\n",
       "      <td>Urban</td>\n",
       "      <td>Y</td>\n",
       "    </tr>\n",
       "  </tbody>\n",
       "</table>\n",
       "</div>"
      ],
      "text/plain": [
       "    Loan_ID Gender Married Dependents     Education Self_Employed  \\\n",
       "0  LP001002   Male      No          0      Graduate            No   \n",
       "1  LP001003   Male     Yes          1      Graduate            No   \n",
       "2  LP001005   Male     Yes          0      Graduate           Yes   \n",
       "3  LP001006   Male     Yes          0  Not Graduate            No   \n",
       "4  LP001008   Male      No          0      Graduate            No   \n",
       "\n",
       "   ApplicantIncome  CoapplicantIncome  LoanAmount  Loan_Amount_Term  \\\n",
       "0             5849                0.0         NaN             360.0   \n",
       "1             4583             1508.0       128.0             360.0   \n",
       "2             3000                0.0        66.0             360.0   \n",
       "3             2583             2358.0       120.0             360.0   \n",
       "4             6000                0.0       141.0             360.0   \n",
       "\n",
       "   Credit_History Property_Area Loan_Status  \n",
       "0             1.0         Urban           Y  \n",
       "1             1.0         Rural           N  \n",
       "2             1.0         Urban           Y  \n",
       "3             1.0         Urban           Y  \n",
       "4             1.0         Urban           Y  "
      ]
     },
     "execution_count": 148,
     "metadata": {},
     "output_type": "execute_result"
    }
   ],
   "source": [
    "train_data=pd.read_csv('train_ctrUa4K.csv')\n",
    "train_data.head()"
   ]
  },
  {
   "cell_type": "code",
   "execution_count": 149,
   "id": "d6a94559",
   "metadata": {},
   "outputs": [
    {
     "data": {
      "text/plain": [
       "(614, 13)"
      ]
     },
     "execution_count": 149,
     "metadata": {},
     "output_type": "execute_result"
    }
   ],
   "source": [
    "train_data.shape"
   ]
  },
  {
   "cell_type": "code",
   "execution_count": 150,
   "id": "1a6b371e",
   "metadata": {},
   "outputs": [
    {
     "data": {
      "text/html": [
       "<div>\n",
       "<style scoped>\n",
       "    .dataframe tbody tr th:only-of-type {\n",
       "        vertical-align: middle;\n",
       "    }\n",
       "\n",
       "    .dataframe tbody tr th {\n",
       "        vertical-align: top;\n",
       "    }\n",
       "\n",
       "    .dataframe thead th {\n",
       "        text-align: right;\n",
       "    }\n",
       "</style>\n",
       "<table border=\"1\" class=\"dataframe\">\n",
       "  <thead>\n",
       "    <tr style=\"text-align: right;\">\n",
       "      <th></th>\n",
       "      <th>Loan_ID</th>\n",
       "      <th>Gender</th>\n",
       "      <th>Married</th>\n",
       "      <th>Dependents</th>\n",
       "      <th>Education</th>\n",
       "      <th>Self_Employed</th>\n",
       "      <th>ApplicantIncome</th>\n",
       "      <th>CoapplicantIncome</th>\n",
       "      <th>LoanAmount</th>\n",
       "      <th>Loan_Amount_Term</th>\n",
       "      <th>Credit_History</th>\n",
       "      <th>Property_Area</th>\n",
       "    </tr>\n",
       "  </thead>\n",
       "  <tbody>\n",
       "    <tr>\n",
       "      <th>0</th>\n",
       "      <td>LP001015</td>\n",
       "      <td>Male</td>\n",
       "      <td>Yes</td>\n",
       "      <td>0</td>\n",
       "      <td>Graduate</td>\n",
       "      <td>No</td>\n",
       "      <td>5720</td>\n",
       "      <td>0</td>\n",
       "      <td>110.0</td>\n",
       "      <td>360.0</td>\n",
       "      <td>1.0</td>\n",
       "      <td>Urban</td>\n",
       "    </tr>\n",
       "    <tr>\n",
       "      <th>1</th>\n",
       "      <td>LP001022</td>\n",
       "      <td>Male</td>\n",
       "      <td>Yes</td>\n",
       "      <td>1</td>\n",
       "      <td>Graduate</td>\n",
       "      <td>No</td>\n",
       "      <td>3076</td>\n",
       "      <td>1500</td>\n",
       "      <td>126.0</td>\n",
       "      <td>360.0</td>\n",
       "      <td>1.0</td>\n",
       "      <td>Urban</td>\n",
       "    </tr>\n",
       "    <tr>\n",
       "      <th>2</th>\n",
       "      <td>LP001031</td>\n",
       "      <td>Male</td>\n",
       "      <td>Yes</td>\n",
       "      <td>2</td>\n",
       "      <td>Graduate</td>\n",
       "      <td>No</td>\n",
       "      <td>5000</td>\n",
       "      <td>1800</td>\n",
       "      <td>208.0</td>\n",
       "      <td>360.0</td>\n",
       "      <td>1.0</td>\n",
       "      <td>Urban</td>\n",
       "    </tr>\n",
       "    <tr>\n",
       "      <th>3</th>\n",
       "      <td>LP001035</td>\n",
       "      <td>Male</td>\n",
       "      <td>Yes</td>\n",
       "      <td>2</td>\n",
       "      <td>Graduate</td>\n",
       "      <td>No</td>\n",
       "      <td>2340</td>\n",
       "      <td>2546</td>\n",
       "      <td>100.0</td>\n",
       "      <td>360.0</td>\n",
       "      <td>NaN</td>\n",
       "      <td>Urban</td>\n",
       "    </tr>\n",
       "    <tr>\n",
       "      <th>4</th>\n",
       "      <td>LP001051</td>\n",
       "      <td>Male</td>\n",
       "      <td>No</td>\n",
       "      <td>0</td>\n",
       "      <td>Not Graduate</td>\n",
       "      <td>No</td>\n",
       "      <td>3276</td>\n",
       "      <td>0</td>\n",
       "      <td>78.0</td>\n",
       "      <td>360.0</td>\n",
       "      <td>1.0</td>\n",
       "      <td>Urban</td>\n",
       "    </tr>\n",
       "  </tbody>\n",
       "</table>\n",
       "</div>"
      ],
      "text/plain": [
       "    Loan_ID Gender Married Dependents     Education Self_Employed  \\\n",
       "0  LP001015   Male     Yes          0      Graduate            No   \n",
       "1  LP001022   Male     Yes          1      Graduate            No   \n",
       "2  LP001031   Male     Yes          2      Graduate            No   \n",
       "3  LP001035   Male     Yes          2      Graduate            No   \n",
       "4  LP001051   Male      No          0  Not Graduate            No   \n",
       "\n",
       "   ApplicantIncome  CoapplicantIncome  LoanAmount  Loan_Amount_Term  \\\n",
       "0             5720                  0       110.0             360.0   \n",
       "1             3076               1500       126.0             360.0   \n",
       "2             5000               1800       208.0             360.0   \n",
       "3             2340               2546       100.0             360.0   \n",
       "4             3276                  0        78.0             360.0   \n",
       "\n",
       "   Credit_History Property_Area  \n",
       "0             1.0         Urban  \n",
       "1             1.0         Urban  \n",
       "2             1.0         Urban  \n",
       "3             NaN         Urban  \n",
       "4             1.0         Urban  "
      ]
     },
     "execution_count": 150,
     "metadata": {},
     "output_type": "execute_result"
    }
   ],
   "source": [
    "test_data=pd.read_csv('test_lAUu6dG.csv')\n",
    "test_data.head()"
   ]
  },
  {
   "cell_type": "code",
   "execution_count": 151,
   "id": "5709ce47",
   "metadata": {},
   "outputs": [
    {
     "data": {
      "text/plain": [
       "(367, 12)"
      ]
     },
     "execution_count": 151,
     "metadata": {},
     "output_type": "execute_result"
    }
   ],
   "source": [
    "test_data.shape"
   ]
  },
  {
   "cell_type": "code",
   "execution_count": 152,
   "id": "d02371ca",
   "metadata": {},
   "outputs": [],
   "source": [
    "train_data1=train_data\n",
    "test_data1=test_data"
   ]
  },
  {
   "cell_type": "code",
   "execution_count": 153,
   "id": "cb1c7005",
   "metadata": {},
   "outputs": [
    {
     "name": "stdout",
     "output_type": "stream",
     "text": [
      "<class 'pandas.core.frame.DataFrame'>\n",
      "RangeIndex: 614 entries, 0 to 613\n",
      "Data columns (total 13 columns):\n",
      " #   Column             Non-Null Count  Dtype  \n",
      "---  ------             --------------  -----  \n",
      " 0   Loan_ID            614 non-null    object \n",
      " 1   Gender             601 non-null    object \n",
      " 2   Married            611 non-null    object \n",
      " 3   Dependents         599 non-null    object \n",
      " 4   Education          614 non-null    object \n",
      " 5   Self_Employed      582 non-null    object \n",
      " 6   ApplicantIncome    614 non-null    int64  \n",
      " 7   CoapplicantIncome  614 non-null    float64\n",
      " 8   LoanAmount         592 non-null    float64\n",
      " 9   Loan_Amount_Term   600 non-null    float64\n",
      " 10  Credit_History     564 non-null    float64\n",
      " 11  Property_Area      614 non-null    object \n",
      " 12  Loan_Status        614 non-null    object \n",
      "dtypes: float64(4), int64(1), object(8)\n",
      "memory usage: 62.5+ KB\n"
     ]
    }
   ],
   "source": [
    "train_data.info()"
   ]
  },
  {
   "cell_type": "code",
   "execution_count": 154,
   "id": "3247f9ad",
   "metadata": {},
   "outputs": [
    {
     "name": "stdout",
     "output_type": "stream",
     "text": [
      "<class 'pandas.core.frame.DataFrame'>\n",
      "RangeIndex: 367 entries, 0 to 366\n",
      "Data columns (total 12 columns):\n",
      " #   Column             Non-Null Count  Dtype  \n",
      "---  ------             --------------  -----  \n",
      " 0   Loan_ID            367 non-null    object \n",
      " 1   Gender             356 non-null    object \n",
      " 2   Married            367 non-null    object \n",
      " 3   Dependents         357 non-null    object \n",
      " 4   Education          367 non-null    object \n",
      " 5   Self_Employed      344 non-null    object \n",
      " 6   ApplicantIncome    367 non-null    int64  \n",
      " 7   CoapplicantIncome  367 non-null    int64  \n",
      " 8   LoanAmount         362 non-null    float64\n",
      " 9   Loan_Amount_Term   361 non-null    float64\n",
      " 10  Credit_History     338 non-null    float64\n",
      " 11  Property_Area      367 non-null    object \n",
      "dtypes: float64(3), int64(2), object(7)\n",
      "memory usage: 34.5+ KB\n"
     ]
    }
   ],
   "source": [
    "test_data.info()"
   ]
  },
  {
   "cell_type": "code",
   "execution_count": 155,
   "id": "858a1431",
   "metadata": {},
   "outputs": [
    {
     "data": {
      "text/html": [
       "<div>\n",
       "<style scoped>\n",
       "    .dataframe tbody tr th:only-of-type {\n",
       "        vertical-align: middle;\n",
       "    }\n",
       "\n",
       "    .dataframe tbody tr th {\n",
       "        vertical-align: top;\n",
       "    }\n",
       "\n",
       "    .dataframe thead th {\n",
       "        text-align: right;\n",
       "    }\n",
       "</style>\n",
       "<table border=\"1\" class=\"dataframe\">\n",
       "  <thead>\n",
       "    <tr style=\"text-align: right;\">\n",
       "      <th></th>\n",
       "      <th>ApplicantIncome</th>\n",
       "      <th>CoapplicantIncome</th>\n",
       "      <th>LoanAmount</th>\n",
       "      <th>Loan_Amount_Term</th>\n",
       "      <th>Credit_History</th>\n",
       "    </tr>\n",
       "  </thead>\n",
       "  <tbody>\n",
       "    <tr>\n",
       "      <th>count</th>\n",
       "      <td>614.000000</td>\n",
       "      <td>614.000000</td>\n",
       "      <td>592.000000</td>\n",
       "      <td>600.00000</td>\n",
       "      <td>564.000000</td>\n",
       "    </tr>\n",
       "    <tr>\n",
       "      <th>mean</th>\n",
       "      <td>5403.459283</td>\n",
       "      <td>1621.245798</td>\n",
       "      <td>146.412162</td>\n",
       "      <td>342.00000</td>\n",
       "      <td>0.842199</td>\n",
       "    </tr>\n",
       "    <tr>\n",
       "      <th>std</th>\n",
       "      <td>6109.041673</td>\n",
       "      <td>2926.248369</td>\n",
       "      <td>85.587325</td>\n",
       "      <td>65.12041</td>\n",
       "      <td>0.364878</td>\n",
       "    </tr>\n",
       "    <tr>\n",
       "      <th>min</th>\n",
       "      <td>150.000000</td>\n",
       "      <td>0.000000</td>\n",
       "      <td>9.000000</td>\n",
       "      <td>12.00000</td>\n",
       "      <td>0.000000</td>\n",
       "    </tr>\n",
       "    <tr>\n",
       "      <th>25%</th>\n",
       "      <td>2877.500000</td>\n",
       "      <td>0.000000</td>\n",
       "      <td>100.000000</td>\n",
       "      <td>360.00000</td>\n",
       "      <td>1.000000</td>\n",
       "    </tr>\n",
       "    <tr>\n",
       "      <th>50%</th>\n",
       "      <td>3812.500000</td>\n",
       "      <td>1188.500000</td>\n",
       "      <td>128.000000</td>\n",
       "      <td>360.00000</td>\n",
       "      <td>1.000000</td>\n",
       "    </tr>\n",
       "    <tr>\n",
       "      <th>75%</th>\n",
       "      <td>5795.000000</td>\n",
       "      <td>2297.250000</td>\n",
       "      <td>168.000000</td>\n",
       "      <td>360.00000</td>\n",
       "      <td>1.000000</td>\n",
       "    </tr>\n",
       "    <tr>\n",
       "      <th>max</th>\n",
       "      <td>81000.000000</td>\n",
       "      <td>41667.000000</td>\n",
       "      <td>700.000000</td>\n",
       "      <td>480.00000</td>\n",
       "      <td>1.000000</td>\n",
       "    </tr>\n",
       "  </tbody>\n",
       "</table>\n",
       "</div>"
      ],
      "text/plain": [
       "       ApplicantIncome  CoapplicantIncome  LoanAmount  Loan_Amount_Term  \\\n",
       "count       614.000000         614.000000  592.000000         600.00000   \n",
       "mean       5403.459283        1621.245798  146.412162         342.00000   \n",
       "std        6109.041673        2926.248369   85.587325          65.12041   \n",
       "min         150.000000           0.000000    9.000000          12.00000   \n",
       "25%        2877.500000           0.000000  100.000000         360.00000   \n",
       "50%        3812.500000        1188.500000  128.000000         360.00000   \n",
       "75%        5795.000000        2297.250000  168.000000         360.00000   \n",
       "max       81000.000000       41667.000000  700.000000         480.00000   \n",
       "\n",
       "       Credit_History  \n",
       "count      564.000000  \n",
       "mean         0.842199  \n",
       "std          0.364878  \n",
       "min          0.000000  \n",
       "25%          1.000000  \n",
       "50%          1.000000  \n",
       "75%          1.000000  \n",
       "max          1.000000  "
      ]
     },
     "execution_count": 155,
     "metadata": {},
     "output_type": "execute_result"
    }
   ],
   "source": [
    "train_data.describe()"
   ]
  },
  {
   "cell_type": "code",
   "execution_count": 156,
   "id": "ffd1796e",
   "metadata": {},
   "outputs": [
    {
     "data": {
      "text/html": [
       "<div>\n",
       "<style scoped>\n",
       "    .dataframe tbody tr th:only-of-type {\n",
       "        vertical-align: middle;\n",
       "    }\n",
       "\n",
       "    .dataframe tbody tr th {\n",
       "        vertical-align: top;\n",
       "    }\n",
       "\n",
       "    .dataframe thead th {\n",
       "        text-align: right;\n",
       "    }\n",
       "</style>\n",
       "<table border=\"1\" class=\"dataframe\">\n",
       "  <thead>\n",
       "    <tr style=\"text-align: right;\">\n",
       "      <th></th>\n",
       "      <th>ApplicantIncome</th>\n",
       "      <th>CoapplicantIncome</th>\n",
       "      <th>LoanAmount</th>\n",
       "      <th>Loan_Amount_Term</th>\n",
       "      <th>Credit_History</th>\n",
       "    </tr>\n",
       "  </thead>\n",
       "  <tbody>\n",
       "    <tr>\n",
       "      <th>count</th>\n",
       "      <td>367.000000</td>\n",
       "      <td>367.000000</td>\n",
       "      <td>362.000000</td>\n",
       "      <td>361.000000</td>\n",
       "      <td>338.000000</td>\n",
       "    </tr>\n",
       "    <tr>\n",
       "      <th>mean</th>\n",
       "      <td>4805.599455</td>\n",
       "      <td>1569.577657</td>\n",
       "      <td>136.132597</td>\n",
       "      <td>342.537396</td>\n",
       "      <td>0.825444</td>\n",
       "    </tr>\n",
       "    <tr>\n",
       "      <th>std</th>\n",
       "      <td>4910.685399</td>\n",
       "      <td>2334.232099</td>\n",
       "      <td>61.366652</td>\n",
       "      <td>65.156643</td>\n",
       "      <td>0.380150</td>\n",
       "    </tr>\n",
       "    <tr>\n",
       "      <th>min</th>\n",
       "      <td>0.000000</td>\n",
       "      <td>0.000000</td>\n",
       "      <td>28.000000</td>\n",
       "      <td>6.000000</td>\n",
       "      <td>0.000000</td>\n",
       "    </tr>\n",
       "    <tr>\n",
       "      <th>25%</th>\n",
       "      <td>2864.000000</td>\n",
       "      <td>0.000000</td>\n",
       "      <td>100.250000</td>\n",
       "      <td>360.000000</td>\n",
       "      <td>1.000000</td>\n",
       "    </tr>\n",
       "    <tr>\n",
       "      <th>50%</th>\n",
       "      <td>3786.000000</td>\n",
       "      <td>1025.000000</td>\n",
       "      <td>125.000000</td>\n",
       "      <td>360.000000</td>\n",
       "      <td>1.000000</td>\n",
       "    </tr>\n",
       "    <tr>\n",
       "      <th>75%</th>\n",
       "      <td>5060.000000</td>\n",
       "      <td>2430.500000</td>\n",
       "      <td>158.000000</td>\n",
       "      <td>360.000000</td>\n",
       "      <td>1.000000</td>\n",
       "    </tr>\n",
       "    <tr>\n",
       "      <th>max</th>\n",
       "      <td>72529.000000</td>\n",
       "      <td>24000.000000</td>\n",
       "      <td>550.000000</td>\n",
       "      <td>480.000000</td>\n",
       "      <td>1.000000</td>\n",
       "    </tr>\n",
       "  </tbody>\n",
       "</table>\n",
       "</div>"
      ],
      "text/plain": [
       "       ApplicantIncome  CoapplicantIncome  LoanAmount  Loan_Amount_Term  \\\n",
       "count       367.000000         367.000000  362.000000        361.000000   \n",
       "mean       4805.599455        1569.577657  136.132597        342.537396   \n",
       "std        4910.685399        2334.232099   61.366652         65.156643   \n",
       "min           0.000000           0.000000   28.000000          6.000000   \n",
       "25%        2864.000000           0.000000  100.250000        360.000000   \n",
       "50%        3786.000000        1025.000000  125.000000        360.000000   \n",
       "75%        5060.000000        2430.500000  158.000000        360.000000   \n",
       "max       72529.000000       24000.000000  550.000000        480.000000   \n",
       "\n",
       "       Credit_History  \n",
       "count      338.000000  \n",
       "mean         0.825444  \n",
       "std          0.380150  \n",
       "min          0.000000  \n",
       "25%          1.000000  \n",
       "50%          1.000000  \n",
       "75%          1.000000  \n",
       "max          1.000000  "
      ]
     },
     "execution_count": 156,
     "metadata": {},
     "output_type": "execute_result"
    }
   ],
   "source": [
    "test_data.describe()"
   ]
  },
  {
   "cell_type": "code",
   "execution_count": 157,
   "id": "daff123d",
   "metadata": {},
   "outputs": [
    {
     "data": {
      "text/plain": [
       "Loan_ID               0\n",
       "Gender               13\n",
       "Married               3\n",
       "Dependents           15\n",
       "Education             0\n",
       "Self_Employed        32\n",
       "ApplicantIncome       0\n",
       "CoapplicantIncome     0\n",
       "LoanAmount           22\n",
       "Loan_Amount_Term     14\n",
       "Credit_History       50\n",
       "Property_Area         0\n",
       "Loan_Status           0\n",
       "dtype: int64"
      ]
     },
     "execution_count": 157,
     "metadata": {},
     "output_type": "execute_result"
    }
   ],
   "source": [
    "#checking for missing values\n",
    "train_data.isnull().sum()"
   ]
  },
  {
   "cell_type": "code",
   "execution_count": 158,
   "id": "454774c6",
   "metadata": {},
   "outputs": [
    {
     "data": {
      "text/plain": [
       "Loan_ID               0\n",
       "Gender               11\n",
       "Married               0\n",
       "Dependents           10\n",
       "Education             0\n",
       "Self_Employed        23\n",
       "ApplicantIncome       0\n",
       "CoapplicantIncome     0\n",
       "LoanAmount            5\n",
       "Loan_Amount_Term      6\n",
       "Credit_History       29\n",
       "Property_Area         0\n",
       "dtype: int64"
      ]
     },
     "execution_count": 158,
     "metadata": {},
     "output_type": "execute_result"
    }
   ],
   "source": [
    "test_data.isnull().sum()"
   ]
  },
  {
   "cell_type": "markdown",
   "id": "dd7e1a9f",
   "metadata": {},
   "source": [
    "# EDA"
   ]
  },
  {
   "cell_type": "code",
   "execution_count": 159,
   "id": "c1922f5d",
   "metadata": {},
   "outputs": [
    {
     "data": {
      "text/plain": [
       "Y    0.687296\n",
       "N    0.312704\n",
       "Name: Loan_Status, dtype: float64"
      ]
     },
     "execution_count": 159,
     "metadata": {},
     "output_type": "execute_result"
    }
   ],
   "source": [
    "#analysing target column\n",
    "train_data['Loan_Status'].value_counts(normalize='True')"
   ]
  },
  {
   "cell_type": "code",
   "execution_count": 160,
   "id": "63d05c54",
   "metadata": {},
   "outputs": [
    {
     "data": {
      "text/plain": [
       "<AxesSubplot:>"
      ]
     },
     "execution_count": 160,
     "metadata": {},
     "output_type": "execute_result"
    },
    {
     "data": {
      "image/png": "[encoded data removed]",
      "text/plain": [
       "<Figure size 640x480 with 1 Axes>"
      ]
     },
     "metadata": {},
     "output_type": "display_data"
    }
   ],
   "source": [
    "train_data['Loan_Status'].value_counts(normalize='True').plot(kind='bar')"
   ]
  },
  {
   "cell_type": "code",
   "execution_count": 161,
   "id": "9bf415a7",
   "metadata": {},
   "outputs": [
    {
     "data": {
      "text/plain": [
       "['Loan_ID',\n",
       " 'Gender',\n",
       " 'Married',\n",
       " 'Dependents',\n",
       " 'Education',\n",
       " 'Self_Employed',\n",
       " 'Property_Area',\n",
       " 'Loan_Status']"
      ]
     },
     "execution_count": 161,
     "metadata": {},
     "output_type": "execute_result"
    }
   ],
   "source": [
    "categorical_features=[feature for feature in train_data.columns if train_data[feature].dtype =='O']\n",
    "categorical_features"
   ]
  },
  {
   "cell_type": "code",
   "execution_count": 162,
   "id": "51e2b514",
   "metadata": {},
   "outputs": [
    {
     "name": "stdout",
     "output_type": "stream",
     "text": [
      "Loan_ID : 614\n",
      "Gender : 3\n",
      "Married : 3\n",
      "Dependents : 5\n",
      "Education : 2\n",
      "Self_Employed : 3\n",
      "Property_Area : 3\n",
      "Loan_Status : 2\n"
     ]
    }
   ],
   "source": [
    "for column in categorical_features:\n",
    "    no_of_unique = len(train_data[column].unique())\n",
    "    print( column ,':' ,no_of_unique)   "
   ]
  },
  {
   "cell_type": "code",
   "execution_count": 163,
   "id": "db49300e",
   "metadata": {},
   "outputs": [],
   "source": [
    "cat=train_data[['Gender','Married','Education','Self_Employed','Property_Area','Loan_Status']]"
   ]
  },
  {
   "cell_type": "code",
   "execution_count": 164,
   "id": "e3aadb24",
   "metadata": {},
   "outputs": [
    {
     "data": {
      "image/png": "[encoded data removed]",
      "text/plain": [
       "<Figure size 700x1000 with 6 Axes>"
      ]
     },
     "metadata": {},
     "output_type": "display_data"
    }
   ],
   "source": [
    "plt.figure(figsize=(7,10))\n",
    "plotnumber =1\n",
    "for column in cat:\n",
    "    if plotnumber<=6:\n",
    "        ax=plt.subplot(3,2,plotnumber)\n",
    "        df=sns.countplot(cat[column])\n",
    "        plt.xlabel(column,fontsize=10)\n",
    "        for i in df.containers:\n",
    "             df.bar_label(i)\n",
    "    plotnumber+=1\n",
    "        \n",
    "plt.tight_layout()"
   ]
  },
  {
   "cell_type": "code",
   "execution_count": 165,
   "id": "6235eea0",
   "metadata": {},
   "outputs": [],
   "source": [
    "neumeric_cols=train_data[['ApplicantIncome','CoapplicantIncome','LoanAmount','Loan_Amount_Term']]"
   ]
  },
  {
   "cell_type": "code",
   "execution_count": 166,
   "id": "76d77a3c",
   "metadata": {},
   "outputs": [
    {
     "data": {
      "image/png": "[encoded data removed]",
      "text/plain": [
       "<Figure size 1000x500 with 4 Axes>"
      ]
     },
     "metadata": {},
     "output_type": "display_data"
    }
   ],
   "source": [
    "plt.figure(figsize=(10,5))\n",
    "plotnumber =1\n",
    "for column in neumeric_cols:\n",
    "    if plotnumber<=6:\n",
    "        ax=plt.subplot(2,3,plotnumber)\n",
    "        sns.histplot(neumeric_cols[column],kde=True)\n",
    "        plt.xlabel(column,fontsize=20)\n",
    "    plotnumber+=1\n",
    "plt.tight_layout()"
   ]
  },
  {
   "cell_type": "markdown",
   "id": "6fb64233",
   "metadata": {},
   "source": [
    "# Preprocessing"
   ]
  },
  {
   "cell_type": "markdown",
   "id": "ddbb0599",
   "metadata": {},
   "source": [
    "# null value handling"
   ]
  },
  {
   "cell_type": "code",
   "execution_count": 167,
   "id": "610ec310",
   "metadata": {},
   "outputs": [],
   "source": [
    "\n",
    "train_data['Gender']=train_data['Gender'].fillna(train_data['Gender'].mode()[0])\n",
    "test_data['Gender']=test_data['Gender'].fillna(test_data['Gender'].mode()[0])\n",
    "\n",
    "train_data['Married']=train_data['Married'].fillna(train_data['Married'].mode()[0])\n",
    "\n",
    "train_data['Dependents']=train_data['Dependents'].fillna(train_data['Dependents'].mode()[0])\n",
    "test_data['Dependents']=test_data['Dependents'].fillna(test_data['Dependents'].mode()[0])\n",
    "\n",
    "train_data['Self_Employed']=train_data['Self_Employed'].fillna(train_data['Self_Employed'].mode()[0])\n",
    "test_data['Self_Employed']=test_data['Self_Employed'].fillna(test_data['Self_Employed'].mode()[0])"
   ]
  },
  {
   "cell_type": "code",
   "execution_count": 168,
   "id": "76a94bbb",
   "metadata": {},
   "outputs": [],
   "source": [
    "# filling null values by mean in each group"
   ]
  },
  {
   "cell_type": "code",
   "execution_count": 169,
   "id": "f2376213",
   "metadata": {},
   "outputs": [
    {
     "data": {
      "text/plain": [
       "Loan_Status\n",
       "N    129.0\n",
       "Y    126.0\n",
       "Name: LoanAmount, dtype: float64"
      ]
     },
     "execution_count": 169,
     "metadata": {},
     "output_type": "execute_result"
    }
   ],
   "source": [
    "train_data.groupby(['Loan_Status'])['LoanAmount'].median()"
   ]
  },
  {
   "cell_type": "code",
   "execution_count": 170,
   "id": "6ac22519",
   "metadata": {},
   "outputs": [],
   "source": [
    "train_data['LoanAmount']=train_data.groupby('Loan_Status')['LoanAmount'].transform(lambda x : x.fillna(x.median()))\n",
    "test_data['LoanAmount']=test_data['LoanAmount'].fillna(test_data['LoanAmount'].median())\n",
    "\n",
    "train_data['Loan_Amount_Term']=train_data.groupby('Loan_Status')['Loan_Amount_Term'].transform(lambda x : x.fillna(x.median()))\n",
    "test_data['Loan_Amount_Term']=test_data['Loan_Amount_Term'].fillna(test_data['Loan_Amount_Term'].median())\n",
    "\n",
    "train_data['Credit_History']=train_data['Credit_History'].fillna(train_data['Credit_History'].mode()[0])\n",
    "test_data['Credit_History']=test_data['Credit_History'].fillna(test_data['Credit_History'].mode()[0])\n"
   ]
  },
  {
   "cell_type": "code",
   "execution_count": 171,
   "id": "95e73bfa",
   "metadata": {},
   "outputs": [
    {
     "data": {
      "text/plain": [
       "Loan_ID              0\n",
       "Gender               0\n",
       "Married              0\n",
       "Dependents           0\n",
       "Education            0\n",
       "Self_Employed        0\n",
       "ApplicantIncome      0\n",
       "CoapplicantIncome    0\n",
       "LoanAmount           0\n",
       "Loan_Amount_Term     0\n",
       "Credit_History       0\n",
       "Property_Area        0\n",
       "Loan_Status          0\n",
       "dtype: int64"
      ]
     },
     "execution_count": 171,
     "metadata": {},
     "output_type": "execute_result"
    }
   ],
   "source": [
    "train_data.isnull().sum()"
   ]
  },
  {
   "cell_type": "code",
   "execution_count": 172,
   "id": "2d8e14c0",
   "metadata": {},
   "outputs": [
    {
     "data": {
      "text/plain": [
       "Loan_ID              0\n",
       "Gender               0\n",
       "Married              0\n",
       "Dependents           0\n",
       "Education            0\n",
       "Self_Employed        0\n",
       "ApplicantIncome      0\n",
       "CoapplicantIncome    0\n",
       "LoanAmount           0\n",
       "Loan_Amount_Term     0\n",
       "Credit_History       0\n",
       "Property_Area        0\n",
       "dtype: int64"
      ]
     },
     "execution_count": 172,
     "metadata": {},
     "output_type": "execute_result"
    }
   ],
   "source": [
    "test_data.isnull().sum()"
   ]
  },
  {
   "cell_type": "code",
   "execution_count": 173,
   "id": "78bf3964",
   "metadata": {},
   "outputs": [],
   "source": [
    "train_data['Dependents']=train_data['Dependents'].replace('3+','3')\n",
    "test_data['Dependents']=test_data['Dependents'].replace('3+','3')"
   ]
  },
  {
   "cell_type": "code",
   "execution_count": 174,
   "id": "788240c3",
   "metadata": {},
   "outputs": [],
   "source": [
    "train_data['Dependents']=train_data['Dependents'].astype(int)\n",
    "test_data['Dependents']=test_data['Dependents'].astype(int)"
   ]
  },
  {
   "cell_type": "code",
   "execution_count": 175,
   "id": "006a0c0e",
   "metadata": {},
   "outputs": [
    {
     "name": "stdout",
     "output_type": "stream",
     "text": [
      "<class 'pandas.core.frame.DataFrame'>\n",
      "RangeIndex: 614 entries, 0 to 613\n",
      "Data columns (total 13 columns):\n",
      " #   Column             Non-Null Count  Dtype  \n",
      "---  ------             --------------  -----  \n",
      " 0   Loan_ID            614 non-null    object \n",
      " 1   Gender             614 non-null    object \n",
      " 2   Married            614 non-null    object \n",
      " 3   Dependents         614 non-null    int32  \n",
      " 4   Education          614 non-null    object \n",
      " 5   Self_Employed      614 non-null    object \n",
      " 6   ApplicantIncome    614 non-null    int64  \n",
      " 7   CoapplicantIncome  614 non-null    float64\n",
      " 8   LoanAmount         614 non-null    float64\n",
      " 9   Loan_Amount_Term   614 non-null    float64\n",
      " 10  Credit_History     614 non-null    float64\n",
      " 11  Property_Area      614 non-null    object \n",
      " 12  Loan_Status        614 non-null    object \n",
      "dtypes: float64(4), int32(1), int64(1), object(7)\n",
      "memory usage: 60.1+ KB\n"
     ]
    }
   ],
   "source": [
    "train_data.info()"
   ]
  },
  {
   "cell_type": "markdown",
   "id": "a029a989",
   "metadata": {},
   "source": [
    "# Handling Outliers"
   ]
  },
  {
   "cell_type": "code",
   "execution_count": 176,
   "id": "78c9bb1c",
   "metadata": {},
   "outputs": [
    {
     "data": {
      "image/png": "[encoded data removed]",
      "text/plain": [
       "<Figure size 1500x1500 with 4 Axes>"
      ]
     },
     "metadata": {},
     "output_type": "display_data"
    }
   ],
   "source": [
    "plt.figure(figsize=(15,15))\n",
    "plotnumber =1\n",
    "for column in neumeric_cols:\n",
    "    if plotnumber<=15:\n",
    "        ax=plt.subplot(4,3,plotnumber)\n",
    "        sns.boxplot(x=neumeric_cols[column],data=train_data)\n",
    "        plt.xlabel(column,fontsize=20)\n",
    "    plotnumber+=1\n",
    "plt.tight_layout()"
   ]
  },
  {
   "cell_type": "code",
   "execution_count": 177,
   "id": "5bb82565",
   "metadata": {},
   "outputs": [
    {
     "data": {
      "image/png": "[encoded data removed]",
      "text/plain": [
       "<Figure size 1500x1500 with 4 Axes>"
      ]
     },
     "metadata": {},
     "output_type": "display_data"
    }
   ],
   "source": [
    "plt.figure(figsize=(15,15))\n",
    "plotnumber =1\n",
    "for column in neumeric_cols:\n",
    "    if plotnumber<=15:\n",
    "        ax=plt.subplot(4,3,plotnumber)\n",
    "        sns.boxplot(x=neumeric_cols[column],data=test_data)\n",
    "        plt.xlabel(column,fontsize=20)\n",
    "    plotnumber+=1\n",
    "plt.tight_layout()"
   ]
  },
  {
   "cell_type": "code",
   "execution_count": 178,
   "id": "200af6d1",
   "metadata": {},
   "outputs": [],
   "source": [
    "#finding outliers using IQR method"
   ]
  },
  {
   "cell_type": "code",
   "execution_count": 179,
   "id": "ec1ae25c",
   "metadata": {},
   "outputs": [
    {
     "name": "stdout",
     "output_type": "stream",
     "text": [
      "q1,q2,q3 is : 2877.5 3812.5 5795.0\n",
      "IQR is : 2917.5\n",
      "lower =  -1498.75\n",
      "upper =  10171.25\n",
      "50\n"
     ]
    }
   ],
   "source": [
    "# Detecting and handling outliers in applicant income  \n",
    "q1,q2,q3 = np.percentile(train_data['ApplicantIncome'],[25,50,75])\n",
    "print(\"q1,q2,q3 is :\",q1,q2,q3)\n",
    "IQR = q3-q1\n",
    "print(\"IQR is :\" ,IQR)\n",
    "lower_limit = q1-(1.5*IQR)\n",
    "upper_limit = q3+(1.5*IQR)\n",
    "print(\"lower = \" ,lower_limit)\n",
    "print(\"upper = \" ,upper_limit)\n",
    "outlier = []\n",
    "for i in train_data['ApplicantIncome']:\n",
    "    if ((i>upper_limit) or (i<lower_limit)):\n",
    "        outlier.append(i)\n",
    "print(len(outlier))"
   ]
  },
  {
   "cell_type": "code",
   "execution_count": 180,
   "id": "5ab5ef4d",
   "metadata": {},
   "outputs": [
    {
     "name": "stdout",
     "output_type": "stream",
     "text": [
      "q1,q2,q3 is : 2864.0 3786.0 5060.0\n",
      "IQR is : 2196.0\n",
      "lower =  -430.0\n",
      "upper =  8354.0\n",
      "32\n"
     ]
    }
   ],
   "source": [
    "# Detecting and handling outliers in applicant income  \n",
    "q1,q2,q3 = np.percentile(test_data['ApplicantIncome'],[25,50,75])\n",
    "print(\"q1,q2,q3 is :\",q1,q2,q3)\n",
    "IQR = q3-q1\n",
    "print(\"IQR is :\" ,IQR)\n",
    "lower_limit = q1-(1.5*IQR)\n",
    "upper_limit = q3+(1.5*IQR)\n",
    "print(\"lower = \" ,lower_limit)\n",
    "print(\"upper = \" ,upper_limit)\n",
    "outlier = []\n",
    "for i in test_data['ApplicantIncome']:\n",
    "    if ((i>upper_limit) or (i<lower_limit)):\n",
    "        outlier.append(i)\n",
    "print(len(outlier))"
   ]
  },
  {
   "cell_type": "code",
   "execution_count": 181,
   "id": "2cc0a800",
   "metadata": {},
   "outputs": [
    {
     "name": "stdout",
     "output_type": "stream",
     "text": [
      "q1,q2,q3 is : 0.0 1188.5 2297.25\n",
      "IQR is : 2297.25\n",
      "lower =  -3445.875\n",
      "upper =  5743.125\n",
      "18\n"
     ]
    }
   ],
   "source": [
    "# Detecting and handling outliers in coapplicant income  \n",
    "q1,q2,q3 = np.percentile(train_data['CoapplicantIncome'],[25,50,75])\n",
    "print(\"q1,q2,q3 is :\",q1,q2,q3)\n",
    "IQR = q3-q1\n",
    "print(\"IQR is :\" ,IQR)\n",
    "lower_limit = q1-(1.5*IQR)\n",
    "upper_limit = q3+(1.5*IQR)\n",
    "print(\"lower = \" ,lower_limit)\n",
    "print(\"upper = \" ,upper_limit)\n",
    "outlier = []\n",
    "for i in train_data['CoapplicantIncome']:\n",
    "    if ((i>upper_limit) or (i<lower_limit)):\n",
    "        outlier.append(i)\n",
    "print(len(outlier))"
   ]
  },
  {
   "cell_type": "code",
   "execution_count": 182,
   "id": "090ce1d5",
   "metadata": {},
   "outputs": [
    {
     "name": "stdout",
     "output_type": "stream",
     "text": [
      "q1,q2,q3 is : 0.0 1025.0 2430.5\n",
      "IQR is : 2430.5\n",
      "lower =  -3645.75\n",
      "upper =  6076.25\n",
      "8\n"
     ]
    }
   ],
   "source": [
    "# Detecting and handling outliers in coapplicant income  \n",
    "q1,q2,q3 = np.percentile(test_data['CoapplicantIncome'],[25,50,75])\n",
    "print(\"q1,q2,q3 is :\",q1,q2,q3)\n",
    "IQR = q3-q1\n",
    "print(\"IQR is :\" ,IQR)\n",
    "lower_limit = q1-(1.5*IQR)\n",
    "upper_limit = q3+(1.5*IQR)\n",
    "print(\"lower = \" ,lower_limit)\n",
    "print(\"upper = \" ,upper_limit)\n",
    "outlier = []\n",
    "for i in test_data['CoapplicantIncome']:\n",
    "    if ((i>upper_limit) or (i<lower_limit)):\n",
    "        outlier.append(i)\n",
    "print(len(outlier))"
   ]
  },
  {
   "cell_type": "code",
   "execution_count": 183,
   "id": "6cc2d932",
   "metadata": {},
   "outputs": [
    {
     "name": "stdout",
     "output_type": "stream",
     "text": [
      "q1,q2,q3 is : 100.25 128.0 164.75\n",
      "IQR is : 64.5\n",
      "lower =  3.5\n",
      "upper =  261.5\n",
      "41\n"
     ]
    }
   ],
   "source": [
    "# Detecting and handling outliers in LoanAmount \n",
    "q1,q2,q3 = np.percentile(train_data['LoanAmount'],[25,50,75])\n",
    "print(\"q1,q2,q3 is :\",q1,q2,q3)\n",
    "IQR = q3-q1\n",
    "print(\"IQR is :\" ,IQR)\n",
    "lower_limit = q1-(1.5*IQR)\n",
    "upper_limit = q3+(1.5*IQR)\n",
    "print(\"lower = \" ,lower_limit)\n",
    "print(\"upper = \" ,upper_limit)\n",
    "outlier = []\n",
    "for i in train_data['LoanAmount']:\n",
    "    if ((i>upper_limit) or (i<lower_limit)):\n",
    "        outlier.append(i)\n",
    "print(len(outlier))"
   ]
  },
  {
   "cell_type": "code",
   "execution_count": 184,
   "id": "2218a54a",
   "metadata": {},
   "outputs": [
    {
     "name": "stdout",
     "output_type": "stream",
     "text": [
      "q1,q2,q3 is : 101.0 125.0 157.5\n",
      "IQR is : 56.5\n",
      "lower =  16.25\n",
      "upper =  242.25\n",
      "18\n"
     ]
    }
   ],
   "source": [
    "# Detecting and handling outliers in LoanAmount \n",
    "q1,q2,q3 = np.percentile(test_data['LoanAmount'],[25,50,75])\n",
    "print(\"q1,q2,q3 is :\",q1,q2,q3)\n",
    "IQR = q3-q1\n",
    "print(\"IQR is :\" ,IQR)\n",
    "lower_limit = q1-(1.5*IQR)\n",
    "upper_limit = q3+(1.5*IQR)\n",
    "print(\"lower = \" ,lower_limit)\n",
    "print(\"upper = \" ,upper_limit)\n",
    "outlier = []\n",
    "for i in test_data['LoanAmount']:\n",
    "    if ((i>upper_limit) or (i<lower_limit)):\n",
    "        outlier.append(i)\n",
    "print(len(outlier))"
   ]
  },
  {
   "cell_type": "code",
   "execution_count": 185,
   "id": "54a033c0",
   "metadata": {},
   "outputs": [
    {
     "name": "stdout",
     "output_type": "stream",
     "text": [
      "q1,q2,q3 is : 360.0 360.0 360.0\n",
      "IQR is : 0.0\n",
      "lower =  360.0\n",
      "upper =  360.0\n",
      "88\n"
     ]
    }
   ],
   "source": [
    "# Detecting and handling outliers in coapplicant term  \n",
    "q1,q2,q3 = np.percentile(train_data['Loan_Amount_Term'],[25,50,75])\n",
    "print(\"q1,q2,q3 is :\",q1,q2,q3)\n",
    "IQR = q3-q1\n",
    "print(\"IQR is :\" ,IQR)\n",
    "lower_limit = q1-(1.5*IQR)\n",
    "upper_limit = q3+(1.5*IQR)\n",
    "print(\"lower = \" ,lower_limit)\n",
    "print(\"upper = \" ,upper_limit)\n",
    "outlier = []\n",
    "for i in train_data['Loan_Amount_Term']:\n",
    "    if ((i>upper_limit) or (i<lower_limit)):\n",
    "        outlier.append(i)\n",
    "print(len(outlier))"
   ]
  },
  {
   "cell_type": "code",
   "execution_count": 186,
   "id": "cacbf2e8",
   "metadata": {},
   "outputs": [
    {
     "name": "stdout",
     "output_type": "stream",
     "text": [
      "q1,q2,q3 is : 360.0 360.0 360.0\n",
      "IQR is : 0.0\n",
      "lower =  360.0\n",
      "upper =  360.0\n",
      "50\n"
     ]
    }
   ],
   "source": [
    "# Detecting and handling outliers in coapplicant term  \n",
    "q1,q2,q3 = np.percentile(test_data['Loan_Amount_Term'],[25,50,75])\n",
    "print(\"q1,q2,q3 is :\",q1,q2,q3)\n",
    "IQR = q3-q1\n",
    "print(\"IQR is :\" ,IQR)\n",
    "lower_limit = q1-(1.5*IQR)\n",
    "upper_limit = q3+(1.5*IQR)\n",
    "print(\"lower = \" ,lower_limit)\n",
    "print(\"upper = \" ,upper_limit)\n",
    "outlier = []\n",
    "for i in test_data['Loan_Amount_Term']:\n",
    "    if ((i>upper_limit) or (i<lower_limit)):\n",
    "        outlier.append(i)\n",
    "print(len(outlier))"
   ]
  },
  {
   "cell_type": "code",
   "execution_count": 187,
   "id": "520832b5",
   "metadata": {},
   "outputs": [],
   "source": [
    "# the details in these columns may be genuine"
   ]
  },
  {
   "cell_type": "markdown",
   "id": "e67fe13b",
   "metadata": {},
   "source": [
    "# Feature Engineering"
   ]
  },
  {
   "cell_type": "code",
   "execution_count": 188,
   "id": "23dbcf75",
   "metadata": {},
   "outputs": [
    {
     "data": {
      "text/plain": [
       "Index(['Loan_ID', 'Gender', 'Married', 'Dependents', 'Education',\n",
       "       'Self_Employed', 'ApplicantIncome', 'CoapplicantIncome', 'LoanAmount',\n",
       "       'Loan_Amount_Term', 'Credit_History', 'Property_Area', 'Loan_Status'],\n",
       "      dtype='object')"
      ]
     },
     "execution_count": 188,
     "metadata": {},
     "output_type": "execute_result"
    }
   ],
   "source": [
    "train_data.columns"
   ]
  },
  {
   "cell_type": "code",
   "execution_count": 189,
   "id": "288a0084",
   "metadata": {},
   "outputs": [],
   "source": [
    "train_data['total_income']=train_data['ApplicantIncome']+train_data['CoapplicantIncome']\n",
    "test_data['total_income']=test_data['ApplicantIncome']+test_data['CoapplicantIncome']"
   ]
  },
  {
   "cell_type": "code",
   "execution_count": 190,
   "id": "fbab2fd2",
   "metadata": {},
   "outputs": [],
   "source": [
    "train_data['total_income_by_loanAmt'] = train_data['total_income'] / train_data['LoanAmount']\n",
    "train_data['ApplicantIncome_by_loanAmt'] = train_data['ApplicantIncome'] / train_data['LoanAmount']\n",
    "train_data['Loan_Amount_Term_By_amt'] = train_data['LoanAmount'] / train_data['Loan_Amount_Term']"
   ]
  },
  {
   "cell_type": "code",
   "execution_count": 191,
   "id": "6d45d420",
   "metadata": {},
   "outputs": [],
   "source": [
    "test_data['total_income_by_loanAmt'] = test_data['total_income'] / test_data['LoanAmount']\n",
    "test_data['ApplicantIncome_by_loanAmt'] = test_data['ApplicantIncome'] / test_data['LoanAmount']\n",
    "test_data['Loan_Amount_Term_By_amt'] = test_data['LoanAmount'] / test_data['Loan_Amount_Term']"
   ]
  },
  {
   "cell_type": "code",
   "execution_count": 192,
   "id": "50c14f05",
   "metadata": {},
   "outputs": [],
   "source": [
    "train_data=train_data.drop(['Loan_ID','ApplicantIncome','CoapplicantIncome'],axis=1)\n",
    "test_data=test_data.drop(['Loan_ID','ApplicantIncome','CoapplicantIncome'],axis=1)"
   ]
  },
  {
   "cell_type": "code",
   "execution_count": 193,
   "id": "9f6428fc",
   "metadata": {},
   "outputs": [
    {
     "data": {
      "text/html": [
       "<div>\n",
       "<style scoped>\n",
       "    .dataframe tbody tr th:only-of-type {\n",
       "        vertical-align: middle;\n",
       "    }\n",
       "\n",
       "    .dataframe tbody tr th {\n",
       "        vertical-align: top;\n",
       "    }\n",
       "\n",
       "    .dataframe thead th {\n",
       "        text-align: right;\n",
       "    }\n",
       "</style>\n",
       "<table border=\"1\" class=\"dataframe\">\n",
       "  <thead>\n",
       "    <tr style=\"text-align: right;\">\n",
       "      <th></th>\n",
       "      <th>Gender</th>\n",
       "      <th>Married</th>\n",
       "      <th>Dependents</th>\n",
       "      <th>Education</th>\n",
       "      <th>Self_Employed</th>\n",
       "      <th>LoanAmount</th>\n",
       "      <th>Loan_Amount_Term</th>\n",
       "      <th>Credit_History</th>\n",
       "      <th>Property_Area</th>\n",
       "      <th>Loan_Status</th>\n",
       "      <th>total_income</th>\n",
       "      <th>total_income_by_loanAmt</th>\n",
       "      <th>ApplicantIncome_by_loanAmt</th>\n",
       "      <th>Loan_Amount_Term_By_amt</th>\n",
       "    </tr>\n",
       "  </thead>\n",
       "  <tbody>\n",
       "    <tr>\n",
       "      <th>0</th>\n",
       "      <td>Male</td>\n",
       "      <td>No</td>\n",
       "      <td>0</td>\n",
       "      <td>Graduate</td>\n",
       "      <td>No</td>\n",
       "      <td>126.0</td>\n",
       "      <td>360.0</td>\n",
       "      <td>1.0</td>\n",
       "      <td>Urban</td>\n",
       "      <td>Y</td>\n",
       "      <td>5849.0</td>\n",
       "      <td>46.420635</td>\n",
       "      <td>46.420635</td>\n",
       "      <td>0.350000</td>\n",
       "    </tr>\n",
       "    <tr>\n",
       "      <th>1</th>\n",
       "      <td>Male</td>\n",
       "      <td>Yes</td>\n",
       "      <td>1</td>\n",
       "      <td>Graduate</td>\n",
       "      <td>No</td>\n",
       "      <td>128.0</td>\n",
       "      <td>360.0</td>\n",
       "      <td>1.0</td>\n",
       "      <td>Rural</td>\n",
       "      <td>N</td>\n",
       "      <td>6091.0</td>\n",
       "      <td>47.585938</td>\n",
       "      <td>35.804688</td>\n",
       "      <td>0.355556</td>\n",
       "    </tr>\n",
       "    <tr>\n",
       "      <th>2</th>\n",
       "      <td>Male</td>\n",
       "      <td>Yes</td>\n",
       "      <td>0</td>\n",
       "      <td>Graduate</td>\n",
       "      <td>Yes</td>\n",
       "      <td>66.0</td>\n",
       "      <td>360.0</td>\n",
       "      <td>1.0</td>\n",
       "      <td>Urban</td>\n",
       "      <td>Y</td>\n",
       "      <td>3000.0</td>\n",
       "      <td>45.454545</td>\n",
       "      <td>45.454545</td>\n",
       "      <td>0.183333</td>\n",
       "    </tr>\n",
       "    <tr>\n",
       "      <th>3</th>\n",
       "      <td>Male</td>\n",
       "      <td>Yes</td>\n",
       "      <td>0</td>\n",
       "      <td>Not Graduate</td>\n",
       "      <td>No</td>\n",
       "      <td>120.0</td>\n",
       "      <td>360.0</td>\n",
       "      <td>1.0</td>\n",
       "      <td>Urban</td>\n",
       "      <td>Y</td>\n",
       "      <td>4941.0</td>\n",
       "      <td>41.175000</td>\n",
       "      <td>21.525000</td>\n",
       "      <td>0.333333</td>\n",
       "    </tr>\n",
       "  </tbody>\n",
       "</table>\n",
       "</div>"
      ],
      "text/plain": [
       "  Gender Married  Dependents     Education Self_Employed  LoanAmount  \\\n",
       "0   Male      No           0      Graduate            No       126.0   \n",
       "1   Male     Yes           1      Graduate            No       128.0   \n",
       "2   Male     Yes           0      Graduate           Yes        66.0   \n",
       "3   Male     Yes           0  Not Graduate            No       120.0   \n",
       "\n",
       "   Loan_Amount_Term  Credit_History Property_Area Loan_Status  total_income  \\\n",
       "0             360.0             1.0         Urban           Y        5849.0   \n",
       "1             360.0             1.0         Rural           N        6091.0   \n",
       "2             360.0             1.0         Urban           Y        3000.0   \n",
       "3             360.0             1.0         Urban           Y        4941.0   \n",
       "\n",
       "   total_income_by_loanAmt  ApplicantIncome_by_loanAmt  \\\n",
       "0                46.420635                   46.420635   \n",
       "1                47.585938                   35.804688   \n",
       "2                45.454545                   45.454545   \n",
       "3                41.175000                   21.525000   \n",
       "\n",
       "   Loan_Amount_Term_By_amt  \n",
       "0                 0.350000  \n",
       "1                 0.355556  \n",
       "2                 0.183333  \n",
       "3                 0.333333  "
      ]
     },
     "execution_count": 193,
     "metadata": {},
     "output_type": "execute_result"
    }
   ],
   "source": [
    "train_data.head(4)"
   ]
  },
  {
   "cell_type": "code",
   "execution_count": 194,
   "id": "dd3a8505",
   "metadata": {},
   "outputs": [
    {
     "data": {
      "text/html": [
       "<div>\n",
       "<style scoped>\n",
       "    .dataframe tbody tr th:only-of-type {\n",
       "        vertical-align: middle;\n",
       "    }\n",
       "\n",
       "    .dataframe tbody tr th {\n",
       "        vertical-align: top;\n",
       "    }\n",
       "\n",
       "    .dataframe thead th {\n",
       "        text-align: right;\n",
       "    }\n",
       "</style>\n",
       "<table border=\"1\" class=\"dataframe\">\n",
       "  <thead>\n",
       "    <tr style=\"text-align: right;\">\n",
       "      <th></th>\n",
       "      <th>Gender</th>\n",
       "      <th>Married</th>\n",
       "      <th>Dependents</th>\n",
       "      <th>Education</th>\n",
       "      <th>Self_Employed</th>\n",
       "      <th>LoanAmount</th>\n",
       "      <th>Loan_Amount_Term</th>\n",
       "      <th>Credit_History</th>\n",
       "      <th>Property_Area</th>\n",
       "      <th>total_income</th>\n",
       "      <th>total_income_by_loanAmt</th>\n",
       "      <th>ApplicantIncome_by_loanAmt</th>\n",
       "      <th>Loan_Amount_Term_By_amt</th>\n",
       "    </tr>\n",
       "  </thead>\n",
       "  <tbody>\n",
       "    <tr>\n",
       "      <th>0</th>\n",
       "      <td>Male</td>\n",
       "      <td>Yes</td>\n",
       "      <td>0</td>\n",
       "      <td>Graduate</td>\n",
       "      <td>No</td>\n",
       "      <td>110.0</td>\n",
       "      <td>360.0</td>\n",
       "      <td>1.0</td>\n",
       "      <td>Urban</td>\n",
       "      <td>5720</td>\n",
       "      <td>52.000000</td>\n",
       "      <td>52.000000</td>\n",
       "      <td>0.305556</td>\n",
       "    </tr>\n",
       "    <tr>\n",
       "      <th>1</th>\n",
       "      <td>Male</td>\n",
       "      <td>Yes</td>\n",
       "      <td>1</td>\n",
       "      <td>Graduate</td>\n",
       "      <td>No</td>\n",
       "      <td>126.0</td>\n",
       "      <td>360.0</td>\n",
       "      <td>1.0</td>\n",
       "      <td>Urban</td>\n",
       "      <td>4576</td>\n",
       "      <td>36.317460</td>\n",
       "      <td>24.412698</td>\n",
       "      <td>0.350000</td>\n",
       "    </tr>\n",
       "    <tr>\n",
       "      <th>2</th>\n",
       "      <td>Male</td>\n",
       "      <td>Yes</td>\n",
       "      <td>2</td>\n",
       "      <td>Graduate</td>\n",
       "      <td>No</td>\n",
       "      <td>208.0</td>\n",
       "      <td>360.0</td>\n",
       "      <td>1.0</td>\n",
       "      <td>Urban</td>\n",
       "      <td>6800</td>\n",
       "      <td>32.692308</td>\n",
       "      <td>24.038462</td>\n",
       "      <td>0.577778</td>\n",
       "    </tr>\n",
       "    <tr>\n",
       "      <th>3</th>\n",
       "      <td>Male</td>\n",
       "      <td>Yes</td>\n",
       "      <td>2</td>\n",
       "      <td>Graduate</td>\n",
       "      <td>No</td>\n",
       "      <td>100.0</td>\n",
       "      <td>360.0</td>\n",
       "      <td>1.0</td>\n",
       "      <td>Urban</td>\n",
       "      <td>4886</td>\n",
       "      <td>48.860000</td>\n",
       "      <td>23.400000</td>\n",
       "      <td>0.277778</td>\n",
       "    </tr>\n",
       "  </tbody>\n",
       "</table>\n",
       "</div>"
      ],
      "text/plain": [
       "  Gender Married  Dependents Education Self_Employed  LoanAmount  \\\n",
       "0   Male     Yes           0  Graduate            No       110.0   \n",
       "1   Male     Yes           1  Graduate            No       126.0   \n",
       "2   Male     Yes           2  Graduate            No       208.0   \n",
       "3   Male     Yes           2  Graduate            No       100.0   \n",
       "\n",
       "   Loan_Amount_Term  Credit_History Property_Area  total_income  \\\n",
       "0             360.0             1.0         Urban          5720   \n",
       "1             360.0             1.0         Urban          4576   \n",
       "2             360.0             1.0         Urban          6800   \n",
       "3             360.0             1.0         Urban          4886   \n",
       "\n",
       "   total_income_by_loanAmt  ApplicantIncome_by_loanAmt  \\\n",
       "0                52.000000                   52.000000   \n",
       "1                36.317460                   24.412698   \n",
       "2                32.692308                   24.038462   \n",
       "3                48.860000                   23.400000   \n",
       "\n",
       "   Loan_Amount_Term_By_amt  \n",
       "0                 0.305556  \n",
       "1                 0.350000  \n",
       "2                 0.577778  \n",
       "3                 0.277778  "
      ]
     },
     "execution_count": 194,
     "metadata": {},
     "output_type": "execute_result"
    }
   ],
   "source": [
    "test_data.head(4)"
   ]
  },
  {
   "cell_type": "code",
   "execution_count": 195,
   "id": "0953f3d8",
   "metadata": {},
   "outputs": [
    {
     "data": {
      "text/plain": [
       "<AxesSubplot:>"
      ]
     },
     "execution_count": 195,
     "metadata": {},
     "output_type": "execute_result"
    },
    {
     "data": {
      "image/png": "[encoded data removed]",
      "text/plain": [
       "<Figure size 2000x800 with 2 Axes>"
      ]
     },
     "metadata": {},
     "output_type": "display_data"
    }
   ],
   "source": [
    "corrmatrix=train_data.corr()\n",
    "plt.subplots(figsize=(20,8))\n",
    "sns.heatmap(corrmatrix,vmin=-1,vmax=1,annot=True,linewidth=.2,cmap='YlGnBu')"
   ]
  },
  {
   "cell_type": "markdown",
   "id": "bc7d1f83",
   "metadata": {},
   "source": [
    "# Encoding"
   ]
  },
  {
   "cell_type": "code",
   "execution_count": 196,
   "id": "d3e1ec18",
   "metadata": {},
   "outputs": [
    {
     "data": {
      "text/html": [
       "<div>\n",
       "<style scoped>\n",
       "    .dataframe tbody tr th:only-of-type {\n",
       "        vertical-align: middle;\n",
       "    }\n",
       "\n",
       "    .dataframe tbody tr th {\n",
       "        vertical-align: top;\n",
       "    }\n",
       "\n",
       "    .dataframe thead th {\n",
       "        text-align: right;\n",
       "    }\n",
       "</style>\n",
       "<table border=\"1\" class=\"dataframe\">\n",
       "  <thead>\n",
       "    <tr style=\"text-align: right;\">\n",
       "      <th></th>\n",
       "      <th>Dependents</th>\n",
       "      <th>LoanAmount</th>\n",
       "      <th>Loan_Amount_Term</th>\n",
       "      <th>Credit_History</th>\n",
       "      <th>total_income</th>\n",
       "      <th>total_income_by_loanAmt</th>\n",
       "      <th>ApplicantIncome_by_loanAmt</th>\n",
       "      <th>Loan_Amount_Term_By_amt</th>\n",
       "      <th>Gender_Male</th>\n",
       "      <th>Married_Yes</th>\n",
       "      <th>Education_Not Graduate</th>\n",
       "      <th>Self_Employed_Yes</th>\n",
       "      <th>Property_Area_Semiurban</th>\n",
       "      <th>Property_Area_Urban</th>\n",
       "      <th>Loan_Status_Y</th>\n",
       "    </tr>\n",
       "  </thead>\n",
       "  <tbody>\n",
       "    <tr>\n",
       "      <th>0</th>\n",
       "      <td>0</td>\n",
       "      <td>126.0</td>\n",
       "      <td>360.0</td>\n",
       "      <td>1.0</td>\n",
       "      <td>5849.0</td>\n",
       "      <td>46.420635</td>\n",
       "      <td>46.420635</td>\n",
       "      <td>0.350000</td>\n",
       "      <td>1</td>\n",
       "      <td>0</td>\n",
       "      <td>0</td>\n",
       "      <td>0</td>\n",
       "      <td>0</td>\n",
       "      <td>1</td>\n",
       "      <td>1</td>\n",
       "    </tr>\n",
       "    <tr>\n",
       "      <th>1</th>\n",
       "      <td>1</td>\n",
       "      <td>128.0</td>\n",
       "      <td>360.0</td>\n",
       "      <td>1.0</td>\n",
       "      <td>6091.0</td>\n",
       "      <td>47.585938</td>\n",
       "      <td>35.804688</td>\n",
       "      <td>0.355556</td>\n",
       "      <td>1</td>\n",
       "      <td>1</td>\n",
       "      <td>0</td>\n",
       "      <td>0</td>\n",
       "      <td>0</td>\n",
       "      <td>0</td>\n",
       "      <td>0</td>\n",
       "    </tr>\n",
       "    <tr>\n",
       "      <th>2</th>\n",
       "      <td>0</td>\n",
       "      <td>66.0</td>\n",
       "      <td>360.0</td>\n",
       "      <td>1.0</td>\n",
       "      <td>3000.0</td>\n",
       "      <td>45.454545</td>\n",
       "      <td>45.454545</td>\n",
       "      <td>0.183333</td>\n",
       "      <td>1</td>\n",
       "      <td>1</td>\n",
       "      <td>0</td>\n",
       "      <td>1</td>\n",
       "      <td>0</td>\n",
       "      <td>1</td>\n",
       "      <td>1</td>\n",
       "    </tr>\n",
       "    <tr>\n",
       "      <th>3</th>\n",
       "      <td>0</td>\n",
       "      <td>120.0</td>\n",
       "      <td>360.0</td>\n",
       "      <td>1.0</td>\n",
       "      <td>4941.0</td>\n",
       "      <td>41.175000</td>\n",
       "      <td>21.525000</td>\n",
       "      <td>0.333333</td>\n",
       "      <td>1</td>\n",
       "      <td>1</td>\n",
       "      <td>1</td>\n",
       "      <td>0</td>\n",
       "      <td>0</td>\n",
       "      <td>1</td>\n",
       "      <td>1</td>\n",
       "    </tr>\n",
       "    <tr>\n",
       "      <th>4</th>\n",
       "      <td>0</td>\n",
       "      <td>141.0</td>\n",
       "      <td>360.0</td>\n",
       "      <td>1.0</td>\n",
       "      <td>6000.0</td>\n",
       "      <td>42.553191</td>\n",
       "      <td>42.553191</td>\n",
       "      <td>0.391667</td>\n",
       "      <td>1</td>\n",
       "      <td>0</td>\n",
       "      <td>0</td>\n",
       "      <td>0</td>\n",
       "      <td>0</td>\n",
       "      <td>1</td>\n",
       "      <td>1</td>\n",
       "    </tr>\n",
       "  </tbody>\n",
       "</table>\n",
       "</div>"
      ],
      "text/plain": [
       "   Dependents  LoanAmount  Loan_Amount_Term  Credit_History  total_income  \\\n",
       "0           0       126.0             360.0             1.0        5849.0   \n",
       "1           1       128.0             360.0             1.0        6091.0   \n",
       "2           0        66.0             360.0             1.0        3000.0   \n",
       "3           0       120.0             360.0             1.0        4941.0   \n",
       "4           0       141.0             360.0             1.0        6000.0   \n",
       "\n",
       "   total_income_by_loanAmt  ApplicantIncome_by_loanAmt  \\\n",
       "0                46.420635                   46.420635   \n",
       "1                47.585938                   35.804688   \n",
       "2                45.454545                   45.454545   \n",
       "3                41.175000                   21.525000   \n",
       "4                42.553191                   42.553191   \n",
       "\n",
       "   Loan_Amount_Term_By_amt  Gender_Male  Married_Yes  Education_Not Graduate  \\\n",
       "0                 0.350000            1            0                       0   \n",
       "1                 0.355556            1            1                       0   \n",
       "2                 0.183333            1            1                       0   \n",
       "3                 0.333333            1            1                       1   \n",
       "4                 0.391667            1            0                       0   \n",
       "\n",
       "   Self_Employed_Yes  Property_Area_Semiurban  Property_Area_Urban  \\\n",
       "0                  0                        0                    1   \n",
       "1                  0                        0                    0   \n",
       "2                  1                        0                    1   \n",
       "3                  0                        0                    1   \n",
       "4                  0                        0                    1   \n",
       "\n",
       "   Loan_Status_Y  \n",
       "0              1  \n",
       "1              0  \n",
       "2              1  \n",
       "3              1  \n",
       "4              1  "
      ]
     },
     "execution_count": 196,
     "metadata": {},
     "output_type": "execute_result"
    }
   ],
   "source": [
    "train_data=pd.get_dummies(train_data,columns=['Gender','Married','Education','Self_Employed','Property_Area','Loan_Status'],drop_first=True)\n",
    "train_data.head()"
   ]
  },
  {
   "cell_type": "code",
   "execution_count": 197,
   "id": "ad401cbc",
   "metadata": {},
   "outputs": [
    {
     "data": {
      "text/html": [
       "<div>\n",
       "<style scoped>\n",
       "    .dataframe tbody tr th:only-of-type {\n",
       "        vertical-align: middle;\n",
       "    }\n",
       "\n",
       "    .dataframe tbody tr th {\n",
       "        vertical-align: top;\n",
       "    }\n",
       "\n",
       "    .dataframe thead th {\n",
       "        text-align: right;\n",
       "    }\n",
       "</style>\n",
       "<table border=\"1\" class=\"dataframe\">\n",
       "  <thead>\n",
       "    <tr style=\"text-align: right;\">\n",
       "      <th></th>\n",
       "      <th>Dependents</th>\n",
       "      <th>LoanAmount</th>\n",
       "      <th>Loan_Amount_Term</th>\n",
       "      <th>Credit_History</th>\n",
       "      <th>total_income</th>\n",
       "      <th>total_income_by_loanAmt</th>\n",
       "      <th>ApplicantIncome_by_loanAmt</th>\n",
       "      <th>Loan_Amount_Term_By_amt</th>\n",
       "      <th>Gender_Male</th>\n",
       "      <th>Married_Yes</th>\n",
       "      <th>Education_Not Graduate</th>\n",
       "      <th>Self_Employed_Yes</th>\n",
       "      <th>Property_Area_Semiurban</th>\n",
       "      <th>Property_Area_Urban</th>\n",
       "    </tr>\n",
       "  </thead>\n",
       "  <tbody>\n",
       "    <tr>\n",
       "      <th>0</th>\n",
       "      <td>0</td>\n",
       "      <td>110.0</td>\n",
       "      <td>360.0</td>\n",
       "      <td>1.0</td>\n",
       "      <td>5720</td>\n",
       "      <td>52.000000</td>\n",
       "      <td>52.000000</td>\n",
       "      <td>0.305556</td>\n",
       "      <td>1</td>\n",
       "      <td>1</td>\n",
       "      <td>0</td>\n",
       "      <td>0</td>\n",
       "      <td>0</td>\n",
       "      <td>1</td>\n",
       "    </tr>\n",
       "    <tr>\n",
       "      <th>1</th>\n",
       "      <td>1</td>\n",
       "      <td>126.0</td>\n",
       "      <td>360.0</td>\n",
       "      <td>1.0</td>\n",
       "      <td>4576</td>\n",
       "      <td>36.317460</td>\n",
       "      <td>24.412698</td>\n",
       "      <td>0.350000</td>\n",
       "      <td>1</td>\n",
       "      <td>1</td>\n",
       "      <td>0</td>\n",
       "      <td>0</td>\n",
       "      <td>0</td>\n",
       "      <td>1</td>\n",
       "    </tr>\n",
       "    <tr>\n",
       "      <th>2</th>\n",
       "      <td>2</td>\n",
       "      <td>208.0</td>\n",
       "      <td>360.0</td>\n",
       "      <td>1.0</td>\n",
       "      <td>6800</td>\n",
       "      <td>32.692308</td>\n",
       "      <td>24.038462</td>\n",
       "      <td>0.577778</td>\n",
       "      <td>1</td>\n",
       "      <td>1</td>\n",
       "      <td>0</td>\n",
       "      <td>0</td>\n",
       "      <td>0</td>\n",
       "      <td>1</td>\n",
       "    </tr>\n",
       "    <tr>\n",
       "      <th>3</th>\n",
       "      <td>2</td>\n",
       "      <td>100.0</td>\n",
       "      <td>360.0</td>\n",
       "      <td>1.0</td>\n",
       "      <td>4886</td>\n",
       "      <td>48.860000</td>\n",
       "      <td>23.400000</td>\n",
       "      <td>0.277778</td>\n",
       "      <td>1</td>\n",
       "      <td>1</td>\n",
       "      <td>0</td>\n",
       "      <td>0</td>\n",
       "      <td>0</td>\n",
       "      <td>1</td>\n",
       "    </tr>\n",
       "    <tr>\n",
       "      <th>4</th>\n",
       "      <td>0</td>\n",
       "      <td>78.0</td>\n",
       "      <td>360.0</td>\n",
       "      <td>1.0</td>\n",
       "      <td>3276</td>\n",
       "      <td>42.000000</td>\n",
       "      <td>42.000000</td>\n",
       "      <td>0.216667</td>\n",
       "      <td>1</td>\n",
       "      <td>0</td>\n",
       "      <td>1</td>\n",
       "      <td>0</td>\n",
       "      <td>0</td>\n",
       "      <td>1</td>\n",
       "    </tr>\n",
       "  </tbody>\n",
       "</table>\n",
       "</div>"
      ],
      "text/plain": [
       "   Dependents  LoanAmount  Loan_Amount_Term  Credit_History  total_income  \\\n",
       "0           0       110.0             360.0             1.0          5720   \n",
       "1           1       126.0             360.0             1.0          4576   \n",
       "2           2       208.0             360.0             1.0          6800   \n",
       "3           2       100.0             360.0             1.0          4886   \n",
       "4           0        78.0             360.0             1.0          3276   \n",
       "\n",
       "   total_income_by_loanAmt  ApplicantIncome_by_loanAmt  \\\n",
       "0                52.000000                   52.000000   \n",
       "1                36.317460                   24.412698   \n",
       "2                32.692308                   24.038462   \n",
       "3                48.860000                   23.400000   \n",
       "4                42.000000                   42.000000   \n",
       "\n",
       "   Loan_Amount_Term_By_amt  Gender_Male  Married_Yes  Education_Not Graduate  \\\n",
       "0                 0.305556            1            1                       0   \n",
       "1                 0.350000            1            1                       0   \n",
       "2                 0.577778            1            1                       0   \n",
       "3                 0.277778            1            1                       0   \n",
       "4                 0.216667            1            0                       1   \n",
       "\n",
       "   Self_Employed_Yes  Property_Area_Semiurban  Property_Area_Urban  \n",
       "0                  0                        0                    1  \n",
       "1                  0                        0                    1  \n",
       "2                  0                        0                    1  \n",
       "3                  0                        0                    1  \n",
       "4                  0                        0                    1  "
      ]
     },
     "execution_count": 197,
     "metadata": {},
     "output_type": "execute_result"
    }
   ],
   "source": [
    "test_data=pd.get_dummies(test_data,columns=['Gender','Married','Education','Self_Employed','Property_Area'],drop_first=True)\n",
    "test_data.head()"
   ]
  },
  {
   "cell_type": "code",
   "execution_count": 198,
   "id": "f6b621f6",
   "metadata": {},
   "outputs": [],
   "source": [
    "#splitting data into dependent and independent columns\n",
    "x=train_data.drop('Loan_Status_Y',axis=1)\n",
    "y=train_data['Loan_Status_Y']"
   ]
  },
  {
   "cell_type": "markdown",
   "id": "63450b8b",
   "metadata": {},
   "source": [
    "# Scaling"
   ]
  },
  {
   "cell_type": "code",
   "execution_count": 199,
   "id": "0238143a",
   "metadata": {},
   "outputs": [
    {
     "name": "stdout",
     "output_type": "stream",
     "text": [
      "<class 'pandas.core.frame.DataFrame'>\n",
      "RangeIndex: 614 entries, 0 to 613\n",
      "Data columns (total 14 columns):\n",
      " #   Column                      Non-Null Count  Dtype  \n",
      "---  ------                      --------------  -----  \n",
      " 0   Dependents                  614 non-null    int32  \n",
      " 1   LoanAmount                  614 non-null    float64\n",
      " 2   Loan_Amount_Term            614 non-null    float64\n",
      " 3   Credit_History              614 non-null    float64\n",
      " 4   total_income                614 non-null    float64\n",
      " 5   total_income_by_loanAmt     614 non-null    float64\n",
      " 6   ApplicantIncome_by_loanAmt  614 non-null    float64\n",
      " 7   Loan_Amount_Term_By_amt     614 non-null    float64\n",
      " 8   Gender_Male                 614 non-null    uint8  \n",
      " 9   Married_Yes                 614 non-null    uint8  \n",
      " 10  Education_Not Graduate      614 non-null    uint8  \n",
      " 11  Self_Employed_Yes           614 non-null    uint8  \n",
      " 12  Property_Area_Semiurban     614 non-null    uint8  \n",
      " 13  Property_Area_Urban         614 non-null    uint8  \n",
      "dtypes: float64(7), int32(1), uint8(6)\n",
      "memory usage: 39.7 KB\n"
     ]
    }
   ],
   "source": [
    "x.info()"
   ]
  },
  {
   "cell_type": "code",
   "execution_count": 200,
   "id": "d4e1b1bc",
   "metadata": {},
   "outputs": [
    {
     "data": {
      "text/html": [
       "<div>\n",
       "<style scoped>\n",
       "    .dataframe tbody tr th:only-of-type {\n",
       "        vertical-align: middle;\n",
       "    }\n",
       "\n",
       "    .dataframe tbody tr th {\n",
       "        vertical-align: top;\n",
       "    }\n",
       "\n",
       "    .dataframe thead th {\n",
       "        text-align: right;\n",
       "    }\n",
       "</style>\n",
       "<table border=\"1\" class=\"dataframe\">\n",
       "  <thead>\n",
       "    <tr style=\"text-align: right;\">\n",
       "      <th></th>\n",
       "      <th>0</th>\n",
       "      <th>1</th>\n",
       "      <th>2</th>\n",
       "      <th>3</th>\n",
       "      <th>4</th>\n",
       "      <th>5</th>\n",
       "      <th>6</th>\n",
       "      <th>7</th>\n",
       "      <th>8</th>\n",
       "      <th>9</th>\n",
       "      <th>10</th>\n",
       "      <th>11</th>\n",
       "      <th>12</th>\n",
       "      <th>13</th>\n",
       "    </tr>\n",
       "  </thead>\n",
       "  <tbody>\n",
       "    <tr>\n",
       "      <th>count</th>\n",
       "      <td>6.140000e+02</td>\n",
       "      <td>6.140000e+02</td>\n",
       "      <td>6.140000e+02</td>\n",
       "      <td>6.140000e+02</td>\n",
       "      <td>6.140000e+02</td>\n",
       "      <td>6.140000e+02</td>\n",
       "      <td>6.140000e+02</td>\n",
       "      <td>6.140000e+02</td>\n",
       "      <td>6.140000e+02</td>\n",
       "      <td>6.140000e+02</td>\n",
       "      <td>6.140000e+02</td>\n",
       "      <td>6.140000e+02</td>\n",
       "      <td>6.140000e+02</td>\n",
       "      <td>6.140000e+02</td>\n",
       "    </tr>\n",
       "    <tr>\n",
       "      <th>mean</th>\n",
       "      <td>-1.766593e-16</td>\n",
       "      <td>1.135086e-16</td>\n",
       "      <td>1.795524e-16</td>\n",
       "      <td>8.317632e-17</td>\n",
       "      <td>1.034279e-16</td>\n",
       "      <td>3.516912e-17</td>\n",
       "      <td>-1.537406e-16</td>\n",
       "      <td>-9.850065e-17</td>\n",
       "      <td>-6.364796e-17</td>\n",
       "      <td>2.064942e-16</td>\n",
       "      <td>1.121072e-17</td>\n",
       "      <td>-1.338054e-16</td>\n",
       "      <td>1.330821e-16</td>\n",
       "      <td>6.585395e-16</td>\n",
       "    </tr>\n",
       "    <tr>\n",
       "      <th>std</th>\n",
       "      <td>1.000815e+00</td>\n",
       "      <td>1.000815e+00</td>\n",
       "      <td>1.000815e+00</td>\n",
       "      <td>1.000815e+00</td>\n",
       "      <td>1.000815e+00</td>\n",
       "      <td>1.000815e+00</td>\n",
       "      <td>1.000815e+00</td>\n",
       "      <td>1.000815e+00</td>\n",
       "      <td>1.000815e+00</td>\n",
       "      <td>1.000815e+00</td>\n",
       "      <td>1.000815e+00</td>\n",
       "      <td>1.000815e+00</td>\n",
       "      <td>1.000815e+00</td>\n",
       "      <td>1.000815e+00</td>\n",
       "    </tr>\n",
       "    <tr>\n",
       "      <th>min</th>\n",
       "      <td>-7.378063e-01</td>\n",
       "      <td>-1.626959e+00</td>\n",
       "      <td>-5.132498e+00</td>\n",
       "      <td>-2.428760e+00</td>\n",
       "      <td>-8.650794e-01</td>\n",
       "      <td>-1.037912e+00</td>\n",
       "      <td>-1.117593e+00</td>\n",
       "      <td>-8.784203e-01</td>\n",
       "      <td>-2.117107e+00</td>\n",
       "      <td>-1.372089e+00</td>\n",
       "      <td>-5.283622e-01</td>\n",
       "      <td>-3.926007e-01</td>\n",
       "      <td>-7.820157e-01</td>\n",
       "      <td>-7.002080e-01</td>\n",
       "    </tr>\n",
       "    <tr>\n",
       "      <th>25%</th>\n",
       "      <td>-7.378063e-01</td>\n",
       "      <td>-5.412052e-01</td>\n",
       "      <td>2.732313e-01</td>\n",
       "      <td>4.117327e-01</td>\n",
       "      <td>-4.429764e-01</td>\n",
       "      <td>-4.187370e-01</td>\n",
       "      <td>-4.687354e-01</td>\n",
       "      <td>-3.617379e-01</td>\n",
       "      <td>4.723426e-01</td>\n",
       "      <td>-1.372089e+00</td>\n",
       "      <td>-5.283622e-01</td>\n",
       "      <td>-3.926007e-01</td>\n",
       "      <td>-7.820157e-01</td>\n",
       "      <td>-7.002080e-01</td>\n",
       "    </tr>\n",
       "    <tr>\n",
       "      <th>50%</th>\n",
       "      <td>-7.378063e-01</td>\n",
       "      <td>-2.110172e-01</td>\n",
       "      <td>2.732313e-01</td>\n",
       "      <td>4.117327e-01</td>\n",
       "      <td>-2.492027e-01</td>\n",
       "      <td>-2.588542e-01</td>\n",
       "      <td>-2.079479e-01</td>\n",
       "      <td>-2.203301e-01</td>\n",
       "      <td>4.723426e-01</td>\n",
       "      <td>7.288155e-01</td>\n",
       "      <td>-5.283622e-01</td>\n",
       "      <td>-3.926007e-01</td>\n",
       "      <td>-7.820157e-01</td>\n",
       "      <td>-7.002080e-01</td>\n",
       "    </tr>\n",
       "    <tr>\n",
       "      <th>75%</th>\n",
       "      <td>2.534696e-01</td>\n",
       "      <td>2.262588e-01</td>\n",
       "      <td>2.732313e-01</td>\n",
       "      <td>4.117327e-01</td>\n",
       "      <td>7.702060e-02</td>\n",
       "      <td>2.206042e-02</td>\n",
       "      <td>8.922199e-02</td>\n",
       "      <td>6.248560e-02</td>\n",
       "      <td>4.723426e-01</td>\n",
       "      <td>7.288155e-01</td>\n",
       "      <td>-5.283622e-01</td>\n",
       "      <td>-3.926007e-01</td>\n",
       "      <td>1.278747e+00</td>\n",
       "      <td>1.428147e+00</td>\n",
       "    </tr>\n",
       "    <tr>\n",
       "      <th>max</th>\n",
       "      <td>2.236021e+00</td>\n",
       "      <td>6.595020e+00</td>\n",
       "      <td>2.137276e+00</td>\n",
       "      <td>4.117327e-01</td>\n",
       "      <td>1.146299e+01</td>\n",
       "      <td>9.161050e+00</td>\n",
       "      <td>8.507455e+00</td>\n",
       "      <td>1.718371e+01</td>\n",
       "      <td>4.723426e-01</td>\n",
       "      <td>7.288155e-01</td>\n",
       "      <td>1.892641e+00</td>\n",
       "      <td>2.547117e+00</td>\n",
       "      <td>1.278747e+00</td>\n",
       "      <td>1.428147e+00</td>\n",
       "    </tr>\n",
       "  </tbody>\n",
       "</table>\n",
       "</div>"
      ],
      "text/plain": [
       "                 0             1             2             3             4   \\\n",
       "count  6.140000e+02  6.140000e+02  6.140000e+02  6.140000e+02  6.140000e+02   \n",
       "mean  -1.766593e-16  1.135086e-16  1.795524e-16  8.317632e-17  1.034279e-16   \n",
       "std    1.000815e+00  1.000815e+00  1.000815e+00  1.000815e+00  1.000815e+00   \n",
       "min   -7.378063e-01 -1.626959e+00 -5.132498e+00 -2.428760e+00 -8.650794e-01   \n",
       "25%   -7.378063e-01 -5.412052e-01  2.732313e-01  4.117327e-01 -4.429764e-01   \n",
       "50%   -7.378063e-01 -2.110172e-01  2.732313e-01  4.117327e-01 -2.492027e-01   \n",
       "75%    2.534696e-01  2.262588e-01  2.732313e-01  4.117327e-01  7.702060e-02   \n",
       "max    2.236021e+00  6.595020e+00  2.137276e+00  4.117327e-01  1.146299e+01   \n",
       "\n",
       "                 5             6             7             8             9   \\\n",
       "count  6.140000e+02  6.140000e+02  6.140000e+02  6.140000e+02  6.140000e+02   \n",
       "mean   3.516912e-17 -1.537406e-16 -9.850065e-17 -6.364796e-17  2.064942e-16   \n",
       "std    1.000815e+00  1.000815e+00  1.000815e+00  1.000815e+00  1.000815e+00   \n",
       "min   -1.037912e+00 -1.117593e+00 -8.784203e-01 -2.117107e+00 -1.372089e+00   \n",
       "25%   -4.187370e-01 -4.687354e-01 -3.617379e-01  4.723426e-01 -1.372089e+00   \n",
       "50%   -2.588542e-01 -2.079479e-01 -2.203301e-01  4.723426e-01  7.288155e-01   \n",
       "75%    2.206042e-02  8.922199e-02  6.248560e-02  4.723426e-01  7.288155e-01   \n",
       "max    9.161050e+00  8.507455e+00  1.718371e+01  4.723426e-01  7.288155e-01   \n",
       "\n",
       "                 10            11            12            13  \n",
       "count  6.140000e+02  6.140000e+02  6.140000e+02  6.140000e+02  \n",
       "mean   1.121072e-17 -1.338054e-16  1.330821e-16  6.585395e-16  \n",
       "std    1.000815e+00  1.000815e+00  1.000815e+00  1.000815e+00  \n",
       "min   -5.283622e-01 -3.926007e-01 -7.820157e-01 -7.002080e-01  \n",
       "25%   -5.283622e-01 -3.926007e-01 -7.820157e-01 -7.002080e-01  \n",
       "50%   -5.283622e-01 -3.926007e-01 -7.820157e-01 -7.002080e-01  \n",
       "75%   -5.283622e-01 -3.926007e-01  1.278747e+00  1.428147e+00  \n",
       "max    1.892641e+00  2.547117e+00  1.278747e+00  1.428147e+00  "
      ]
     },
     "execution_count": 200,
     "metadata": {},
     "output_type": "execute_result"
    }
   ],
   "source": [
    "#standard scaling\n",
    "from sklearn import preprocessing\n",
    "standadisation=preprocessing.StandardScaler()\n",
    "x=standadisation.fit_transform(x)\n",
    "# Coverting to Dataframe\n",
    "x=pd.DataFrame(x)\n",
    "x.describe()"
   ]
  },
  {
   "cell_type": "markdown",
   "id": "64fb922a",
   "metadata": {},
   "source": [
    "# Model selection"
   ]
  },
  {
   "cell_type": "code",
   "execution_count": 201,
   "id": "c91767f6",
   "metadata": {},
   "outputs": [],
   "source": [
    "#splitting as training and testing\n",
    "from sklearn.model_selection import train_test_split\n",
    "x_train,x_test,y_train,y_test = train_test_split(x,y,random_state =0,test_size=0.33)"
   ]
  },
  {
   "cell_type": "code",
   "execution_count": 202,
   "id": "0dff4651",
   "metadata": {},
   "outputs": [],
   "source": [
    "# import necessary libraries and fitting with different models\n",
    "from sklearn.ensemble import RandomForestClassifier\n",
    "from sklearn.linear_model import LogisticRegression\n",
    "from sklearn.neighbors import KNeighborsClassifier\n",
    "#from sklearn.svm import SVC\n",
    "from sklearn.tree import DecisionTreeClassifier\n",
    "from sklearn.naive_bayes import GaussianNB\n",
    "from sklearn.naive_bayes import BernoulliNB\n",
    "from xgboost import XGBClassifier"
   ]
  },
  {
   "cell_type": "code",
   "execution_count": 203,
   "id": "25a29358",
   "metadata": {},
   "outputs": [
    {
     "name": "stdout",
     "output_type": "stream",
     "text": [
      "RandomForestClassifier  trained\n",
      "LogisticRegression  trained\n",
      "KNeighborsClassifier  trained\n",
      "DecisionTreeClassifier  trained\n",
      "BernoulliNB  trained\n",
      "GaussianNB  trained\n",
      "XGBClassifier  trained\n"
     ]
    }
   ],
   "source": [
    "models=  {'RandomForestClassifier':RandomForestClassifier(),\n",
    "          'LogisticRegression':LogisticRegression(),\n",
    "          'KNeighborsClassifier':KNeighborsClassifier(),\n",
    "          #'SVC':SVC(),\n",
    "          'DecisionTreeClassifier': DecisionTreeClassifier(),\n",
    "          'BernoulliNB':BernoulliNB(),\n",
    "          'GaussianNB':GaussianNB(),\n",
    "          'XGBClassifier':XGBClassifier()}\n",
    "\n",
    "for name,model in models.items():\n",
    "    model.fit(x_train,y_train)\n",
    "    print(name+'  trained')"
   ]
  },
  {
   "cell_type": "code",
   "execution_count": 204,
   "id": "a8122f11",
   "metadata": {},
   "outputs": [],
   "source": [
    "# Evaluate the performance\n",
    "from sklearn.metrics import confusion_matrix,accuracy_score,recall_score,precision_score,f1_score"
   ]
  },
  {
   "cell_type": "code",
   "execution_count": 205,
   "id": "c1f31892",
   "metadata": {},
   "outputs": [
    {
     "data": {
      "text/plain": [
       "{'Random Forest': array([[ 27,  31],\n",
       "        [  5, 140]], dtype=int64),\n",
       " 'Logistic regression': array([[ 24,  34],\n",
       "        [  3, 142]], dtype=int64),\n",
       " 'KNN': array([[ 29,  29],\n",
       "        [ 10, 135]], dtype=int64),\n",
       " 'DecisionTree': array([[ 35,  23],\n",
       "        [ 41, 104]], dtype=int64),\n",
       " 'BernolliNB': array([[ 24,  34],\n",
       "        [  2, 143]], dtype=int64),\n",
       " 'GaussianNB': array([[ 27,  31],\n",
       "        [  6, 139]], dtype=int64),\n",
       " 'XGBClassifier': array([[ 31,  27],\n",
       "        [ 22, 123]], dtype=int64)}"
      ]
     },
     "execution_count": 205,
     "metadata": {},
     "output_type": "execute_result"
    }
   ],
   "source": [
    "model_test_acc=[]\n",
    "model_test_recall_score=[]\n",
    "model_test_f1_score=[]\n",
    "model_test_precision_score=[]\n",
    "model_conf_mat=[]\n",
    "#checking the scores of classifiers\n",
    "for name,model in models.items():\n",
    "    y_pred=model.predict(x_test)\n",
    "    model_test_acc.append(accuracy_score(y_test,y_pred))\n",
    "    model_test_recall_score.append(recall_score(y_test,y_pred))\n",
    "    model_test_f1_score.append(f1_score(y_test,y_pred))\n",
    "    model_test_precision_score.append(precision_score(y_test,y_pred))\n",
    "    model_conf_mat.append(confusion_matrix(y_test,y_pred))\n",
    "    \n",
    "confusion_matrix1={'Random Forest':model_conf_mat[0],\n",
    "                  'Logistic regression':model_conf_mat[1],\n",
    "                  'KNN':model_conf_mat[2],\n",
    "                  #'SVC':model_conf_mat[3],\n",
    "                  'DecisionTree':model_conf_mat[3],\n",
    "                  'BernolliNB':model_conf_mat[4],\n",
    "                  'GaussianNB':model_conf_mat[5],\n",
    "                  'XGBClassifier':model_conf_mat[6]}\n",
    "confusion_matrix1"
   ]
  },
  {
   "cell_type": "code",
   "execution_count": 206,
   "id": "e521b343",
   "metadata": {},
   "outputs": [
    {
     "data": {
      "text/html": [
       "<div>\n",
       "<style scoped>\n",
       "    .dataframe tbody tr th:only-of-type {\n",
       "        vertical-align: middle;\n",
       "    }\n",
       "\n",
       "    .dataframe tbody tr th {\n",
       "        vertical-align: top;\n",
       "    }\n",
       "\n",
       "    .dataframe thead th {\n",
       "        text-align: right;\n",
       "    }\n",
       "</style>\n",
       "<table border=\"1\" class=\"dataframe\">\n",
       "  <thead>\n",
       "    <tr style=\"text-align: right;\">\n",
       "      <th></th>\n",
       "      <th>Model</th>\n",
       "      <th>Accuracy_score</th>\n",
       "      <th>F1_score</th>\n",
       "      <th>Recall_score</th>\n",
       "      <th>Precision_score</th>\n",
       "    </tr>\n",
       "  </thead>\n",
       "  <tbody>\n",
       "    <tr>\n",
       "      <th>0</th>\n",
       "      <td>Random Forest</td>\n",
       "      <td>0.822660</td>\n",
       "      <td>0.886076</td>\n",
       "      <td>0.965517</td>\n",
       "      <td>0.818713</td>\n",
       "    </tr>\n",
       "    <tr>\n",
       "      <th>1</th>\n",
       "      <td>Logistic regression</td>\n",
       "      <td>0.817734</td>\n",
       "      <td>0.884735</td>\n",
       "      <td>0.979310</td>\n",
       "      <td>0.806818</td>\n",
       "    </tr>\n",
       "    <tr>\n",
       "      <th>2</th>\n",
       "      <td>KNN</td>\n",
       "      <td>0.807882</td>\n",
       "      <td>0.873786</td>\n",
       "      <td>0.931034</td>\n",
       "      <td>0.823171</td>\n",
       "    </tr>\n",
       "    <tr>\n",
       "      <th>3</th>\n",
       "      <td>DecisionTree</td>\n",
       "      <td>0.684729</td>\n",
       "      <td>0.764706</td>\n",
       "      <td>0.717241</td>\n",
       "      <td>0.818898</td>\n",
       "    </tr>\n",
       "    <tr>\n",
       "      <th>4</th>\n",
       "      <td>BernolliNB</td>\n",
       "      <td>0.822660</td>\n",
       "      <td>0.888199</td>\n",
       "      <td>0.986207</td>\n",
       "      <td>0.807910</td>\n",
       "    </tr>\n",
       "    <tr>\n",
       "      <th>5</th>\n",
       "      <td>GaussianNB</td>\n",
       "      <td>0.817734</td>\n",
       "      <td>0.882540</td>\n",
       "      <td>0.958621</td>\n",
       "      <td>0.817647</td>\n",
       "    </tr>\n",
       "    <tr>\n",
       "      <th>6</th>\n",
       "      <td>XGBClassifier</td>\n",
       "      <td>0.758621</td>\n",
       "      <td>0.833898</td>\n",
       "      <td>0.848276</td>\n",
       "      <td>0.820000</td>\n",
       "    </tr>\n",
       "  </tbody>\n",
       "</table>\n",
       "</div>"
      ],
      "text/plain": [
       "                 Model  Accuracy_score  F1_score  Recall_score  \\\n",
       "0        Random Forest        0.822660  0.886076      0.965517   \n",
       "1  Logistic regression        0.817734  0.884735      0.979310   \n",
       "2                  KNN        0.807882  0.873786      0.931034   \n",
       "3         DecisionTree        0.684729  0.764706      0.717241   \n",
       "4           BernolliNB        0.822660  0.888199      0.986207   \n",
       "5           GaussianNB        0.817734  0.882540      0.958621   \n",
       "6        XGBClassifier        0.758621  0.833898      0.848276   \n",
       "\n",
       "   Precision_score  \n",
       "0         0.818713  \n",
       "1         0.806818  \n",
       "2         0.823171  \n",
       "3         0.818898  \n",
       "4         0.807910  \n",
       "5         0.817647  \n",
       "6         0.820000  "
      ]
     },
     "execution_count": 206,
     "metadata": {},
     "output_type": "execute_result"
    }
   ],
   "source": [
    "Models = ['Random Forest','Logistic regression','KNN','DecisionTree','BernolliNB','GaussianNB','XGBClassifier']\n",
    "model_performance = pd.DataFrame({\n",
    "    'Model':Models,\n",
    "    'Accuracy_score':model_test_acc,\n",
    "    'F1_score':model_test_f1_score,\n",
    "    'Recall_score':model_test_recall_score,\n",
    "    'Precision_score':model_test_precision_score\n",
    "    })\n",
    "model_performance"
   ]
  },
  {
   "cell_type": "code",
   "execution_count": 207,
   "id": "ac59dd56",
   "metadata": {},
   "outputs": [],
   "source": [
    "from sklearn.model_selection import GridSearchCV\n",
    "param_grid = { 'bootstrap': [True,False], 'max_depth': [5, 10, None], 'max_features': ['auto', 'log2'], 'n_estimators': [5, 6, 7, 8, 9, 10, 11, 12, 13, 15]}"
   ]
  },
  {
   "cell_type": "code",
   "execution_count": 208,
   "id": "3288344d",
   "metadata": {},
   "outputs": [],
   "source": [
    "rf = RandomForestClassifier(random_state = 1)\n",
    "g_search = GridSearchCV(estimator = rf, param_grid = param_grid, cv = 3, n_jobs = 1, verbose = 0, return_train_score=True)"
   ]
  },
  {
   "cell_type": "code",
   "execution_count": 209,
   "id": "9ade02dc",
   "metadata": {},
   "outputs": [
    {
     "name": "stdout",
     "output_type": "stream",
     "text": [
      "{'bootstrap': True, 'max_depth': 5, 'max_features': 'auto', 'n_estimators': 10}\n"
     ]
    }
   ],
   "source": [
    "g_search.fit(x_train, y_train);\n",
    "print(g_search.best_params_)"
   ]
  },
  {
   "cell_type": "code",
   "execution_count": 210,
   "id": "6a50a0ad",
   "metadata": {},
   "outputs": [],
   "source": [
    "rf = RandomForestClassifier(n_estimators=10,max_features='auto',max_depth=5)\n",
    "rf.fit(x_train,y_train)\n",
    "y_pred = rf.predict(x_test)"
   ]
  },
  {
   "cell_type": "code",
   "execution_count": 211,
   "id": "0a16beae",
   "metadata": {},
   "outputs": [
    {
     "name": "stdout",
     "output_type": "stream",
     "text": [
      "Accuracy Score is :  0.812807881773399\n",
      "Recall Score is :  0.9517241379310345\n",
      "Precision Score is :  0.8165680473372781\n",
      "F1 score is :  0.8789808917197452\n"
     ]
    }
   ],
   "source": [
    "print('Accuracy Score is : ',accuracy_score(y_test,y_pred))\n",
    "print('Recall Score is : ', recall_score(y_test,y_pred))\n",
    "print('Precision Score is : ', precision_score(y_test,y_pred))\n",
    "print('F1 score is : ', f1_score(y_test,y_pred))"
   ]
  },
  {
   "cell_type": "code",
   "execution_count": 212,
   "id": "a7445bff",
   "metadata": {},
   "outputs": [
    {
     "name": "stdout",
     "output_type": "stream",
     "text": [
      "<class 'pandas.core.frame.DataFrame'>\n",
      "RangeIndex: 367 entries, 0 to 366\n",
      "Data columns (total 14 columns):\n",
      " #   Column                      Non-Null Count  Dtype  \n",
      "---  ------                      --------------  -----  \n",
      " 0   Dependents                  367 non-null    int32  \n",
      " 1   LoanAmount                  367 non-null    float64\n",
      " 2   Loan_Amount_Term            367 non-null    float64\n",
      " 3   Credit_History              367 non-null    float64\n",
      " 4   total_income                367 non-null    int64  \n",
      " 5   total_income_by_loanAmt     367 non-null    float64\n",
      " 6   ApplicantIncome_by_loanAmt  367 non-null    float64\n",
      " 7   Loan_Amount_Term_By_amt     367 non-null    float64\n",
      " 8   Gender_Male                 367 non-null    uint8  \n",
      " 9   Married_Yes                 367 non-null    uint8  \n",
      " 10  Education_Not Graduate      367 non-null    uint8  \n",
      " 11  Self_Employed_Yes           367 non-null    uint8  \n",
      " 12  Property_Area_Semiurban     367 non-null    uint8  \n",
      " 13  Property_Area_Urban         367 non-null    uint8  \n",
      "dtypes: float64(6), int32(1), int64(1), uint8(6)\n",
      "memory usage: 23.8 KB\n"
     ]
    }
   ],
   "source": [
    "test_data.info()"
   ]
  },
  {
   "cell_type": "code",
   "execution_count": 213,
   "id": "f0cc5916",
   "metadata": {},
   "outputs": [
    {
     "name": "stdout",
     "output_type": "stream",
     "text": [
      "<class 'pandas.core.frame.DataFrame'>\n",
      "RangeIndex: 614 entries, 0 to 613\n",
      "Data columns (total 15 columns):\n",
      " #   Column                      Non-Null Count  Dtype  \n",
      "---  ------                      --------------  -----  \n",
      " 0   Dependents                  614 non-null    int32  \n",
      " 1   LoanAmount                  614 non-null    float64\n",
      " 2   Loan_Amount_Term            614 non-null    float64\n",
      " 3   Credit_History              614 non-null    float64\n",
      " 4   total_income                614 non-null    float64\n",
      " 5   total_income_by_loanAmt     614 non-null    float64\n",
      " 6   ApplicantIncome_by_loanAmt  614 non-null    float64\n",
      " 7   Loan_Amount_Term_By_amt     614 non-null    float64\n",
      " 8   Gender_Male                 614 non-null    uint8  \n",
      " 9   Married_Yes                 614 non-null    uint8  \n",
      " 10  Education_Not Graduate      614 non-null    uint8  \n",
      " 11  Self_Employed_Yes           614 non-null    uint8  \n",
      " 12  Property_Area_Semiurban     614 non-null    uint8  \n",
      " 13  Property_Area_Urban         614 non-null    uint8  \n",
      " 14  Loan_Status_Y               614 non-null    uint8  \n",
      "dtypes: float64(7), int32(1), uint8(7)\n",
      "memory usage: 40.3 KB\n"
     ]
    }
   ],
   "source": [
    "train_data.info()"
   ]
  },
  {
   "cell_type": "code",
   "execution_count": 214,
   "id": "43df40c0",
   "metadata": {},
   "outputs": [],
   "source": [
    "Y_pred=rf.predict(test_data)\n"
   ]
  },
  {
   "cell_type": "code",
   "execution_count": 215,
   "id": "aa668071",
   "metadata": {},
   "outputs": [
    {
     "data": {
      "text/html": [
       "<div>\n",
       "<style scoped>\n",
       "    .dataframe tbody tr th:only-of-type {\n",
       "        vertical-align: middle;\n",
       "    }\n",
       "\n",
       "    .dataframe tbody tr th {\n",
       "        vertical-align: top;\n",
       "    }\n",
       "\n",
       "    .dataframe thead th {\n",
       "        text-align: right;\n",
       "    }\n",
       "</style>\n",
       "<table border=\"1\" class=\"dataframe\">\n",
       "  <thead>\n",
       "    <tr style=\"text-align: right;\">\n",
       "      <th></th>\n",
       "      <th>Loan_ID</th>\n",
       "      <th>Loan_Status</th>\n",
       "    </tr>\n",
       "  </thead>\n",
       "  <tbody>\n",
       "    <tr>\n",
       "      <th>0</th>\n",
       "      <td>LP001015</td>\n",
       "      <td>1</td>\n",
       "    </tr>\n",
       "    <tr>\n",
       "      <th>1</th>\n",
       "      <td>LP001022</td>\n",
       "      <td>1</td>\n",
       "    </tr>\n",
       "    <tr>\n",
       "      <th>2</th>\n",
       "      <td>LP001031</td>\n",
       "      <td>1</td>\n",
       "    </tr>\n",
       "    <tr>\n",
       "      <th>3</th>\n",
       "      <td>LP001035</td>\n",
       "      <td>1</td>\n",
       "    </tr>\n",
       "    <tr>\n",
       "      <th>4</th>\n",
       "      <td>LP001051</td>\n",
       "      <td>1</td>\n",
       "    </tr>\n",
       "  </tbody>\n",
       "</table>\n",
       "</div>"
      ],
      "text/plain": [
       "    Loan_ID  Loan_Status\n",
       "0  LP001015            1\n",
       "1  LP001022            1\n",
       "2  LP001031            1\n",
       "3  LP001035            1\n",
       "4  LP001051            1"
      ]
     },
     "execution_count": 215,
     "metadata": {},
     "output_type": "execute_result"
    }
   ],
   "source": [
    "result=pd.DataFrame({'Loan_ID':test_data1['Loan_ID'],'Loan_Status':Y_pred})\n",
    "result.head()"
   ]
  },
  {
   "cell_type": "code",
   "execution_count": 216,
   "id": "3f80a0c1",
   "metadata": {},
   "outputs": [],
   "source": [
    "result=result.replace({'Loan_Status' : {0:'N',1:'Y'}})"
   ]
  },
  {
   "cell_type": "code",
   "execution_count": 217,
   "id": "96ae84b1",
   "metadata": {},
   "outputs": [
    {
     "data": {
      "text/html": [
       "<div>\n",
       "<style scoped>\n",
       "    .dataframe tbody tr th:only-of-type {\n",
       "        vertical-align: middle;\n",
       "    }\n",
       "\n",
       "    .dataframe tbody tr th {\n",
       "        vertical-align: top;\n",
       "    }\n",
       "\n",
       "    .dataframe thead th {\n",
       "        text-align: right;\n",
       "    }\n",
       "</style>\n",
       "<table border=\"1\" class=\"dataframe\">\n",
       "  <thead>\n",
       "    <tr style=\"text-align: right;\">\n",
       "      <th></th>\n",
       "      <th>Loan_ID</th>\n",
       "      <th>Loan_Status</th>\n",
       "    </tr>\n",
       "  </thead>\n",
       "  <tbody>\n",
       "    <tr>\n",
       "      <th>0</th>\n",
       "      <td>LP001015</td>\n",
       "      <td>Y</td>\n",
       "    </tr>\n",
       "    <tr>\n",
       "      <th>1</th>\n",
       "      <td>LP001022</td>\n",
       "      <td>Y</td>\n",
       "    </tr>\n",
       "    <tr>\n",
       "      <th>2</th>\n",
       "      <td>LP001031</td>\n",
       "      <td>Y</td>\n",
       "    </tr>\n",
       "    <tr>\n",
       "      <th>3</th>\n",
       "      <td>LP001035</td>\n",
       "      <td>Y</td>\n",
       "    </tr>\n",
       "    <tr>\n",
       "      <th>4</th>\n",
       "      <td>LP001051</td>\n",
       "      <td>Y</td>\n",
       "    </tr>\n",
       "  </tbody>\n",
       "</table>\n",
       "</div>"
      ],
      "text/plain": [
       "    Loan_ID Loan_Status\n",
       "0  LP001015           Y\n",
       "1  LP001022           Y\n",
       "2  LP001031           Y\n",
       "3  LP001035           Y\n",
       "4  LP001051           Y"
      ]
     },
     "execution_count": 217,
     "metadata": {},
     "output_type": "execute_result"
    }
   ],
   "source": [
    "result.head()"
   ]
  },
  {
   "cell_type": "code",
   "execution_count": 218,
   "id": "e2ea5c21",
   "metadata": {},
   "outputs": [
    {
     "data": {
      "text/plain": [
       "N    213\n",
       "Y    154\n",
       "Name: Loan_Status, dtype: int64"
      ]
     },
     "execution_count": 218,
     "metadata": {},
     "output_type": "execute_result"
    }
   ],
   "source": [
    "result['Loan_Status'].value_counts()"
   ]
  },
  {
   "cell_type": "code",
   "execution_count": 219,
   "id": "0edeaf9f",
   "metadata": {},
   "outputs": [],
   "source": [
    "result.to_csv('result.csv',index=False)"
   ]
  }
 ],
 "metadata": {
  "kernelspec": {
   "display_name": "Python 3 (ipykernel)",
   "language": "python",
   "name": "python3"
  },
  "language_info": {
   "codemirror_mode": {
    "name": "ipython",
    "version": 3
   },
   "file_extension": ".py",
   "mimetype": "text/x-python",
   "name": "python",
   "nbconvert_exporter": "python",
   "pygments_lexer": "ipython3",
   "version": "3.9.13"
  },
  "vscode": {
   "interpreter": {
    "hash": "ad2bdc8ecc057115af97d19610ffacc2b4e99fae6737bb82f5d7fb13d2f2c186"
   }
  }
 },
 "nbformat": 4,
 "nbformat_minor": 5
}
