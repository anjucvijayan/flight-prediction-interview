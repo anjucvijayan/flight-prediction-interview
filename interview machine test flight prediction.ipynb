{
 "cells": [
  {
   "cell_type": "code",
   "execution_count": 1,
   "id": "cef6a9aa-5f47-427a-8abf-463710687041",
   "metadata": {},
   "outputs": [],
   "source": [
    "import pandas as pd\n",
    "import numpy as np\n",
    "import matplotlib.pyplot as plt\n",
    "import seaborn as sns\n",
    "\n",
    "import warnings\n",
    "warnings.filterwarnings('ignore')"
   ]
  },
  {
   "cell_type": "code",
   "execution_count": 2,
   "id": "df71d235-a7d8-4190-bb31-4abe246ce350",
   "metadata": {},
   "outputs": [],
   "source": [
    "#reading dataset\n",
    "train_data=pd.read_excel('Data_Train.xlsx')\n",
    "test_data=pd.read_excel('Test_set.xlsx')"
   ]
  },
  {
   "cell_type": "code",
   "execution_count": 3,
   "id": "01ce08e0-e06a-435e-be68-70e18910c44e",
   "metadata": {},
   "outputs": [
    {
     "data": {
      "text/html": [
       "<div>\n",
       "<style scoped>\n",
       "    .dataframe tbody tr th:only-of-type {\n",
       "        vertical-align: middle;\n",
       "    }\n",
       "\n",
       "    .dataframe tbody tr th {\n",
       "        vertical-align: top;\n",
       "    }\n",
       "\n",
       "    .dataframe thead th {\n",
       "        text-align: right;\n",
       "    }\n",
       "</style>\n",
       "<table border=\"1\" class=\"dataframe\">\n",
       "  <thead>\n",
       "    <tr style=\"text-align: right;\">\n",
       "      <th></th>\n",
       "      <th>Airline</th>\n",
       "      <th>Date_of_Journey</th>\n",
       "      <th>Source</th>\n",
       "      <th>Destination</th>\n",
       "      <th>Route</th>\n",
       "      <th>Dep_Time</th>\n",
       "      <th>Arrival_Time</th>\n",
       "      <th>Duration</th>\n",
       "      <th>Total_Stops</th>\n",
       "      <th>Additional_Info</th>\n",
       "      <th>Price</th>\n",
       "    </tr>\n",
       "  </thead>\n",
       "  <tbody>\n",
       "    <tr>\n",
       "      <th>0</th>\n",
       "      <td>IndiGo</td>\n",
       "      <td>24/03/2019</td>\n",
       "      <td>Banglore</td>\n",
       "      <td>New Delhi</td>\n",
       "      <td>BLR → DEL</td>\n",
       "      <td>22:20</td>\n",
       "      <td>01:10 22 Mar</td>\n",
       "      <td>2h 50m</td>\n",
       "      <td>non-stop</td>\n",
       "      <td>No info</td>\n",
       "      <td>3897</td>\n",
       "    </tr>\n",
       "    <tr>\n",
       "      <th>1</th>\n",
       "      <td>Air India</td>\n",
       "      <td>1/05/2019</td>\n",
       "      <td>Kolkata</td>\n",
       "      <td>Banglore</td>\n",
       "      <td>CCU → IXR → BBI → BLR</td>\n",
       "      <td>05:50</td>\n",
       "      <td>13:15</td>\n",
       "      <td>7h 25m</td>\n",
       "      <td>2 stops</td>\n",
       "      <td>No info</td>\n",
       "      <td>7662</td>\n",
       "    </tr>\n",
       "    <tr>\n",
       "      <th>2</th>\n",
       "      <td>Jet Airways</td>\n",
       "      <td>9/06/2019</td>\n",
       "      <td>Delhi</td>\n",
       "      <td>Cochin</td>\n",
       "      <td>DEL → LKO → BOM → COK</td>\n",
       "      <td>09:25</td>\n",
       "      <td>04:25 10 Jun</td>\n",
       "      <td>19h</td>\n",
       "      <td>2 stops</td>\n",
       "      <td>No info</td>\n",
       "      <td>13882</td>\n",
       "    </tr>\n",
       "    <tr>\n",
       "      <th>3</th>\n",
       "      <td>IndiGo</td>\n",
       "      <td>12/05/2019</td>\n",
       "      <td>Kolkata</td>\n",
       "      <td>Banglore</td>\n",
       "      <td>CCU → NAG → BLR</td>\n",
       "      <td>18:05</td>\n",
       "      <td>23:30</td>\n",
       "      <td>5h 25m</td>\n",
       "      <td>1 stop</td>\n",
       "      <td>No info</td>\n",
       "      <td>6218</td>\n",
       "    </tr>\n",
       "    <tr>\n",
       "      <th>4</th>\n",
       "      <td>IndiGo</td>\n",
       "      <td>01/03/2019</td>\n",
       "      <td>Banglore</td>\n",
       "      <td>New Delhi</td>\n",
       "      <td>BLR → NAG → DEL</td>\n",
       "      <td>16:50</td>\n",
       "      <td>21:35</td>\n",
       "      <td>4h 45m</td>\n",
       "      <td>1 stop</td>\n",
       "      <td>No info</td>\n",
       "      <td>13302</td>\n",
       "    </tr>\n",
       "  </tbody>\n",
       "</table>\n",
       "</div>"
      ],
      "text/plain": [
       "       Airline Date_of_Journey    Source Destination                  Route  \\\n",
       "0       IndiGo      24/03/2019  Banglore   New Delhi              BLR → DEL   \n",
       "1    Air India       1/05/2019   Kolkata    Banglore  CCU → IXR → BBI → BLR   \n",
       "2  Jet Airways       9/06/2019     Delhi      Cochin  DEL → LKO → BOM → COK   \n",
       "3       IndiGo      12/05/2019   Kolkata    Banglore        CCU → NAG → BLR   \n",
       "4       IndiGo      01/03/2019  Banglore   New Delhi        BLR → NAG → DEL   \n",
       "\n",
       "  Dep_Time  Arrival_Time Duration Total_Stops Additional_Info  Price  \n",
       "0    22:20  01:10 22 Mar   2h 50m    non-stop         No info   3897  \n",
       "1    05:50         13:15   7h 25m     2 stops         No info   7662  \n",
       "2    09:25  04:25 10 Jun      19h     2 stops         No info  13882  \n",
       "3    18:05         23:30   5h 25m      1 stop         No info   6218  \n",
       "4    16:50         21:35   4h 45m      1 stop         No info  13302  "
      ]
     },
     "execution_count": 3,
     "metadata": {},
     "output_type": "execute_result"
    }
   ],
   "source": [
    "train_data.head()"
   ]
  },
  {
   "cell_type": "code",
   "execution_count": 4,
   "id": "123f5ddb-2ba7-454a-9156-083ee52a1b6b",
   "metadata": {},
   "outputs": [
    {
     "data": {
      "text/html": [
       "<div>\n",
       "<style scoped>\n",
       "    .dataframe tbody tr th:only-of-type {\n",
       "        vertical-align: middle;\n",
       "    }\n",
       "\n",
       "    .dataframe tbody tr th {\n",
       "        vertical-align: top;\n",
       "    }\n",
       "\n",
       "    .dataframe thead th {\n",
       "        text-align: right;\n",
       "    }\n",
       "</style>\n",
       "<table border=\"1\" class=\"dataframe\">\n",
       "  <thead>\n",
       "    <tr style=\"text-align: right;\">\n",
       "      <th></th>\n",
       "      <th>Airline</th>\n",
       "      <th>Date_of_Journey</th>\n",
       "      <th>Source</th>\n",
       "      <th>Destination</th>\n",
       "      <th>Route</th>\n",
       "      <th>Dep_Time</th>\n",
       "      <th>Arrival_Time</th>\n",
       "      <th>Duration</th>\n",
       "      <th>Total_Stops</th>\n",
       "      <th>Additional_Info</th>\n",
       "    </tr>\n",
       "  </thead>\n",
       "  <tbody>\n",
       "    <tr>\n",
       "      <th>0</th>\n",
       "      <td>Jet Airways</td>\n",
       "      <td>6/06/2019</td>\n",
       "      <td>Delhi</td>\n",
       "      <td>Cochin</td>\n",
       "      <td>DEL → BOM → COK</td>\n",
       "      <td>17:30</td>\n",
       "      <td>04:25 07 Jun</td>\n",
       "      <td>10h 55m</td>\n",
       "      <td>1 stop</td>\n",
       "      <td>No info</td>\n",
       "    </tr>\n",
       "    <tr>\n",
       "      <th>1</th>\n",
       "      <td>IndiGo</td>\n",
       "      <td>12/05/2019</td>\n",
       "      <td>Kolkata</td>\n",
       "      <td>Banglore</td>\n",
       "      <td>CCU → MAA → BLR</td>\n",
       "      <td>06:20</td>\n",
       "      <td>10:20</td>\n",
       "      <td>4h</td>\n",
       "      <td>1 stop</td>\n",
       "      <td>No info</td>\n",
       "    </tr>\n",
       "    <tr>\n",
       "      <th>2</th>\n",
       "      <td>Jet Airways</td>\n",
       "      <td>21/05/2019</td>\n",
       "      <td>Delhi</td>\n",
       "      <td>Cochin</td>\n",
       "      <td>DEL → BOM → COK</td>\n",
       "      <td>19:15</td>\n",
       "      <td>19:00 22 May</td>\n",
       "      <td>23h 45m</td>\n",
       "      <td>1 stop</td>\n",
       "      <td>In-flight meal not included</td>\n",
       "    </tr>\n",
       "    <tr>\n",
       "      <th>3</th>\n",
       "      <td>Multiple carriers</td>\n",
       "      <td>21/05/2019</td>\n",
       "      <td>Delhi</td>\n",
       "      <td>Cochin</td>\n",
       "      <td>DEL → BOM → COK</td>\n",
       "      <td>08:00</td>\n",
       "      <td>21:00</td>\n",
       "      <td>13h</td>\n",
       "      <td>1 stop</td>\n",
       "      <td>No info</td>\n",
       "    </tr>\n",
       "    <tr>\n",
       "      <th>4</th>\n",
       "      <td>Air Asia</td>\n",
       "      <td>24/06/2019</td>\n",
       "      <td>Banglore</td>\n",
       "      <td>Delhi</td>\n",
       "      <td>BLR → DEL</td>\n",
       "      <td>23:55</td>\n",
       "      <td>02:45 25 Jun</td>\n",
       "      <td>2h 50m</td>\n",
       "      <td>non-stop</td>\n",
       "      <td>No info</td>\n",
       "    </tr>\n",
       "  </tbody>\n",
       "</table>\n",
       "</div>"
      ],
      "text/plain": [
       "             Airline Date_of_Journey    Source Destination            Route  \\\n",
       "0        Jet Airways       6/06/2019     Delhi      Cochin  DEL → BOM → COK   \n",
       "1             IndiGo      12/05/2019   Kolkata    Banglore  CCU → MAA → BLR   \n",
       "2        Jet Airways      21/05/2019     Delhi      Cochin  DEL → BOM → COK   \n",
       "3  Multiple carriers      21/05/2019     Delhi      Cochin  DEL → BOM → COK   \n",
       "4           Air Asia      24/06/2019  Banglore       Delhi        BLR → DEL   \n",
       "\n",
       "  Dep_Time  Arrival_Time Duration Total_Stops              Additional_Info  \n",
       "0    17:30  04:25 07 Jun  10h 55m      1 stop                      No info  \n",
       "1    06:20         10:20       4h      1 stop                      No info  \n",
       "2    19:15  19:00 22 May  23h 45m      1 stop  In-flight meal not included  \n",
       "3    08:00         21:00      13h      1 stop                      No info  \n",
       "4    23:55  02:45 25 Jun   2h 50m    non-stop                      No info  "
      ]
     },
     "execution_count": 4,
     "metadata": {},
     "output_type": "execute_result"
    }
   ],
   "source": [
    "test_data.head()"
   ]
  },
  {
   "cell_type": "code",
   "execution_count": 5,
   "id": "73d9f447-012e-4c02-9424-45239177b4da",
   "metadata": {},
   "outputs": [
    {
     "data": {
      "text/plain": [
       "(10683, 11)"
      ]
     },
     "execution_count": 5,
     "metadata": {},
     "output_type": "execute_result"
    }
   ],
   "source": [
    "train_data.shape"
   ]
  },
  {
   "cell_type": "code",
   "execution_count": 6,
   "id": "d006247c-3f31-4b9c-95d9-4408230cc985",
   "metadata": {},
   "outputs": [
    {
     "data": {
      "text/plain": [
       "(2671, 10)"
      ]
     },
     "execution_count": 6,
     "metadata": {},
     "output_type": "execute_result"
    }
   ],
   "source": [
    "test_data.shape"
   ]
  },
  {
   "cell_type": "code",
   "execution_count": 7,
   "id": "b580c6c8-2d19-4338-aedf-ffb88463c357",
   "metadata": {},
   "outputs": [
    {
     "data": {
      "text/plain": [
       "Index(['Airline', 'Date_of_Journey', 'Source', 'Destination', 'Route',\n",
       "       'Dep_Time', 'Arrival_Time', 'Duration', 'Total_Stops',\n",
       "       'Additional_Info', 'Price'],\n",
       "      dtype='object')"
      ]
     },
     "execution_count": 7,
     "metadata": {},
     "output_type": "execute_result"
    }
   ],
   "source": [
    "train_data.columns"
   ]
  },
  {
   "cell_type": "code",
   "execution_count": 8,
   "id": "d0ae4847-e952-4b8f-aef2-02aa0c341243",
   "metadata": {},
   "outputs": [
    {
     "name": "stdout",
     "output_type": "stream",
     "text": [
      "<class 'pandas.core.frame.DataFrame'>\n",
      "RangeIndex: 10683 entries, 0 to 10682\n",
      "Data columns (total 11 columns):\n",
      " #   Column           Non-Null Count  Dtype \n",
      "---  ------           --------------  ----- \n",
      " 0   Airline          10683 non-null  object\n",
      " 1   Date_of_Journey  10683 non-null  object\n",
      " 2   Source           10683 non-null  object\n",
      " 3   Destination      10683 non-null  object\n",
      " 4   Route            10682 non-null  object\n",
      " 5   Dep_Time         10683 non-null  object\n",
      " 6   Arrival_Time     10683 non-null  object\n",
      " 7   Duration         10683 non-null  object\n",
      " 8   Total_Stops      10682 non-null  object\n",
      " 9   Additional_Info  10683 non-null  object\n",
      " 10  Price            10683 non-null  int64 \n",
      "dtypes: int64(1), object(10)\n",
      "memory usage: 918.2+ KB\n"
     ]
    }
   ],
   "source": [
    "train_data.info()"
   ]
  },
  {
   "cell_type": "code",
   "execution_count": 9,
   "id": "826a79e0-ce34-46a8-b499-774937e89606",
   "metadata": {},
   "outputs": [
    {
     "data": {
      "text/html": [
       "<div>\n",
       "<style scoped>\n",
       "    .dataframe tbody tr th:only-of-type {\n",
       "        vertical-align: middle;\n",
       "    }\n",
       "\n",
       "    .dataframe tbody tr th {\n",
       "        vertical-align: top;\n",
       "    }\n",
       "\n",
       "    .dataframe thead th {\n",
       "        text-align: right;\n",
       "    }\n",
       "</style>\n",
       "<table border=\"1\" class=\"dataframe\">\n",
       "  <thead>\n",
       "    <tr style=\"text-align: right;\">\n",
       "      <th></th>\n",
       "      <th>Price</th>\n",
       "    </tr>\n",
       "  </thead>\n",
       "  <tbody>\n",
       "    <tr>\n",
       "      <th>count</th>\n",
       "      <td>10683.000000</td>\n",
       "    </tr>\n",
       "    <tr>\n",
       "      <th>mean</th>\n",
       "      <td>9087.064121</td>\n",
       "    </tr>\n",
       "    <tr>\n",
       "      <th>std</th>\n",
       "      <td>4611.359167</td>\n",
       "    </tr>\n",
       "    <tr>\n",
       "      <th>min</th>\n",
       "      <td>1759.000000</td>\n",
       "    </tr>\n",
       "    <tr>\n",
       "      <th>25%</th>\n",
       "      <td>5277.000000</td>\n",
       "    </tr>\n",
       "    <tr>\n",
       "      <th>50%</th>\n",
       "      <td>8372.000000</td>\n",
       "    </tr>\n",
       "    <tr>\n",
       "      <th>75%</th>\n",
       "      <td>12373.000000</td>\n",
       "    </tr>\n",
       "    <tr>\n",
       "      <th>max</th>\n",
       "      <td>79512.000000</td>\n",
       "    </tr>\n",
       "  </tbody>\n",
       "</table>\n",
       "</div>"
      ],
      "text/plain": [
       "              Price\n",
       "count  10683.000000\n",
       "mean    9087.064121\n",
       "std     4611.359167\n",
       "min     1759.000000\n",
       "25%     5277.000000\n",
       "50%     8372.000000\n",
       "75%    12373.000000\n",
       "max    79512.000000"
      ]
     },
     "execution_count": 9,
     "metadata": {},
     "output_type": "execute_result"
    }
   ],
   "source": [
    "train_data.describe()"
   ]
  },
  {
   "cell_type": "code",
   "execution_count": 10,
   "id": "1a46d2a3-465e-4cb8-9988-a81841b6aa6e",
   "metadata": {},
   "outputs": [],
   "source": [
    "#all are object colums.we have only one neumerical column"
   ]
  },
  {
   "cell_type": "code",
   "execution_count": 11,
   "id": "bb4f1309-ed38-4418-b5bc-fb29a66cff4c",
   "metadata": {},
   "outputs": [
    {
     "data": {
      "text/plain": [
       "Airline            0\n",
       "Date_of_Journey    0\n",
       "Source             0\n",
       "Destination        0\n",
       "Route              1\n",
       "Dep_Time           0\n",
       "Arrival_Time       0\n",
       "Duration           0\n",
       "Total_Stops        1\n",
       "Additional_Info    0\n",
       "Price              0\n",
       "dtype: int64"
      ]
     },
     "execution_count": 11,
     "metadata": {},
     "output_type": "execute_result"
    }
   ],
   "source": [
    "#checking for null values\n",
    "train_data.isnull().sum()"
   ]
  },
  {
   "cell_type": "code",
   "execution_count": 12,
   "id": "8b6cdced-b135-4d85-a1db-9bc47176456b",
   "metadata": {},
   "outputs": [
    {
     "data": {
      "text/plain": [
       "Airline            0\n",
       "Date_of_Journey    0\n",
       "Source             0\n",
       "Destination        0\n",
       "Route              0\n",
       "Dep_Time           0\n",
       "Arrival_Time       0\n",
       "Duration           0\n",
       "Total_Stops        0\n",
       "Additional_Info    0\n",
       "dtype: int64"
      ]
     },
     "execution_count": 12,
     "metadata": {},
     "output_type": "execute_result"
    }
   ],
   "source": [
    "test_data.isnull().sum()"
   ]
  },
  {
   "cell_type": "code",
   "execution_count": 13,
   "id": "a5f97f89-e952-4d4d-8aec-7bba6e3b034b",
   "metadata": {},
   "outputs": [],
   "source": [
    "#we have only null values in train data and also two colums which has only one null value\n",
    "#so we can drop the null values"
   ]
  },
  {
   "cell_type": "code",
   "execution_count": 14,
   "id": "d785ccc4-a5a8-4738-86c7-4683d89bef0a",
   "metadata": {},
   "outputs": [],
   "source": [
    "train_data.dropna(inplace=True)"
   ]
  },
  {
   "cell_type": "code",
   "execution_count": 15,
   "id": "ddefd2a8-501e-4e11-bdcd-336c0a2dbe5e",
   "metadata": {},
   "outputs": [
    {
     "data": {
      "text/plain": [
       "Airline            0\n",
       "Date_of_Journey    0\n",
       "Source             0\n",
       "Destination        0\n",
       "Route              0\n",
       "Dep_Time           0\n",
       "Arrival_Time       0\n",
       "Duration           0\n",
       "Total_Stops        0\n",
       "Additional_Info    0\n",
       "Price              0\n",
       "dtype: int64"
      ]
     },
     "execution_count": 15,
     "metadata": {},
     "output_type": "execute_result"
    }
   ],
   "source": [
    "train_data.isnull().sum()"
   ]
  },
  {
   "cell_type": "code",
   "execution_count": 16,
   "id": "a92add50-a1dd-4879-8b31-9f5a135e266a",
   "metadata": {},
   "outputs": [],
   "source": [
    "#null values are removed"
   ]
  },
  {
   "cell_type": "code",
   "execution_count": 17,
   "id": "66a477ff-67e9-4946-928f-0431af1843f1",
   "metadata": {},
   "outputs": [
    {
     "data": {
      "text/html": [
       "<div>\n",
       "<style scoped>\n",
       "    .dataframe tbody tr th:only-of-type {\n",
       "        vertical-align: middle;\n",
       "    }\n",
       "\n",
       "    .dataframe tbody tr th {\n",
       "        vertical-align: top;\n",
       "    }\n",
       "\n",
       "    .dataframe thead th {\n",
       "        text-align: right;\n",
       "    }\n",
       "</style>\n",
       "<table border=\"1\" class=\"dataframe\">\n",
       "  <thead>\n",
       "    <tr style=\"text-align: right;\">\n",
       "      <th></th>\n",
       "      <th>Airline</th>\n",
       "      <th>Date_of_Journey</th>\n",
       "      <th>Source</th>\n",
       "      <th>Destination</th>\n",
       "      <th>Route</th>\n",
       "      <th>Dep_Time</th>\n",
       "      <th>Arrival_Time</th>\n",
       "      <th>Duration</th>\n",
       "      <th>Total_Stops</th>\n",
       "      <th>Additional_Info</th>\n",
       "      <th>Price</th>\n",
       "    </tr>\n",
       "  </thead>\n",
       "  <tbody>\n",
       "    <tr>\n",
       "      <th>683</th>\n",
       "      <td>Jet Airways</td>\n",
       "      <td>1/06/2019</td>\n",
       "      <td>Delhi</td>\n",
       "      <td>Cochin</td>\n",
       "      <td>DEL → NAG → BOM → COK</td>\n",
       "      <td>14:35</td>\n",
       "      <td>04:25 02 Jun</td>\n",
       "      <td>13h 50m</td>\n",
       "      <td>2 stops</td>\n",
       "      <td>No info</td>\n",
       "      <td>13376</td>\n",
       "    </tr>\n",
       "    <tr>\n",
       "      <th>1061</th>\n",
       "      <td>Air India</td>\n",
       "      <td>21/05/2019</td>\n",
       "      <td>Delhi</td>\n",
       "      <td>Cochin</td>\n",
       "      <td>DEL → GOI → BOM → COK</td>\n",
       "      <td>22:00</td>\n",
       "      <td>19:15 22 May</td>\n",
       "      <td>21h 15m</td>\n",
       "      <td>2 stops</td>\n",
       "      <td>No info</td>\n",
       "      <td>10231</td>\n",
       "    </tr>\n",
       "    <tr>\n",
       "      <th>1348</th>\n",
       "      <td>Air India</td>\n",
       "      <td>18/05/2019</td>\n",
       "      <td>Delhi</td>\n",
       "      <td>Cochin</td>\n",
       "      <td>DEL → HYD → BOM → COK</td>\n",
       "      <td>17:15</td>\n",
       "      <td>19:15 19 May</td>\n",
       "      <td>26h</td>\n",
       "      <td>2 stops</td>\n",
       "      <td>No info</td>\n",
       "      <td>12392</td>\n",
       "    </tr>\n",
       "    <tr>\n",
       "      <th>1418</th>\n",
       "      <td>Jet Airways</td>\n",
       "      <td>6/06/2019</td>\n",
       "      <td>Delhi</td>\n",
       "      <td>Cochin</td>\n",
       "      <td>DEL → JAI → BOM → COK</td>\n",
       "      <td>05:30</td>\n",
       "      <td>04:25 07 Jun</td>\n",
       "      <td>22h 55m</td>\n",
       "      <td>2 stops</td>\n",
       "      <td>In-flight meal not included</td>\n",
       "      <td>10368</td>\n",
       "    </tr>\n",
       "    <tr>\n",
       "      <th>1674</th>\n",
       "      <td>IndiGo</td>\n",
       "      <td>24/03/2019</td>\n",
       "      <td>Banglore</td>\n",
       "      <td>New Delhi</td>\n",
       "      <td>BLR → DEL</td>\n",
       "      <td>18:25</td>\n",
       "      <td>21:20</td>\n",
       "      <td>2h 55m</td>\n",
       "      <td>non-stop</td>\n",
       "      <td>No info</td>\n",
       "      <td>7303</td>\n",
       "    </tr>\n",
       "  </tbody>\n",
       "</table>\n",
       "</div>"
      ],
      "text/plain": [
       "          Airline Date_of_Journey    Source Destination  \\\n",
       "683   Jet Airways       1/06/2019     Delhi      Cochin   \n",
       "1061    Air India      21/05/2019     Delhi      Cochin   \n",
       "1348    Air India      18/05/2019     Delhi      Cochin   \n",
       "1418  Jet Airways       6/06/2019     Delhi      Cochin   \n",
       "1674       IndiGo      24/03/2019  Banglore   New Delhi   \n",
       "\n",
       "                      Route Dep_Time  Arrival_Time Duration Total_Stops  \\\n",
       "683   DEL → NAG → BOM → COK    14:35  04:25 02 Jun  13h 50m     2 stops   \n",
       "1061  DEL → GOI → BOM → COK    22:00  19:15 22 May  21h 15m     2 stops   \n",
       "1348  DEL → HYD → BOM → COK    17:15  19:15 19 May      26h     2 stops   \n",
       "1418  DEL → JAI → BOM → COK    05:30  04:25 07 Jun  22h 55m     2 stops   \n",
       "1674              BLR → DEL    18:25         21:20   2h 55m    non-stop   \n",
       "\n",
       "                  Additional_Info  Price  \n",
       "683                       No info  13376  \n",
       "1061                      No info  10231  \n",
       "1348                      No info  12392  \n",
       "1418  In-flight meal not included  10368  \n",
       "1674                      No info   7303  "
      ]
     },
     "execution_count": 17,
     "metadata": {},
     "output_type": "execute_result"
    }
   ],
   "source": [
    "#checking for duplicate values\n",
    "train_data[train_data.duplicated()].head()"
   ]
  },
  {
   "cell_type": "code",
   "execution_count": 18,
   "id": "33dc8e37-9daa-416c-878d-cc8ea49840b0",
   "metadata": {},
   "outputs": [],
   "source": [
    "train_data.drop_duplicates(keep='first',inplace=True)"
   ]
  },
  {
   "cell_type": "code",
   "execution_count": 19,
   "id": "6c465b88-0c3c-48e4-aac8-fc8a24ddb8fc",
   "metadata": {},
   "outputs": [
    {
     "data": {
      "text/plain": [
       "(10462, 11)"
      ]
     },
     "execution_count": 19,
     "metadata": {},
     "output_type": "execute_result"
    }
   ],
   "source": [
    "train_data.shape"
   ]
  },
  {
   "cell_type": "code",
   "execution_count": 20,
   "id": "1babf9fd-4418-42a8-b693-a4e19c8583fd",
   "metadata": {},
   "outputs": [
    {
     "data": {
      "text/html": [
       "<div>\n",
       "<style scoped>\n",
       "    .dataframe tbody tr th:only-of-type {\n",
       "        vertical-align: middle;\n",
       "    }\n",
       "\n",
       "    .dataframe tbody tr th {\n",
       "        vertical-align: top;\n",
       "    }\n",
       "\n",
       "    .dataframe thead th {\n",
       "        text-align: right;\n",
       "    }\n",
       "</style>\n",
       "<table border=\"1\" class=\"dataframe\">\n",
       "  <thead>\n",
       "    <tr style=\"text-align: right;\">\n",
       "      <th></th>\n",
       "      <th>Airline</th>\n",
       "      <th>Date_of_Journey</th>\n",
       "      <th>Source</th>\n",
       "      <th>Destination</th>\n",
       "      <th>Route</th>\n",
       "      <th>Dep_Time</th>\n",
       "      <th>Arrival_Time</th>\n",
       "      <th>Duration</th>\n",
       "      <th>Total_Stops</th>\n",
       "      <th>Additional_Info</th>\n",
       "    </tr>\n",
       "  </thead>\n",
       "  <tbody>\n",
       "    <tr>\n",
       "      <th>294</th>\n",
       "      <td>Jet Airways</td>\n",
       "      <td>12/06/2019</td>\n",
       "      <td>Delhi</td>\n",
       "      <td>Cochin</td>\n",
       "      <td>DEL → JAI → BOM → COK</td>\n",
       "      <td>05:30</td>\n",
       "      <td>04:25 13 Jun</td>\n",
       "      <td>22h 55m</td>\n",
       "      <td>2 stops</td>\n",
       "      <td>No info</td>\n",
       "    </tr>\n",
       "    <tr>\n",
       "      <th>794</th>\n",
       "      <td>Jet Airways</td>\n",
       "      <td>12/06/2019</td>\n",
       "      <td>Delhi</td>\n",
       "      <td>Cochin</td>\n",
       "      <td>DEL → JAI → BOM → COK</td>\n",
       "      <td>05:30</td>\n",
       "      <td>04:25 13 Jun</td>\n",
       "      <td>22h 55m</td>\n",
       "      <td>2 stops</td>\n",
       "      <td>In-flight meal not included</td>\n",
       "    </tr>\n",
       "    <tr>\n",
       "      <th>909</th>\n",
       "      <td>IndiGo</td>\n",
       "      <td>24/03/2019</td>\n",
       "      <td>Banglore</td>\n",
       "      <td>New Delhi</td>\n",
       "      <td>BLR → DEL</td>\n",
       "      <td>20:00</td>\n",
       "      <td>22:55</td>\n",
       "      <td>2h 55m</td>\n",
       "      <td>non-stop</td>\n",
       "      <td>No info</td>\n",
       "    </tr>\n",
       "    <tr>\n",
       "      <th>974</th>\n",
       "      <td>Air India</td>\n",
       "      <td>12/06/2019</td>\n",
       "      <td>Kolkata</td>\n",
       "      <td>Banglore</td>\n",
       "      <td>CCU → DEL → AMD → BLR</td>\n",
       "      <td>07:00</td>\n",
       "      <td>05:25 13 Jun</td>\n",
       "      <td>22h 25m</td>\n",
       "      <td>2 stops</td>\n",
       "      <td>No info</td>\n",
       "    </tr>\n",
       "    <tr>\n",
       "      <th>1011</th>\n",
       "      <td>Jet Airways</td>\n",
       "      <td>9/05/2019</td>\n",
       "      <td>Delhi</td>\n",
       "      <td>Cochin</td>\n",
       "      <td>DEL → JAI → BOM → COK</td>\n",
       "      <td>05:30</td>\n",
       "      <td>04:25 10 May</td>\n",
       "      <td>22h 55m</td>\n",
       "      <td>2 stops</td>\n",
       "      <td>No info</td>\n",
       "    </tr>\n",
       "  </tbody>\n",
       "</table>\n",
       "</div>"
      ],
      "text/plain": [
       "          Airline Date_of_Journey    Source Destination  \\\n",
       "294   Jet Airways      12/06/2019     Delhi      Cochin   \n",
       "794   Jet Airways      12/06/2019     Delhi      Cochin   \n",
       "909        IndiGo      24/03/2019  Banglore   New Delhi   \n",
       "974     Air India      12/06/2019   Kolkata    Banglore   \n",
       "1011  Jet Airways       9/05/2019     Delhi      Cochin   \n",
       "\n",
       "                      Route Dep_Time  Arrival_Time Duration Total_Stops  \\\n",
       "294   DEL → JAI → BOM → COK    05:30  04:25 13 Jun  22h 55m     2 stops   \n",
       "794   DEL → JAI → BOM → COK    05:30  04:25 13 Jun  22h 55m     2 stops   \n",
       "909               BLR → DEL    20:00         22:55   2h 55m    non-stop   \n",
       "974   CCU → DEL → AMD → BLR    07:00  05:25 13 Jun  22h 25m     2 stops   \n",
       "1011  DEL → JAI → BOM → COK    05:30  04:25 10 May  22h 55m     2 stops   \n",
       "\n",
       "                  Additional_Info  \n",
       "294                       No info  \n",
       "794   In-flight meal not included  \n",
       "909                       No info  \n",
       "974                       No info  \n",
       "1011                      No info  "
      ]
     },
     "execution_count": 20,
     "metadata": {},
     "output_type": "execute_result"
    }
   ],
   "source": [
    "test_data[test_data.duplicated()].head()"
   ]
  },
  {
   "cell_type": "code",
   "execution_count": 21,
   "id": "5e7724ea-1859-4da4-83e7-f7a3e82d99b6",
   "metadata": {},
   "outputs": [],
   "source": [
    "test_data.drop_duplicates(keep='first',inplace=True)"
   ]
  },
  {
   "cell_type": "code",
   "execution_count": 22,
   "id": "8c4f9968-ddd6-4696-84e2-287be13cd428",
   "metadata": {},
   "outputs": [
    {
     "data": {
      "text/plain": [
       "(2645, 10)"
      ]
     },
     "execution_count": 22,
     "metadata": {},
     "output_type": "execute_result"
    }
   ],
   "source": [
    "test_data.shape"
   ]
  },
  {
   "cell_type": "code",
   "execution_count": 23,
   "id": "0c70b28f-3681-4894-807e-bb08bd509be7",
   "metadata": {},
   "outputs": [
    {
     "data": {
      "text/html": [
       "<div>\n",
       "<style scoped>\n",
       "    .dataframe tbody tr th:only-of-type {\n",
       "        vertical-align: middle;\n",
       "    }\n",
       "\n",
       "    .dataframe tbody tr th {\n",
       "        vertical-align: top;\n",
       "    }\n",
       "\n",
       "    .dataframe thead th {\n",
       "        text-align: right;\n",
       "    }\n",
       "</style>\n",
       "<table border=\"1\" class=\"dataframe\">\n",
       "  <thead>\n",
       "    <tr style=\"text-align: right;\">\n",
       "      <th></th>\n",
       "      <th>Airline</th>\n",
       "      <th>Date_of_Journey</th>\n",
       "      <th>Source</th>\n",
       "      <th>Destination</th>\n",
       "      <th>Route</th>\n",
       "      <th>Dep_Time</th>\n",
       "      <th>Arrival_Time</th>\n",
       "      <th>Duration</th>\n",
       "      <th>Total_Stops</th>\n",
       "      <th>Additional_Info</th>\n",
       "      <th>Price</th>\n",
       "    </tr>\n",
       "  </thead>\n",
       "  <tbody>\n",
       "    <tr>\n",
       "      <th>0</th>\n",
       "      <td>IndiGo</td>\n",
       "      <td>24/03/2019</td>\n",
       "      <td>Banglore</td>\n",
       "      <td>New Delhi</td>\n",
       "      <td>BLR → DEL</td>\n",
       "      <td>22:20</td>\n",
       "      <td>01:10 22 Mar</td>\n",
       "      <td>2h 50m</td>\n",
       "      <td>non-stop</td>\n",
       "      <td>No info</td>\n",
       "      <td>3897</td>\n",
       "    </tr>\n",
       "    <tr>\n",
       "      <th>1</th>\n",
       "      <td>Air India</td>\n",
       "      <td>1/05/2019</td>\n",
       "      <td>Kolkata</td>\n",
       "      <td>Banglore</td>\n",
       "      <td>CCU → IXR → BBI → BLR</td>\n",
       "      <td>05:50</td>\n",
       "      <td>13:15</td>\n",
       "      <td>7h 25m</td>\n",
       "      <td>2 stops</td>\n",
       "      <td>No info</td>\n",
       "      <td>7662</td>\n",
       "    </tr>\n",
       "    <tr>\n",
       "      <th>2</th>\n",
       "      <td>Jet Airways</td>\n",
       "      <td>9/06/2019</td>\n",
       "      <td>Delhi</td>\n",
       "      <td>Cochin</td>\n",
       "      <td>DEL → LKO → BOM → COK</td>\n",
       "      <td>09:25</td>\n",
       "      <td>04:25 10 Jun</td>\n",
       "      <td>19h</td>\n",
       "      <td>2 stops</td>\n",
       "      <td>No info</td>\n",
       "      <td>13882</td>\n",
       "    </tr>\n",
       "    <tr>\n",
       "      <th>3</th>\n",
       "      <td>IndiGo</td>\n",
       "      <td>12/05/2019</td>\n",
       "      <td>Kolkata</td>\n",
       "      <td>Banglore</td>\n",
       "      <td>CCU → NAG → BLR</td>\n",
       "      <td>18:05</td>\n",
       "      <td>23:30</td>\n",
       "      <td>5h 25m</td>\n",
       "      <td>1 stop</td>\n",
       "      <td>No info</td>\n",
       "      <td>6218</td>\n",
       "    </tr>\n",
       "    <tr>\n",
       "      <th>4</th>\n",
       "      <td>IndiGo</td>\n",
       "      <td>01/03/2019</td>\n",
       "      <td>Banglore</td>\n",
       "      <td>New Delhi</td>\n",
       "      <td>BLR → NAG → DEL</td>\n",
       "      <td>16:50</td>\n",
       "      <td>21:35</td>\n",
       "      <td>4h 45m</td>\n",
       "      <td>1 stop</td>\n",
       "      <td>No info</td>\n",
       "      <td>13302</td>\n",
       "    </tr>\n",
       "  </tbody>\n",
       "</table>\n",
       "</div>"
      ],
      "text/plain": [
       "       Airline Date_of_Journey    Source Destination                  Route  \\\n",
       "0       IndiGo      24/03/2019  Banglore   New Delhi              BLR → DEL   \n",
       "1    Air India       1/05/2019   Kolkata    Banglore  CCU → IXR → BBI → BLR   \n",
       "2  Jet Airways       9/06/2019     Delhi      Cochin  DEL → LKO → BOM → COK   \n",
       "3       IndiGo      12/05/2019   Kolkata    Banglore        CCU → NAG → BLR   \n",
       "4       IndiGo      01/03/2019  Banglore   New Delhi        BLR → NAG → DEL   \n",
       "\n",
       "  Dep_Time  Arrival_Time Duration Total_Stops Additional_Info  Price  \n",
       "0    22:20  01:10 22 Mar   2h 50m    non-stop         No info   3897  \n",
       "1    05:50         13:15   7h 25m     2 stops         No info   7662  \n",
       "2    09:25  04:25 10 Jun      19h     2 stops         No info  13882  \n",
       "3    18:05         23:30   5h 25m      1 stop         No info   6218  \n",
       "4    16:50         21:35   4h 45m      1 stop         No info  13302  "
      ]
     },
     "execution_count": 23,
     "metadata": {},
     "output_type": "execute_result"
    }
   ],
   "source": [
    "train_data.head()"
   ]
  },
  {
   "cell_type": "markdown",
   "id": "7b568528",
   "metadata": {},
   "source": [
    "# Feature Engineering"
   ]
  },
  {
   "cell_type": "markdown",
   "id": "f64917d9-7dba-4d2b-a33e-58c35ac72744",
   "metadata": {},
   "source": [
    "#converting date to date time format"
   ]
  },
  {
   "cell_type": "code",
   "execution_count": 24,
   "id": "66f91f47-af3c-40cc-8281-879603a14975",
   "metadata": {},
   "outputs": [],
   "source": [
    "train_data['Date_of_Journey']=pd.to_datetime(train_data.Date_of_Journey)"
   ]
  },
  {
   "cell_type": "code",
   "execution_count": 25,
   "id": "6bd95a93-2e0b-41f2-817b-92a9f449fbd6",
   "metadata": {},
   "outputs": [
    {
     "name": "stdout",
     "output_type": "stream",
     "text": [
      "<class 'pandas.core.frame.DataFrame'>\n",
      "Int64Index: 10462 entries, 0 to 10682\n",
      "Data columns (total 11 columns):\n",
      " #   Column           Non-Null Count  Dtype         \n",
      "---  ------           --------------  -----         \n",
      " 0   Airline          10462 non-null  object        \n",
      " 1   Date_of_Journey  10462 non-null  datetime64[ns]\n",
      " 2   Source           10462 non-null  object        \n",
      " 3   Destination      10462 non-null  object        \n",
      " 4   Route            10462 non-null  object        \n",
      " 5   Dep_Time         10462 non-null  object        \n",
      " 6   Arrival_Time     10462 non-null  object        \n",
      " 7   Duration         10462 non-null  object        \n",
      " 8   Total_Stops      10462 non-null  object        \n",
      " 9   Additional_Info  10462 non-null  object        \n",
      " 10  Price            10462 non-null  int64         \n",
      "dtypes: datetime64[ns](1), int64(1), object(9)\n",
      "memory usage: 980.8+ KB\n"
     ]
    }
   ],
   "source": [
    "train_data.info()"
   ]
  },
  {
   "cell_type": "code",
   "execution_count": 26,
   "id": "1954d1b1-48c9-4033-8804-760963b010a3",
   "metadata": {},
   "outputs": [],
   "source": [
    "test_data['Date_of_Journey']=pd.to_datetime(test_data.Date_of_Journey)"
   ]
  },
  {
   "cell_type": "code",
   "execution_count": 27,
   "id": "0de5d7a2-a113-48cb-b668-a59668c03de9",
   "metadata": {},
   "outputs": [
    {
     "name": "stdout",
     "output_type": "stream",
     "text": [
      "<class 'pandas.core.frame.DataFrame'>\n",
      "Int64Index: 2645 entries, 0 to 2670\n",
      "Data columns (total 10 columns):\n",
      " #   Column           Non-Null Count  Dtype         \n",
      "---  ------           --------------  -----         \n",
      " 0   Airline          2645 non-null   object        \n",
      " 1   Date_of_Journey  2645 non-null   datetime64[ns]\n",
      " 2   Source           2645 non-null   object        \n",
      " 3   Destination      2645 non-null   object        \n",
      " 4   Route            2645 non-null   object        \n",
      " 5   Dep_Time         2645 non-null   object        \n",
      " 6   Arrival_Time     2645 non-null   object        \n",
      " 7   Duration         2645 non-null   object        \n",
      " 8   Total_Stops      2645 non-null   object        \n",
      " 9   Additional_Info  2645 non-null   object        \n",
      "dtypes: datetime64[ns](1), object(9)\n",
      "memory usage: 227.3+ KB\n"
     ]
    }
   ],
   "source": [
    "test_data.info()"
   ]
  },
  {
   "cell_type": "code",
   "execution_count": 28,
   "id": "c1f8e131-4f5f-4c36-90a6-95b68b4e1f63",
   "metadata": {},
   "outputs": [],
   "source": [
    "train_data['Duration']=train_data['Duration'].str.replace('h','*60').str.replace(' ','+').str.replace('m','*1').apply(eval)"
   ]
  },
  {
   "cell_type": "code",
   "execution_count": 29,
   "id": "c37698a2-a4ae-405e-bf2b-190b3b22814f",
   "metadata": {},
   "outputs": [],
   "source": [
    "test_data['Duration']=test_data['Duration'].str.replace('h','*60').str.replace(' ','+').str.replace('m','*1').apply(eval)"
   ]
  },
  {
   "cell_type": "code",
   "execution_count": 30,
   "id": "639a1264-6d82-4b09-9db5-14b006ab33f0",
   "metadata": {},
   "outputs": [],
   "source": [
    "#splitting date column into year ,day,month\n",
    "train_data['journey_Year']= train_data['Date_of_Journey'].dt.year\n",
    "train_data['journey_day']=train_data['Date_of_Journey'].dt.day\n",
    "train_data['journey_month']=train_data['Date_of_Journey'].dt.month\n"
   ]
  },
  {
   "cell_type": "code",
   "execution_count": 31,
   "id": "2e115bea",
   "metadata": {},
   "outputs": [],
   "source": [
    "test_data['journey_Year']= test_data['Date_of_Journey'].dt.year\n",
    "test_data['journey_day']=test_data['Date_of_Journey'].dt.day\n",
    "test_data['journey_month']=test_data['Date_of_Journey'].dt.month"
   ]
  },
  {
   "cell_type": "code",
   "execution_count": 32,
   "id": "035d2664",
   "metadata": {},
   "outputs": [
    {
     "data": {
      "text/html": [
       "<div>\n",
       "<style scoped>\n",
       "    .dataframe tbody tr th:only-of-type {\n",
       "        vertical-align: middle;\n",
       "    }\n",
       "\n",
       "    .dataframe tbody tr th {\n",
       "        vertical-align: top;\n",
       "    }\n",
       "\n",
       "    .dataframe thead th {\n",
       "        text-align: right;\n",
       "    }\n",
       "</style>\n",
       "<table border=\"1\" class=\"dataframe\">\n",
       "  <thead>\n",
       "    <tr style=\"text-align: right;\">\n",
       "      <th></th>\n",
       "      <th>Airline</th>\n",
       "      <th>Date_of_Journey</th>\n",
       "      <th>Source</th>\n",
       "      <th>Destination</th>\n",
       "      <th>Route</th>\n",
       "      <th>Dep_Time</th>\n",
       "      <th>Arrival_Time</th>\n",
       "      <th>Duration</th>\n",
       "      <th>Total_Stops</th>\n",
       "      <th>Additional_Info</th>\n",
       "      <th>Price</th>\n",
       "      <th>journey_Year</th>\n",
       "      <th>journey_day</th>\n",
       "      <th>journey_month</th>\n",
       "    </tr>\n",
       "  </thead>\n",
       "  <tbody>\n",
       "    <tr>\n",
       "      <th>0</th>\n",
       "      <td>IndiGo</td>\n",
       "      <td>2019-03-24</td>\n",
       "      <td>Banglore</td>\n",
       "      <td>New Delhi</td>\n",
       "      <td>BLR → DEL</td>\n",
       "      <td>22:20</td>\n",
       "      <td>01:10 22 Mar</td>\n",
       "      <td>170</td>\n",
       "      <td>non-stop</td>\n",
       "      <td>No info</td>\n",
       "      <td>3897</td>\n",
       "      <td>2019</td>\n",
       "      <td>24</td>\n",
       "      <td>3</td>\n",
       "    </tr>\n",
       "    <tr>\n",
       "      <th>1</th>\n",
       "      <td>Air India</td>\n",
       "      <td>2019-01-05</td>\n",
       "      <td>Kolkata</td>\n",
       "      <td>Banglore</td>\n",
       "      <td>CCU → IXR → BBI → BLR</td>\n",
       "      <td>05:50</td>\n",
       "      <td>13:15</td>\n",
       "      <td>445</td>\n",
       "      <td>2 stops</td>\n",
       "      <td>No info</td>\n",
       "      <td>7662</td>\n",
       "      <td>2019</td>\n",
       "      <td>5</td>\n",
       "      <td>1</td>\n",
       "    </tr>\n",
       "    <tr>\n",
       "      <th>2</th>\n",
       "      <td>Jet Airways</td>\n",
       "      <td>2019-09-06</td>\n",
       "      <td>Delhi</td>\n",
       "      <td>Cochin</td>\n",
       "      <td>DEL → LKO → BOM → COK</td>\n",
       "      <td>09:25</td>\n",
       "      <td>04:25 10 Jun</td>\n",
       "      <td>1140</td>\n",
       "      <td>2 stops</td>\n",
       "      <td>No info</td>\n",
       "      <td>13882</td>\n",
       "      <td>2019</td>\n",
       "      <td>6</td>\n",
       "      <td>9</td>\n",
       "    </tr>\n",
       "    <tr>\n",
       "      <th>3</th>\n",
       "      <td>IndiGo</td>\n",
       "      <td>2019-12-05</td>\n",
       "      <td>Kolkata</td>\n",
       "      <td>Banglore</td>\n",
       "      <td>CCU → NAG → BLR</td>\n",
       "      <td>18:05</td>\n",
       "      <td>23:30</td>\n",
       "      <td>325</td>\n",
       "      <td>1 stop</td>\n",
       "      <td>No info</td>\n",
       "      <td>6218</td>\n",
       "      <td>2019</td>\n",
       "      <td>5</td>\n",
       "      <td>12</td>\n",
       "    </tr>\n",
       "    <tr>\n",
       "      <th>4</th>\n",
       "      <td>IndiGo</td>\n",
       "      <td>2019-01-03</td>\n",
       "      <td>Banglore</td>\n",
       "      <td>New Delhi</td>\n",
       "      <td>BLR → NAG → DEL</td>\n",
       "      <td>16:50</td>\n",
       "      <td>21:35</td>\n",
       "      <td>285</td>\n",
       "      <td>1 stop</td>\n",
       "      <td>No info</td>\n",
       "      <td>13302</td>\n",
       "      <td>2019</td>\n",
       "      <td>3</td>\n",
       "      <td>1</td>\n",
       "    </tr>\n",
       "  </tbody>\n",
       "</table>\n",
       "</div>"
      ],
      "text/plain": [
       "       Airline Date_of_Journey    Source Destination                  Route  \\\n",
       "0       IndiGo      2019-03-24  Banglore   New Delhi              BLR → DEL   \n",
       "1    Air India      2019-01-05   Kolkata    Banglore  CCU → IXR → BBI → BLR   \n",
       "2  Jet Airways      2019-09-06     Delhi      Cochin  DEL → LKO → BOM → COK   \n",
       "3       IndiGo      2019-12-05   Kolkata    Banglore        CCU → NAG → BLR   \n",
       "4       IndiGo      2019-01-03  Banglore   New Delhi        BLR → NAG → DEL   \n",
       "\n",
       "  Dep_Time  Arrival_Time  Duration Total_Stops Additional_Info  Price  \\\n",
       "0    22:20  01:10 22 Mar       170    non-stop         No info   3897   \n",
       "1    05:50         13:15       445     2 stops         No info   7662   \n",
       "2    09:25  04:25 10 Jun      1140     2 stops         No info  13882   \n",
       "3    18:05         23:30       325      1 stop         No info   6218   \n",
       "4    16:50         21:35       285      1 stop         No info  13302   \n",
       "\n",
       "   journey_Year  journey_day  journey_month  \n",
       "0          2019           24              3  \n",
       "1          2019            5              1  \n",
       "2          2019            6              9  \n",
       "3          2019            5             12  \n",
       "4          2019            3              1  "
      ]
     },
     "execution_count": 32,
     "metadata": {},
     "output_type": "execute_result"
    }
   ],
   "source": [
    "train_data.head()"
   ]
  },
  {
   "cell_type": "code",
   "execution_count": 33,
   "id": "8e88f48c",
   "metadata": {},
   "outputs": [],
   "source": [
    "#dep time column\n",
    "train_data['dep_hour']=pd.to_datetime(train_data['Dep_Time']).dt.hour"
   ]
  },
  {
   "cell_type": "code",
   "execution_count": 34,
   "id": "c2b50bb2",
   "metadata": {},
   "outputs": [],
   "source": [
    "test_data['dep_hour']=pd.to_datetime(test_data['Dep_Time']).dt.hour"
   ]
  },
  {
   "cell_type": "code",
   "execution_count": 35,
   "id": "f45dc790",
   "metadata": {},
   "outputs": [],
   "source": [
    "train_data['dep_min']=pd.to_datetime(train_data['Dep_Time']).dt.minute"
   ]
  },
  {
   "cell_type": "code",
   "execution_count": 36,
   "id": "0d3cbe11",
   "metadata": {},
   "outputs": [],
   "source": [
    "test_data['dep_hour']=pd.to_datetime(test_data['Dep_Time']).dt.hour"
   ]
  },
  {
   "cell_type": "code",
   "execution_count": 37,
   "id": "34143ce1",
   "metadata": {},
   "outputs": [],
   "source": [
    "test_data['dep_min']=pd.to_datetime(test_data['Dep_Time']).dt.minute"
   ]
  },
  {
   "cell_type": "code",
   "execution_count": 38,
   "id": "e153b8ab",
   "metadata": {},
   "outputs": [],
   "source": [
    "#we are splitting dep_time column hence dropping the same column\n",
    "train_data=train_data.drop(['Dep_Time'],axis=1)"
   ]
  },
  {
   "cell_type": "code",
   "execution_count": 39,
   "id": "7d7f37ea",
   "metadata": {},
   "outputs": [],
   "source": [
    "test_data=test_data.drop(['Dep_Time'],axis=1)"
   ]
  },
  {
   "cell_type": "code",
   "execution_count": 40,
   "id": "619552c0",
   "metadata": {},
   "outputs": [],
   "source": [
    "#dropping date of journey\n",
    "train_data=train_data.drop(['Date_of_Journey'],axis=1)"
   ]
  },
  {
   "cell_type": "code",
   "execution_count": 41,
   "id": "bd7192c4",
   "metadata": {},
   "outputs": [],
   "source": [
    "test_data=test_data.drop(['Date_of_Journey'],axis=1)"
   ]
  },
  {
   "cell_type": "code",
   "execution_count": 42,
   "id": "58501dac",
   "metadata": {},
   "outputs": [],
   "source": [
    "#arrival time column\n",
    "train_data['arrival_hour']=pd.to_datetime(train_data['Arrival_Time']).dt.hour"
   ]
  },
  {
   "cell_type": "code",
   "execution_count": 43,
   "id": "03f57334",
   "metadata": {},
   "outputs": [],
   "source": [
    "test_data['arrival_hour']=pd.to_datetime(test_data['Arrival_Time']).dt.hour"
   ]
  },
  {
   "cell_type": "code",
   "execution_count": 44,
   "id": "ee0babe2",
   "metadata": {},
   "outputs": [],
   "source": [
    "train_data['arrival_min']=pd.to_datetime(train_data['Arrival_Time']).dt.minute"
   ]
  },
  {
   "cell_type": "code",
   "execution_count": 45,
   "id": "37cf07ca",
   "metadata": {},
   "outputs": [],
   "source": [
    "test_data['arrival_min']=pd.to_datetime(test_data['Arrival_Time']).dt.minute"
   ]
  },
  {
   "cell_type": "code",
   "execution_count": 46,
   "id": "865c4594",
   "metadata": {},
   "outputs": [],
   "source": [
    "#dropping arrival time column\n",
    "train_data=train_data.drop(['Arrival_Time'],axis=1)"
   ]
  },
  {
   "cell_type": "code",
   "execution_count": 47,
   "id": "8deffb8b",
   "metadata": {},
   "outputs": [],
   "source": [
    "test_data=test_data.drop(['Arrival_Time'],axis=1)"
   ]
  },
  {
   "cell_type": "code",
   "execution_count": 48,
   "id": "832d8780",
   "metadata": {},
   "outputs": [
    {
     "data": {
      "text/html": [
       "<div>\n",
       "<style scoped>\n",
       "    .dataframe tbody tr th:only-of-type {\n",
       "        vertical-align: middle;\n",
       "    }\n",
       "\n",
       "    .dataframe tbody tr th {\n",
       "        vertical-align: top;\n",
       "    }\n",
       "\n",
       "    .dataframe thead th {\n",
       "        text-align: right;\n",
       "    }\n",
       "</style>\n",
       "<table border=\"1\" class=\"dataframe\">\n",
       "  <thead>\n",
       "    <tr style=\"text-align: right;\">\n",
       "      <th></th>\n",
       "      <th>Airline</th>\n",
       "      <th>Source</th>\n",
       "      <th>Destination</th>\n",
       "      <th>Route</th>\n",
       "      <th>Duration</th>\n",
       "      <th>Total_Stops</th>\n",
       "      <th>Additional_Info</th>\n",
       "      <th>Price</th>\n",
       "      <th>journey_Year</th>\n",
       "      <th>journey_day</th>\n",
       "      <th>journey_month</th>\n",
       "      <th>dep_hour</th>\n",
       "      <th>dep_min</th>\n",
       "      <th>arrival_hour</th>\n",
       "      <th>arrival_min</th>\n",
       "    </tr>\n",
       "  </thead>\n",
       "  <tbody>\n",
       "    <tr>\n",
       "      <th>0</th>\n",
       "      <td>IndiGo</td>\n",
       "      <td>Banglore</td>\n",
       "      <td>New Delhi</td>\n",
       "      <td>BLR → DEL</td>\n",
       "      <td>170</td>\n",
       "      <td>non-stop</td>\n",
       "      <td>No info</td>\n",
       "      <td>3897</td>\n",
       "      <td>2019</td>\n",
       "      <td>24</td>\n",
       "      <td>3</td>\n",
       "      <td>22</td>\n",
       "      <td>20</td>\n",
       "      <td>1</td>\n",
       "      <td>10</td>\n",
       "    </tr>\n",
       "    <tr>\n",
       "      <th>1</th>\n",
       "      <td>Air India</td>\n",
       "      <td>Kolkata</td>\n",
       "      <td>Banglore</td>\n",
       "      <td>CCU → IXR → BBI → BLR</td>\n",
       "      <td>445</td>\n",
       "      <td>2 stops</td>\n",
       "      <td>No info</td>\n",
       "      <td>7662</td>\n",
       "      <td>2019</td>\n",
       "      <td>5</td>\n",
       "      <td>1</td>\n",
       "      <td>5</td>\n",
       "      <td>50</td>\n",
       "      <td>13</td>\n",
       "      <td>15</td>\n",
       "    </tr>\n",
       "    <tr>\n",
       "      <th>2</th>\n",
       "      <td>Jet Airways</td>\n",
       "      <td>Delhi</td>\n",
       "      <td>Cochin</td>\n",
       "      <td>DEL → LKO → BOM → COK</td>\n",
       "      <td>1140</td>\n",
       "      <td>2 stops</td>\n",
       "      <td>No info</td>\n",
       "      <td>13882</td>\n",
       "      <td>2019</td>\n",
       "      <td>6</td>\n",
       "      <td>9</td>\n",
       "      <td>9</td>\n",
       "      <td>25</td>\n",
       "      <td>4</td>\n",
       "      <td>25</td>\n",
       "    </tr>\n",
       "    <tr>\n",
       "      <th>3</th>\n",
       "      <td>IndiGo</td>\n",
       "      <td>Kolkata</td>\n",
       "      <td>Banglore</td>\n",
       "      <td>CCU → NAG → BLR</td>\n",
       "      <td>325</td>\n",
       "      <td>1 stop</td>\n",
       "      <td>No info</td>\n",
       "      <td>6218</td>\n",
       "      <td>2019</td>\n",
       "      <td>5</td>\n",
       "      <td>12</td>\n",
       "      <td>18</td>\n",
       "      <td>5</td>\n",
       "      <td>23</td>\n",
       "      <td>30</td>\n",
       "    </tr>\n",
       "    <tr>\n",
       "      <th>4</th>\n",
       "      <td>IndiGo</td>\n",
       "      <td>Banglore</td>\n",
       "      <td>New Delhi</td>\n",
       "      <td>BLR → NAG → DEL</td>\n",
       "      <td>285</td>\n",
       "      <td>1 stop</td>\n",
       "      <td>No info</td>\n",
       "      <td>13302</td>\n",
       "      <td>2019</td>\n",
       "      <td>3</td>\n",
       "      <td>1</td>\n",
       "      <td>16</td>\n",
       "      <td>50</td>\n",
       "      <td>21</td>\n",
       "      <td>35</td>\n",
       "    </tr>\n",
       "  </tbody>\n",
       "</table>\n",
       "</div>"
      ],
      "text/plain": [
       "       Airline    Source Destination                  Route  Duration  \\\n",
       "0       IndiGo  Banglore   New Delhi              BLR → DEL       170   \n",
       "1    Air India   Kolkata    Banglore  CCU → IXR → BBI → BLR       445   \n",
       "2  Jet Airways     Delhi      Cochin  DEL → LKO → BOM → COK      1140   \n",
       "3       IndiGo   Kolkata    Banglore        CCU → NAG → BLR       325   \n",
       "4       IndiGo  Banglore   New Delhi        BLR → NAG → DEL       285   \n",
       "\n",
       "  Total_Stops Additional_Info  Price  journey_Year  journey_day  \\\n",
       "0    non-stop         No info   3897          2019           24   \n",
       "1     2 stops         No info   7662          2019            5   \n",
       "2     2 stops         No info  13882          2019            6   \n",
       "3      1 stop         No info   6218          2019            5   \n",
       "4      1 stop         No info  13302          2019            3   \n",
       "\n",
       "   journey_month  dep_hour  dep_min  arrival_hour  arrival_min  \n",
       "0              3        22       20             1           10  \n",
       "1              1         5       50            13           15  \n",
       "2              9         9       25             4           25  \n",
       "3             12        18        5            23           30  \n",
       "4              1        16       50            21           35  "
      ]
     },
     "execution_count": 48,
     "metadata": {},
     "output_type": "execute_result"
    }
   ],
   "source": [
    "train_data.head()"
   ]
  },
  {
   "cell_type": "code",
   "execution_count": 49,
   "id": "33fdba61",
   "metadata": {},
   "outputs": [
    {
     "name": "stdout",
     "output_type": "stream",
     "text": [
      "<class 'pandas.core.frame.DataFrame'>\n",
      "Int64Index: 10462 entries, 0 to 10682\n",
      "Data columns (total 15 columns):\n",
      " #   Column           Non-Null Count  Dtype \n",
      "---  ------           --------------  ----- \n",
      " 0   Airline          10462 non-null  object\n",
      " 1   Source           10462 non-null  object\n",
      " 2   Destination      10462 non-null  object\n",
      " 3   Route            10462 non-null  object\n",
      " 4   Duration         10462 non-null  int64 \n",
      " 5   Total_Stops      10462 non-null  object\n",
      " 6   Additional_Info  10462 non-null  object\n",
      " 7   Price            10462 non-null  int64 \n",
      " 8   journey_Year     10462 non-null  int64 \n",
      " 9   journey_day      10462 non-null  int64 \n",
      " 10  journey_month    10462 non-null  int64 \n",
      " 11  dep_hour         10462 non-null  int64 \n",
      " 12  dep_min          10462 non-null  int64 \n",
      " 13  arrival_hour     10462 non-null  int64 \n",
      " 14  arrival_min      10462 non-null  int64 \n",
      "dtypes: int64(9), object(6)\n",
      "memory usage: 1.3+ MB\n"
     ]
    }
   ],
   "source": [
    "train_data.info()"
   ]
  },
  {
   "cell_type": "code",
   "execution_count": 50,
   "id": "735a6c59",
   "metadata": {},
   "outputs": [],
   "source": [
    "train_data=train_data.drop(['Additional_Info'],axis=1)\n",
    "test_data=test_data.drop(['Additional_Info'],axis=1)"
   ]
  },
  {
   "cell_type": "code",
   "execution_count": 51,
   "id": "2b056e8c",
   "metadata": {},
   "outputs": [],
   "source": [
    "train_data=train_data.drop(['Route'],axis=1)\n",
    "test_data=test_data.drop(['Route'],axis=1)"
   ]
  },
  {
   "cell_type": "code",
   "execution_count": 52,
   "id": "55bc5ede",
   "metadata": {},
   "outputs": [
    {
     "data": {
      "text/plain": [
       "<AxesSubplot:>"
      ]
     },
     "execution_count": 52,
     "metadata": {},
     "output_type": "execute_result"
    },
    {
     "data": {
      "image/png": "[encoded data removed]",
      "text/plain": [
       "<Figure size 2000x800 with 2 Axes>"
      ]
     },
     "metadata": {},
     "output_type": "display_data"
    }
   ],
   "source": [
    "#checking corrilation between features\n",
    "corrmatrix=train_data.corr()\n",
    "plt.subplots(figsize=(20,8))\n",
    "sns.heatmap(corrmatrix,vmin=-1,vmax=1,annot=True,linewidth=.2,cmap='YlGnBu')"
   ]
  },
  {
   "cell_type": "code",
   "execution_count": 53,
   "id": "95a03db6",
   "metadata": {},
   "outputs": [
    {
     "name": "stdout",
     "output_type": "stream",
     "text": [
      "<class 'pandas.core.frame.DataFrame'>\n",
      "Int64Index: 10462 entries, 0 to 10682\n",
      "Data columns (total 13 columns):\n",
      " #   Column         Non-Null Count  Dtype \n",
      "---  ------         --------------  ----- \n",
      " 0   Airline        10462 non-null  object\n",
      " 1   Source         10462 non-null  object\n",
      " 2   Destination    10462 non-null  object\n",
      " 3   Duration       10462 non-null  int64 \n",
      " 4   Total_Stops    10462 non-null  object\n",
      " 5   Price          10462 non-null  int64 \n",
      " 6   journey_Year   10462 non-null  int64 \n",
      " 7   journey_day    10462 non-null  int64 \n",
      " 8   journey_month  10462 non-null  int64 \n",
      " 9   dep_hour       10462 non-null  int64 \n",
      " 10  dep_min        10462 non-null  int64 \n",
      " 11  arrival_hour   10462 non-null  int64 \n",
      " 12  arrival_min    10462 non-null  int64 \n",
      "dtypes: int64(9), object(4)\n",
      "memory usage: 1.1+ MB\n"
     ]
    }
   ],
   "source": [
    "train_data.info()"
   ]
  },
  {
   "cell_type": "markdown",
   "id": "e44de267",
   "metadata": {},
   "source": [
    "# encoding"
   ]
  },
  {
   "cell_type": "code",
   "execution_count": 54,
   "id": "c412b89e",
   "metadata": {},
   "outputs": [],
   "source": [
    "categorical_features=['Airline','Source','Destination','Total_Stops']"
   ]
  },
  {
   "cell_type": "code",
   "execution_count": 55,
   "id": "a28c2bec",
   "metadata": {},
   "outputs": [],
   "source": [
    "#Label encoding\n",
    "from sklearn import preprocessing\n",
    "label_encoder=preprocessing.LabelEncoder()"
   ]
  },
  {
   "cell_type": "code",
   "execution_count": 56,
   "id": "834b9d37",
   "metadata": {},
   "outputs": [
    {
     "data": {
      "text/html": [
       "<div>\n",
       "<style scoped>\n",
       "    .dataframe tbody tr th:only-of-type {\n",
       "        vertical-align: middle;\n",
       "    }\n",
       "\n",
       "    .dataframe tbody tr th {\n",
       "        vertical-align: top;\n",
       "    }\n",
       "\n",
       "    .dataframe thead th {\n",
       "        text-align: right;\n",
       "    }\n",
       "</style>\n",
       "<table border=\"1\" class=\"dataframe\">\n",
       "  <thead>\n",
       "    <tr style=\"text-align: right;\">\n",
       "      <th></th>\n",
       "      <th>Airline</th>\n",
       "      <th>Source</th>\n",
       "      <th>Destination</th>\n",
       "      <th>Duration</th>\n",
       "      <th>Total_Stops</th>\n",
       "      <th>Price</th>\n",
       "      <th>journey_Year</th>\n",
       "      <th>journey_day</th>\n",
       "      <th>journey_month</th>\n",
       "      <th>dep_hour</th>\n",
       "      <th>dep_min</th>\n",
       "      <th>arrival_hour</th>\n",
       "      <th>arrival_min</th>\n",
       "    </tr>\n",
       "  </thead>\n",
       "  <tbody>\n",
       "    <tr>\n",
       "      <th>0</th>\n",
       "      <td>3</td>\n",
       "      <td>0</td>\n",
       "      <td>5</td>\n",
       "      <td>170</td>\n",
       "      <td>4</td>\n",
       "      <td>3897</td>\n",
       "      <td>2019</td>\n",
       "      <td>24</td>\n",
       "      <td>3</td>\n",
       "      <td>22</td>\n",
       "      <td>20</td>\n",
       "      <td>1</td>\n",
       "      <td>10</td>\n",
       "    </tr>\n",
       "    <tr>\n",
       "      <th>1</th>\n",
       "      <td>1</td>\n",
       "      <td>3</td>\n",
       "      <td>0</td>\n",
       "      <td>445</td>\n",
       "      <td>1</td>\n",
       "      <td>7662</td>\n",
       "      <td>2019</td>\n",
       "      <td>5</td>\n",
       "      <td>1</td>\n",
       "      <td>5</td>\n",
       "      <td>50</td>\n",
       "      <td>13</td>\n",
       "      <td>15</td>\n",
       "    </tr>\n",
       "    <tr>\n",
       "      <th>2</th>\n",
       "      <td>4</td>\n",
       "      <td>2</td>\n",
       "      <td>1</td>\n",
       "      <td>1140</td>\n",
       "      <td>1</td>\n",
       "      <td>13882</td>\n",
       "      <td>2019</td>\n",
       "      <td>6</td>\n",
       "      <td>9</td>\n",
       "      <td>9</td>\n",
       "      <td>25</td>\n",
       "      <td>4</td>\n",
       "      <td>25</td>\n",
       "    </tr>\n",
       "    <tr>\n",
       "      <th>3</th>\n",
       "      <td>3</td>\n",
       "      <td>3</td>\n",
       "      <td>0</td>\n",
       "      <td>325</td>\n",
       "      <td>0</td>\n",
       "      <td>6218</td>\n",
       "      <td>2019</td>\n",
       "      <td>5</td>\n",
       "      <td>12</td>\n",
       "      <td>18</td>\n",
       "      <td>5</td>\n",
       "      <td>23</td>\n",
       "      <td>30</td>\n",
       "    </tr>\n",
       "    <tr>\n",
       "      <th>4</th>\n",
       "      <td>3</td>\n",
       "      <td>0</td>\n",
       "      <td>5</td>\n",
       "      <td>285</td>\n",
       "      <td>0</td>\n",
       "      <td>13302</td>\n",
       "      <td>2019</td>\n",
       "      <td>3</td>\n",
       "      <td>1</td>\n",
       "      <td>16</td>\n",
       "      <td>50</td>\n",
       "      <td>21</td>\n",
       "      <td>35</td>\n",
       "    </tr>\n",
       "  </tbody>\n",
       "</table>\n",
       "</div>"
      ],
      "text/plain": [
       "   Airline  Source  Destination  Duration  Total_Stops  Price  journey_Year  \\\n",
       "0        3       0            5       170            4   3897          2019   \n",
       "1        1       3            0       445            1   7662          2019   \n",
       "2        4       2            1      1140            1  13882          2019   \n",
       "3        3       3            0       325            0   6218          2019   \n",
       "4        3       0            5       285            0  13302          2019   \n",
       "\n",
       "   journey_day  journey_month  dep_hour  dep_min  arrival_hour  arrival_min  \n",
       "0           24              3        22       20             1           10  \n",
       "1            5              1         5       50            13           15  \n",
       "2            6              9         9       25             4           25  \n",
       "3            5             12        18        5            23           30  \n",
       "4            3              1        16       50            21           35  "
      ]
     },
     "execution_count": 56,
     "metadata": {},
     "output_type": "execute_result"
    }
   ],
   "source": [
    "for column in categorical_features:\n",
    "    train_data[column]=label_encoder.fit_transform(train_data[column])\n",
    "train_data.head() "
   ]
  },
  {
   "cell_type": "code",
   "execution_count": 57,
   "id": "169949b9",
   "metadata": {},
   "outputs": [
    {
     "data": {
      "text/html": [
       "<div>\n",
       "<style scoped>\n",
       "    .dataframe tbody tr th:only-of-type {\n",
       "        vertical-align: middle;\n",
       "    }\n",
       "\n",
       "    .dataframe tbody tr th {\n",
       "        vertical-align: top;\n",
       "    }\n",
       "\n",
       "    .dataframe thead th {\n",
       "        text-align: right;\n",
       "    }\n",
       "</style>\n",
       "<table border=\"1\" class=\"dataframe\">\n",
       "  <thead>\n",
       "    <tr style=\"text-align: right;\">\n",
       "      <th></th>\n",
       "      <th>Airline</th>\n",
       "      <th>Source</th>\n",
       "      <th>Destination</th>\n",
       "      <th>Duration</th>\n",
       "      <th>Total_Stops</th>\n",
       "      <th>journey_Year</th>\n",
       "      <th>journey_day</th>\n",
       "      <th>journey_month</th>\n",
       "      <th>dep_hour</th>\n",
       "      <th>dep_min</th>\n",
       "      <th>arrival_hour</th>\n",
       "      <th>arrival_min</th>\n",
       "    </tr>\n",
       "  </thead>\n",
       "  <tbody>\n",
       "    <tr>\n",
       "      <th>0</th>\n",
       "      <td>4</td>\n",
       "      <td>2</td>\n",
       "      <td>1</td>\n",
       "      <td>655</td>\n",
       "      <td>0</td>\n",
       "      <td>2019</td>\n",
       "      <td>6</td>\n",
       "      <td>6</td>\n",
       "      <td>17</td>\n",
       "      <td>30</td>\n",
       "      <td>4</td>\n",
       "      <td>25</td>\n",
       "    </tr>\n",
       "    <tr>\n",
       "      <th>1</th>\n",
       "      <td>3</td>\n",
       "      <td>3</td>\n",
       "      <td>0</td>\n",
       "      <td>240</td>\n",
       "      <td>0</td>\n",
       "      <td>2019</td>\n",
       "      <td>5</td>\n",
       "      <td>12</td>\n",
       "      <td>6</td>\n",
       "      <td>20</td>\n",
       "      <td>10</td>\n",
       "      <td>20</td>\n",
       "    </tr>\n",
       "    <tr>\n",
       "      <th>2</th>\n",
       "      <td>4</td>\n",
       "      <td>2</td>\n",
       "      <td>1</td>\n",
       "      <td>1425</td>\n",
       "      <td>0</td>\n",
       "      <td>2019</td>\n",
       "      <td>21</td>\n",
       "      <td>5</td>\n",
       "      <td>19</td>\n",
       "      <td>15</td>\n",
       "      <td>19</td>\n",
       "      <td>0</td>\n",
       "    </tr>\n",
       "    <tr>\n",
       "      <th>3</th>\n",
       "      <td>6</td>\n",
       "      <td>2</td>\n",
       "      <td>1</td>\n",
       "      <td>780</td>\n",
       "      <td>0</td>\n",
       "      <td>2019</td>\n",
       "      <td>21</td>\n",
       "      <td>5</td>\n",
       "      <td>8</td>\n",
       "      <td>0</td>\n",
       "      <td>21</td>\n",
       "      <td>0</td>\n",
       "    </tr>\n",
       "    <tr>\n",
       "      <th>4</th>\n",
       "      <td>0</td>\n",
       "      <td>0</td>\n",
       "      <td>2</td>\n",
       "      <td>170</td>\n",
       "      <td>4</td>\n",
       "      <td>2019</td>\n",
       "      <td>24</td>\n",
       "      <td>6</td>\n",
       "      <td>23</td>\n",
       "      <td>55</td>\n",
       "      <td>2</td>\n",
       "      <td>45</td>\n",
       "    </tr>\n",
       "  </tbody>\n",
       "</table>\n",
       "</div>"
      ],
      "text/plain": [
       "   Airline  Source  Destination  Duration  Total_Stops  journey_Year  \\\n",
       "0        4       2            1       655            0          2019   \n",
       "1        3       3            0       240            0          2019   \n",
       "2        4       2            1      1425            0          2019   \n",
       "3        6       2            1       780            0          2019   \n",
       "4        0       0            2       170            4          2019   \n",
       "\n",
       "   journey_day  journey_month  dep_hour  dep_min  arrival_hour  arrival_min  \n",
       "0            6              6        17       30             4           25  \n",
       "1            5             12         6       20            10           20  \n",
       "2           21              5        19       15            19            0  \n",
       "3           21              5         8        0            21            0  \n",
       "4           24              6        23       55             2           45  "
      ]
     },
     "execution_count": 57,
     "metadata": {},
     "output_type": "execute_result"
    }
   ],
   "source": [
    "for column in categorical_features:\n",
    "    test_data[column]=label_encoder.fit_transform(test_data[column])\n",
    "test_data.head() "
   ]
  },
  {
   "cell_type": "code",
   "execution_count": 58,
   "id": "987be556",
   "metadata": {},
   "outputs": [
    {
     "data": {
      "text/plain": [
       "(10462, 13)"
      ]
     },
     "execution_count": 58,
     "metadata": {},
     "output_type": "execute_result"
    }
   ],
   "source": [
    "train_data.shape"
   ]
  },
  {
   "cell_type": "code",
   "execution_count": 59,
   "id": "6890795c",
   "metadata": {},
   "outputs": [
    {
     "data": {
      "text/plain": [
       "(2645, 12)"
      ]
     },
     "execution_count": 59,
     "metadata": {},
     "output_type": "execute_result"
    }
   ],
   "source": [
    "test_data.shape"
   ]
  },
  {
   "cell_type": "code",
   "execution_count": 60,
   "id": "f0528d01",
   "metadata": {},
   "outputs": [
    {
     "data": {
      "text/plain": [
       "Index(['Airline', 'Source', 'Destination', 'Duration', 'Total_Stops', 'Price',\n",
       "       'journey_Year', 'journey_day', 'journey_month', 'dep_hour', 'dep_min',\n",
       "       'arrival_hour', 'arrival_min'],\n",
       "      dtype='object')"
      ]
     },
     "execution_count": 60,
     "metadata": {},
     "output_type": "execute_result"
    }
   ],
   "source": [
    "train_data.columns"
   ]
  },
  {
   "cell_type": "code",
   "execution_count": 61,
   "id": "6863c96f",
   "metadata": {},
   "outputs": [
    {
     "data": {
      "text/plain": [
       "Index(['Airline', 'Source', 'Destination', 'Duration', 'Total_Stops',\n",
       "       'journey_Year', 'journey_day', 'journey_month', 'dep_hour', 'dep_min',\n",
       "       'arrival_hour', 'arrival_min'],\n",
       "      dtype='object')"
      ]
     },
     "execution_count": 61,
     "metadata": {},
     "output_type": "execute_result"
    }
   ],
   "source": [
    "test_data.columns"
   ]
  },
  {
   "cell_type": "code",
   "execution_count": 62,
   "id": "195bb4a7",
   "metadata": {},
   "outputs": [],
   "source": [
    "#splitting data into dependent and independent columns\n",
    "\n",
    "x=train_data.drop('Price',axis=1)\n",
    "y=train_data['Price']"
   ]
  },
  {
   "cell_type": "code",
   "execution_count": 63,
   "id": "66e949ca",
   "metadata": {},
   "outputs": [
    {
     "data": {
      "text/html": [
       "<div>\n",
       "<style scoped>\n",
       "    .dataframe tbody tr th:only-of-type {\n",
       "        vertical-align: middle;\n",
       "    }\n",
       "\n",
       "    .dataframe tbody tr th {\n",
       "        vertical-align: top;\n",
       "    }\n",
       "\n",
       "    .dataframe thead th {\n",
       "        text-align: right;\n",
       "    }\n",
       "</style>\n",
       "<table border=\"1\" class=\"dataframe\">\n",
       "  <thead>\n",
       "    <tr style=\"text-align: right;\">\n",
       "      <th></th>\n",
       "      <th>0</th>\n",
       "      <th>1</th>\n",
       "      <th>2</th>\n",
       "      <th>3</th>\n",
       "      <th>4</th>\n",
       "      <th>5</th>\n",
       "      <th>6</th>\n",
       "      <th>7</th>\n",
       "      <th>8</th>\n",
       "      <th>9</th>\n",
       "      <th>10</th>\n",
       "      <th>11</th>\n",
       "    </tr>\n",
       "  </thead>\n",
       "  <tbody>\n",
       "    <tr>\n",
       "      <th>count</th>\n",
       "      <td>1.046200e+04</td>\n",
       "      <td>1.046200e+04</td>\n",
       "      <td>1.046200e+04</td>\n",
       "      <td>1.046200e+04</td>\n",
       "      <td>1.046200e+04</td>\n",
       "      <td>10462.0</td>\n",
       "      <td>1.046200e+04</td>\n",
       "      <td>1.046200e+04</td>\n",
       "      <td>1.046200e+04</td>\n",
       "      <td>1.046200e+04</td>\n",
       "      <td>1.046200e+04</td>\n",
       "      <td>1.046200e+04</td>\n",
       "    </tr>\n",
       "    <tr>\n",
       "      <th>mean</th>\n",
       "      <td>-7.001770e-16</td>\n",
       "      <td>4.436050e-16</td>\n",
       "      <td>-5.730510e-16</td>\n",
       "      <td>-2.243686e-16</td>\n",
       "      <td>1.495055e-15</td>\n",
       "      <td>0.0</td>\n",
       "      <td>-1.249664e-16</td>\n",
       "      <td>3.359534e-16</td>\n",
       "      <td>3.133181e-17</td>\n",
       "      <td>-2.361797e-16</td>\n",
       "      <td>1.559321e-16</td>\n",
       "      <td>6.363991e-17</td>\n",
       "    </tr>\n",
       "    <tr>\n",
       "      <th>std</th>\n",
       "      <td>1.000048e+00</td>\n",
       "      <td>1.000048e+00</td>\n",
       "      <td>1.000048e+00</td>\n",
       "      <td>1.000048e+00</td>\n",
       "      <td>1.000048e+00</td>\n",
       "      <td>0.0</td>\n",
       "      <td>1.000048e+00</td>\n",
       "      <td>1.000048e+00</td>\n",
       "      <td>1.000048e+00</td>\n",
       "      <td>1.000048e+00</td>\n",
       "      <td>1.000048e+00</td>\n",
       "      <td>1.000048e+00</td>\n",
       "    </tr>\n",
       "    <tr>\n",
       "      <th>min</th>\n",
       "      <td>-1.683676e+00</td>\n",
       "      <td>-1.646877e+00</td>\n",
       "      <td>-9.720121e-01</td>\n",
       "      <td>-1.247878e+00</td>\n",
       "      <td>-8.033367e-01</td>\n",
       "      <td>0.0</td>\n",
       "      <td>-1.095422e+00</td>\n",
       "      <td>-1.513956e+00</td>\n",
       "      <td>-2.178906e+00</td>\n",
       "      <td>-1.297115e+00</td>\n",
       "      <td>-1.952919e+00</td>\n",
       "      <td>-1.491880e+00</td>\n",
       "    </tr>\n",
       "    <tr>\n",
       "      <th>25%</th>\n",
       "      <td>-4.149159e-01</td>\n",
       "      <td>3.907899e-02</td>\n",
       "      <td>-9.720121e-01</td>\n",
       "      <td>-9.183232e-01</td>\n",
       "      <td>-8.033367e-01</td>\n",
       "      <td>0.0</td>\n",
       "      <td>-8.679221e-01</td>\n",
       "      <td>-8.462209e-01</td>\n",
       "      <td>-7.820028e-01</td>\n",
       "      <td>-1.031367e+00</td>\n",
       "      <td>-7.859251e-01</td>\n",
       "      <td>-8.883671e-01</td>\n",
       "    </tr>\n",
       "    <tr>\n",
       "      <th>50%</th>\n",
       "      <td>8.004029e-03</td>\n",
       "      <td>3.907899e-02</td>\n",
       "      <td>-2.967671e-01</td>\n",
       "      <td>-2.492267e-01</td>\n",
       "      <td>-8.033367e-01</td>\n",
       "      <td>0.0</td>\n",
       "      <td>-7.541722e-01</td>\n",
       "      <td>-1.784860e-01</td>\n",
       "      <td>-2.581641e-01</td>\n",
       "      <td>3.162457e-02</td>\n",
       "      <td>8.932044e-02</td>\n",
       "      <td>1.690205e-02</td>\n",
       "    </tr>\n",
       "    <tr>\n",
       "      <th>75%</th>\n",
       "      <td>8.004029e-03</td>\n",
       "      <td>8.820572e-01</td>\n",
       "      <td>3.784780e-01</td>\n",
       "      <td>5.596811e-01</td>\n",
       "      <td>1.392916e+00</td>\n",
       "      <td>0.0</td>\n",
       "      <td>9.520766e-01</td>\n",
       "      <td>1.553814e-01</td>\n",
       "      <td>9.641263e-01</td>\n",
       "      <td>8.288685e-01</td>\n",
       "      <td>8.186917e-01</td>\n",
       "      <td>6.204148e-01</td>\n",
       "    </tr>\n",
       "    <tr>\n",
       "      <th>max</th>\n",
       "      <td>2.968444e+00</td>\n",
       "      <td>1.725035e+00</td>\n",
       "      <td>2.404213e+00</td>\n",
       "      <td>4.454422e+00</td>\n",
       "      <td>1.392916e+00</td>\n",
       "      <td>0.0</td>\n",
       "      <td>1.634576e+00</td>\n",
       "      <td>2.158586e+00</td>\n",
       "      <td>1.837191e+00</td>\n",
       "      <td>1.626112e+00</td>\n",
       "      <td>1.402189e+00</td>\n",
       "      <td>1.827440e+00</td>\n",
       "    </tr>\n",
       "  </tbody>\n",
       "</table>\n",
       "</div>"
      ],
      "text/plain": [
       "                 0             1             2             3             4   \\\n",
       "count  1.046200e+04  1.046200e+04  1.046200e+04  1.046200e+04  1.046200e+04   \n",
       "mean  -7.001770e-16  4.436050e-16 -5.730510e-16 -2.243686e-16  1.495055e-15   \n",
       "std    1.000048e+00  1.000048e+00  1.000048e+00  1.000048e+00  1.000048e+00   \n",
       "min   -1.683676e+00 -1.646877e+00 -9.720121e-01 -1.247878e+00 -8.033367e-01   \n",
       "25%   -4.149159e-01  3.907899e-02 -9.720121e-01 -9.183232e-01 -8.033367e-01   \n",
       "50%    8.004029e-03  3.907899e-02 -2.967671e-01 -2.492267e-01 -8.033367e-01   \n",
       "75%    8.004029e-03  8.820572e-01  3.784780e-01  5.596811e-01  1.392916e+00   \n",
       "max    2.968444e+00  1.725035e+00  2.404213e+00  4.454422e+00  1.392916e+00   \n",
       "\n",
       "            5             6             7             8             9   \\\n",
       "count  10462.0  1.046200e+04  1.046200e+04  1.046200e+04  1.046200e+04   \n",
       "mean       0.0 -1.249664e-16  3.359534e-16  3.133181e-17 -2.361797e-16   \n",
       "std        0.0  1.000048e+00  1.000048e+00  1.000048e+00  1.000048e+00   \n",
       "min        0.0 -1.095422e+00 -1.513956e+00 -2.178906e+00 -1.297115e+00   \n",
       "25%        0.0 -8.679221e-01 -8.462209e-01 -7.820028e-01 -1.031367e+00   \n",
       "50%        0.0 -7.541722e-01 -1.784860e-01 -2.581641e-01  3.162457e-02   \n",
       "75%        0.0  9.520766e-01  1.553814e-01  9.641263e-01  8.288685e-01   \n",
       "max        0.0  1.634576e+00  2.158586e+00  1.837191e+00  1.626112e+00   \n",
       "\n",
       "                 10            11  \n",
       "count  1.046200e+04  1.046200e+04  \n",
       "mean   1.559321e-16  6.363991e-17  \n",
       "std    1.000048e+00  1.000048e+00  \n",
       "min   -1.952919e+00 -1.491880e+00  \n",
       "25%   -7.859251e-01 -8.883671e-01  \n",
       "50%    8.932044e-02  1.690205e-02  \n",
       "75%    8.186917e-01  6.204148e-01  \n",
       "max    1.402189e+00  1.827440e+00  "
      ]
     },
     "execution_count": 63,
     "metadata": {},
     "output_type": "execute_result"
    }
   ],
   "source": [
    "#scaling\n",
    "#standard scaling\n",
    "from sklearn import preprocessing\n",
    "standadisation=preprocessing.StandardScaler()\n",
    "x=standadisation.fit_transform(x)\n",
    "# Coverting to Dataframe\n",
    "x=pd.DataFrame(x)\n",
    "x.describe()"
   ]
  },
  {
   "cell_type": "code",
   "execution_count": 64,
   "id": "887a756f",
   "metadata": {},
   "outputs": [],
   "source": [
    "#splitting as training and testing\n",
    "from sklearn.model_selection import train_test_split\n",
    "x_train,x_test,y_train,y_test = train_test_split(x,y,random_state =42,test_size=0.33)"
   ]
  },
  {
   "cell_type": "code",
   "execution_count": 65,
   "id": "b5e5ef77",
   "metadata": {},
   "outputs": [],
   "source": [
    "#Fitting with the models\n",
    "from sklearn.linear_model import LinearRegression\n",
    "from sklearn.linear_model import Lasso\n",
    "from sklearn.linear_model import Ridge\n",
    "from sklearn.ensemble import RandomForestRegressor\n",
    "from sklearn.tree import DecisionTreeRegressor\n",
    "from sklearn.svm import SVR"
   ]
  },
  {
   "cell_type": "code",
   "execution_count": 66,
   "id": "fed7bd33",
   "metadata": {},
   "outputs": [
    {
     "name": "stdout",
     "output_type": "stream",
     "text": [
      "LinearRegressor trained\n",
      "LassoRegressor trained\n",
      "RidgeRegressor trained\n",
      "RandomForestRegressor trained\n",
      "DecisionTreeRegressor trained\n",
      "SVR trained\n"
     ]
    }
   ],
   "source": [
    "#fitting models\n",
    "models={'LinearRegressor':LinearRegression(),\n",
    "        'LassoRegressor':Lasso(alpha=0.1),\n",
    "        'RidgeRegressor':Ridge(alpha=1),\n",
    "        'RandomForestRegressor':RandomForestRegressor(),\n",
    "        'DecisionTreeRegressor':DecisionTreeRegressor(),\n",
    "        'SVR':SVR()\n",
    "       }\n",
    "\n",
    "for name,model in models.items():\n",
    "    model.fit(x_train,y_train)\n",
    "    print(name+' trained')"
   ]
  },
  {
   "cell_type": "code",
   "execution_count": 67,
   "id": "c466c0e5",
   "metadata": {},
   "outputs": [],
   "source": [
    "from sklearn.metrics import r2_score,mean_squared_error,mean_absolute_error\n",
    "r2score=[]\n",
    "rmse=[]\n",
    "mse=[]\n",
    "mae=[]\n",
    "#checking the scores for regressors\n",
    "for name,model in models.items():\n",
    "    y_pred=model.predict(x_test)\n",
    "    rmse.append(mean_squared_error((y_test), (y_pred), squared=False))\n",
    "    r2score.append(r2_score((y_test),(y_pred)))\n",
    "    mse.append(mean_squared_error((y_test),(y_pred)))\n",
    "    mae.append(mean_absolute_error((y_test),(y_pred)))"
   ]
  },
  {
   "cell_type": "code",
   "execution_count": 68,
   "id": "74f94f77",
   "metadata": {},
   "outputs": [
    {
     "data": {
      "text/html": [
       "<div>\n",
       "<style scoped>\n",
       "    .dataframe tbody tr th:only-of-type {\n",
       "        vertical-align: middle;\n",
       "    }\n",
       "\n",
       "    .dataframe tbody tr th {\n",
       "        vertical-align: top;\n",
       "    }\n",
       "\n",
       "    .dataframe thead th {\n",
       "        text-align: right;\n",
       "    }\n",
       "</style>\n",
       "<table border=\"1\" class=\"dataframe\">\n",
       "  <thead>\n",
       "    <tr style=\"text-align: right;\">\n",
       "      <th></th>\n",
       "      <th>Model</th>\n",
       "      <th>R2_Score</th>\n",
       "      <th>Mean_squared_error</th>\n",
       "      <th>Root_Mean_Squared_Error</th>\n",
       "      <th>Mean_Absolute_error</th>\n",
       "    </tr>\n",
       "  </thead>\n",
       "  <tbody>\n",
       "    <tr>\n",
       "      <th>0</th>\n",
       "      <td>Linear Regression</td>\n",
       "      <td>0.419603</td>\n",
       "      <td>1.192858e+07</td>\n",
       "      <td>3453.778023</td>\n",
       "      <td>2500.661023</td>\n",
       "    </tr>\n",
       "    <tr>\n",
       "      <th>1</th>\n",
       "      <td>Lasso Regression</td>\n",
       "      <td>0.419608</td>\n",
       "      <td>1.192849e+07</td>\n",
       "      <td>3453.764168</td>\n",
       "      <td>2500.620808</td>\n",
       "    </tr>\n",
       "    <tr>\n",
       "      <th>2</th>\n",
       "      <td>Ridge Regression</td>\n",
       "      <td>0.419607</td>\n",
       "      <td>1.192850e+07</td>\n",
       "      <td>3453.765583</td>\n",
       "      <td>2500.627179</td>\n",
       "    </tr>\n",
       "    <tr>\n",
       "      <th>3</th>\n",
       "      <td>Randon Forest Regression</td>\n",
       "      <td>0.775400</td>\n",
       "      <td>4.616089e+06</td>\n",
       "      <td>2148.508584</td>\n",
       "      <td>1248.300820</td>\n",
       "    </tr>\n",
       "    <tr>\n",
       "      <th>4</th>\n",
       "      <td>Decision Tree Regression</td>\n",
       "      <td>0.638637</td>\n",
       "      <td>7.426906e+06</td>\n",
       "      <td>2725.234972</td>\n",
       "      <td>1476.871320</td>\n",
       "    </tr>\n",
       "    <tr>\n",
       "      <th>5</th>\n",
       "      <td>Support Vector Regression</td>\n",
       "      <td>0.032004</td>\n",
       "      <td>1.989468e+07</td>\n",
       "      <td>4460.345557</td>\n",
       "      <td>3438.494818</td>\n",
       "    </tr>\n",
       "  </tbody>\n",
       "</table>\n",
       "</div>"
      ],
      "text/plain": [
       "                       Model  R2_Score  Mean_squared_error  \\\n",
       "0          Linear Regression  0.419603        1.192858e+07   \n",
       "1           Lasso Regression  0.419608        1.192849e+07   \n",
       "2           Ridge Regression  0.419607        1.192850e+07   \n",
       "3   Randon Forest Regression  0.775400        4.616089e+06   \n",
       "4   Decision Tree Regression  0.638637        7.426906e+06   \n",
       "5  Support Vector Regression  0.032004        1.989468e+07   \n",
       "\n",
       "   Root_Mean_Squared_Error  Mean_Absolute_error  \n",
       "0              3453.778023          2500.661023  \n",
       "1              3453.764168          2500.620808  \n",
       "2              3453.765583          2500.627179  \n",
       "3              2148.508584          1248.300820  \n",
       "4              2725.234972          1476.871320  \n",
       "5              4460.345557          3438.494818  "
      ]
     },
     "execution_count": 68,
     "metadata": {},
     "output_type": "execute_result"
    }
   ],
   "source": [
    "Models = ['Linear Regression','Lasso Regression','Ridge Regression','Randon Forest Regression','Decision Tree Regression',\n",
    "          'Support Vector Regression']\n",
    "model_performance = pd.DataFrame({\n",
    "    'Model':Models,\n",
    "    'R2_Score':r2score,\n",
    "    'Mean_squared_error':mse,\n",
    "    'Root_Mean_Squared_Error':rmse,\n",
    "    'Mean_Absolute_error':mae\n",
    "    })\n",
    "model_performance"
   ]
  },
  {
   "cell_type": "code",
   "execution_count": 69,
   "id": "4c985e54",
   "metadata": {},
   "outputs": [
    {
     "name": "stdout",
     "output_type": "stream",
     "text": [
      "Parameters currently in use:\n",
      "\n",
      "{'bootstrap': True,\n",
      " 'ccp_alpha': 0.0,\n",
      " 'criterion': 'squared_error',\n",
      " 'max_depth': None,\n",
      " 'max_features': 1.0,\n",
      " 'max_leaf_nodes': None,\n",
      " 'max_samples': None,\n",
      " 'min_impurity_decrease': 0.0,\n",
      " 'min_samples_leaf': 1,\n",
      " 'min_samples_split': 2,\n",
      " 'min_weight_fraction_leaf': 0.0,\n",
      " 'n_estimators': 100,\n",
      " 'n_jobs': None,\n",
      " 'oob_score': False,\n",
      " 'random_state': None,\n",
      " 'verbose': 0,\n",
      " 'warm_start': False}\n"
     ]
    }
   ],
   "source": [
    "#X_train,X_test,y_train,y_test = train_test_split(X_new,y_new,random_state=42,test_size=0.2)\n",
    "\n",
    "rfr = RandomForestRegressor()\n",
    "\n",
    "from pprint import pprint\n",
    "\n",
    "# Look at parameters used by our current forest\n",
    "print('Parameters currently in use:\\n')\n",
    "pprint(rfr.get_params())"
   ]
  },
  {
   "cell_type": "code",
   "execution_count": 70,
   "id": "70369da6",
   "metadata": {},
   "outputs": [],
   "source": [
    "def evaluate(model, test_features, test_labels):\n",
    "    predictions = model.predict(test_features)\n",
    "    \n",
    "    errors = abs(predictions - test_labels)\n",
    "    mape = 100 * np.mean(errors / test_labels)\n",
    "    accuracy = 100 - mape\n",
    "    \n",
    "    print('RMSE :',mean_squared_error((test_labels), (predictions), squared=False))\n",
    "    print('R2 :',r2_score((test_labels),(predictions)))\n",
    "    print('MSE :',mean_squared_error((test_labels),(predictions)))\n",
    "    print('MAE :',mean_absolute_error((test_labels),(predictions)))\n",
    "    \n",
    "    return accuracy"
   ]
  },
  {
   "cell_type": "code",
   "execution_count": 71,
   "id": "f54ad6de",
   "metadata": {},
   "outputs": [
    {
     "name": "stdout",
     "output_type": "stream",
     "text": [
      "RMSE : 2123.381633913998\n",
      "R2 : 0.7806223010535823\n",
      "MSE : 4508749.563243279\n",
      "MAE : 1248.7752889317862\n"
     ]
    },
    {
     "data": {
      "text/plain": [
       "86.11606008201852"
      ]
     },
     "execution_count": 71,
     "metadata": {},
     "output_type": "execute_result"
    }
   ],
   "source": [
    "#fitting the base model\n",
    "rfr.fit(x_train,y_train)\n",
    "\n",
    "#Different scores from the base model before tuning\n",
    "evaluate(rfr,x_test,y_test)"
   ]
  },
  {
   "cell_type": "code",
   "execution_count": 72,
   "id": "1b72ba56",
   "metadata": {},
   "outputs": [
    {
     "name": "stdout",
     "output_type": "stream",
     "text": [
      "{'bootstrap': [True, False],\n",
      " 'max_depth': [10, 20, 30, 40, 50, 60, 70, 80, 90, 100, 110, None],\n",
      " 'max_features': ['auto', 'sqrt'],\n",
      " 'min_samples_leaf': [1, 2, 4],\n",
      " 'min_samples_split': [2, 5, 10],\n",
      " 'n_estimators': [200, 400, 600, 800, 1000, 1200, 1400, 1600, 1800, 2000]}\n"
     ]
    }
   ],
   "source": [
    "#finding the best parameter with the help of RandomizesearchCV\n",
    "from sklearn.model_selection import RandomizedSearchCV\n",
    "# Number of trees in random forest\n",
    "n_estimators = [int(x) for x in np.linspace(start = 200, stop = 2000, num = 10)]\n",
    "\n",
    "# Number of features to consider at every split\n",
    "max_features = ['auto', 'sqrt']\n",
    "\n",
    "# Maximum number of levels in tree\n",
    "max_depth = [int(x) for x in np.linspace(10, 110, num = 11)]\n",
    "max_depth.append(None)\n",
    "\n",
    "# Minimum number of samples required to split a node\n",
    "min_samples_split = [2, 5, 10]\n",
    "\n",
    "# Minimum number of samples required at each leaf node\n",
    "min_samples_leaf = [1, 2, 4]\n",
    "\n",
    "# Method of selecting samples for training each tree\n",
    "bootstrap = [True, False]\n",
    "\n",
    "# Create the random grid\n",
    "random_grid = {'n_estimators': n_estimators,\n",
    "               'max_features': max_features,\n",
    "               'max_depth': max_depth,\n",
    "               'min_samples_split': min_samples_split,\n",
    "               'min_samples_leaf': min_samples_leaf,\n",
    "               'bootstrap': bootstrap}\n",
    "pprint(random_grid)"
   ]
  },
  {
   "cell_type": "code",
   "execution_count": 73,
   "id": "175c45cf",
   "metadata": {},
   "outputs": [
    {
     "name": "stdout",
     "output_type": "stream",
     "text": [
      "Fitting 2 folds for each of 50 candidates, totalling 100 fits\n"
     ]
    },
    {
     "data": {
      "text/html": [
       "<style>#sk-container-id-1 {color: black;background-color: white;}#sk-container-id-1 pre{padding: 0;}#sk-container-id-1 div.sk-toggleable {background-color: white;}#sk-container-id-1 label.sk-toggleable__label {cursor: pointer;display: block;width: 100%;margin-bottom: 0;padding: 0.3em;box-sizing: border-box;text-align: center;}#sk-container-id-1 label.sk-toggleable__label-arrow:before {content: \"▸\";float: left;margin-right: 0.25em;color: #696969;}#sk-container-id-1 label.sk-toggleable__label-arrow:hover:before {color: black;}#sk-container-id-1 div.sk-estimator:hover label.sk-toggleable__label-arrow:before {color: black;}#sk-container-id-1 div.sk-toggleable__content {max-height: 0;max-width: 0;overflow: hidden;text-align: left;background-color: #f0f8ff;}#sk-container-id-1 div.sk-toggleable__content pre {margin: 0.2em;color: black;border-radius: 0.25em;background-color: #f0f8ff;}#sk-container-id-1 input.sk-toggleable__control:checked~div.sk-toggleable__content {max-height: 200px;max-width: 100%;overflow: auto;}#sk-container-id-1 input.sk-toggleable__control:checked~label.sk-toggleable__label-arrow:before {content: \"▾\";}#sk-container-id-1 div.sk-estimator input.sk-toggleable__control:checked~label.sk-toggleable__label {background-color: #d4ebff;}#sk-container-id-1 div.sk-label input.sk-toggleable__control:checked~label.sk-toggleable__label {background-color: #d4ebff;}#sk-container-id-1 input.sk-hidden--visually {border: 0;clip: rect(1px 1px 1px 1px);clip: rect(1px, 1px, 1px, 1px);height: 1px;margin: -1px;overflow: hidden;padding: 0;position: absolute;width: 1px;}#sk-container-id-1 div.sk-estimator {font-family: monospace;background-color: #f0f8ff;border: 1px dotted black;border-radius: 0.25em;box-sizing: border-box;margin-bottom: 0.5em;}#sk-container-id-1 div.sk-estimator:hover {background-color: #d4ebff;}#sk-container-id-1 div.sk-parallel-item::after {content: \"\";width: 100%;border-bottom: 1px solid gray;flex-grow: 1;}#sk-container-id-1 div.sk-label:hover label.sk-toggleable__label {background-color: #d4ebff;}#sk-container-id-1 div.sk-serial::before {content: \"\";position: absolute;border-left: 1px solid gray;box-sizing: border-box;top: 0;bottom: 0;left: 50%;z-index: 0;}#sk-container-id-1 div.sk-serial {display: flex;flex-direction: column;align-items: center;background-color: white;padding-right: 0.2em;padding-left: 0.2em;position: relative;}#sk-container-id-1 div.sk-item {position: relative;z-index: 1;}#sk-container-id-1 div.sk-parallel {display: flex;align-items: stretch;justify-content: center;background-color: white;position: relative;}#sk-container-id-1 div.sk-item::before, #sk-container-id-1 div.sk-parallel-item::before {content: \"\";position: absolute;border-left: 1px solid gray;box-sizing: border-box;top: 0;bottom: 0;left: 50%;z-index: -1;}#sk-container-id-1 div.sk-parallel-item {display: flex;flex-direction: column;z-index: 1;position: relative;background-color: white;}#sk-container-id-1 div.sk-parallel-item:first-child::after {align-self: flex-end;width: 50%;}#sk-container-id-1 div.sk-parallel-item:last-child::after {align-self: flex-start;width: 50%;}#sk-container-id-1 div.sk-parallel-item:only-child::after {width: 0;}#sk-container-id-1 div.sk-dashed-wrapped {border: 1px dashed gray;margin: 0 0.4em 0.5em 0.4em;box-sizing: border-box;padding-bottom: 0.4em;background-color: white;}#sk-container-id-1 div.sk-label label {font-family: monospace;font-weight: bold;display: inline-block;line-height: 1.2em;}#sk-container-id-1 div.sk-label-container {text-align: center;}#sk-container-id-1 div.sk-container {/* jupyter's `normalize.less` sets `[hidden] { display: none; }` but bootstrap.min.css set `[hidden] { display: none !important; }` so we also need the `!important` here to be able to override the default hidden behavior on the sphinx rendered scikit-learn.org. See: https://github.com/scikit-learn/scikit-learn/issues/21755 */display: inline-block !important;position: relative;}#sk-container-id-1 div.sk-text-repr-fallback {display: none;}</style><div id=\"sk-container-id-1\" class=\"sk-top-container\"><div class=\"sk-text-repr-fallback\"><pre>RandomizedSearchCV(cv=2, estimator=RandomForestRegressor(), n_iter=50,\n",
       "                   n_jobs=-1,\n",
       "                   param_distributions={&#x27;bootstrap&#x27;: [True, False],\n",
       "                                        &#x27;max_depth&#x27;: [10, 20, 30, 40, 50, 60,\n",
       "                                                      70, 80, 90, 100, 110,\n",
       "                                                      None],\n",
       "                                        &#x27;max_features&#x27;: [&#x27;auto&#x27;, &#x27;sqrt&#x27;],\n",
       "                                        &#x27;min_samples_leaf&#x27;: [1, 2, 4],\n",
       "                                        &#x27;min_samples_split&#x27;: [2, 5, 10],\n",
       "                                        &#x27;n_estimators&#x27;: [200, 400, 600, 800,\n",
       "                                                         1000, 1200, 1400, 1600,\n",
       "                                                         1800, 2000]},\n",
       "                   random_state=42, verbose=2)</pre><b>In a Jupyter environment, please rerun this cell to show the HTML representation or trust the notebook. <br />On GitHub, the HTML representation is unable to render, please try loading this page with nbviewer.org.</b></div><div class=\"sk-container\" hidden><div class=\"sk-item sk-dashed-wrapped\"><div class=\"sk-label-container\"><div class=\"sk-label sk-toggleable\"><input class=\"sk-toggleable__control sk-hidden--visually\" id=\"sk-estimator-id-1\" type=\"checkbox\" ><label for=\"sk-estimator-id-1\" class=\"sk-toggleable__label sk-toggleable__label-arrow\">RandomizedSearchCV</label><div class=\"sk-toggleable__content\"><pre>RandomizedSearchCV(cv=2, estimator=RandomForestRegressor(), n_iter=50,\n",
       "                   n_jobs=-1,\n",
       "                   param_distributions={&#x27;bootstrap&#x27;: [True, False],\n",
       "                                        &#x27;max_depth&#x27;: [10, 20, 30, 40, 50, 60,\n",
       "                                                      70, 80, 90, 100, 110,\n",
       "                                                      None],\n",
       "                                        &#x27;max_features&#x27;: [&#x27;auto&#x27;, &#x27;sqrt&#x27;],\n",
       "                                        &#x27;min_samples_leaf&#x27;: [1, 2, 4],\n",
       "                                        &#x27;min_samples_split&#x27;: [2, 5, 10],\n",
       "                                        &#x27;n_estimators&#x27;: [200, 400, 600, 800,\n",
       "                                                         1000, 1200, 1400, 1600,\n",
       "                                                         1800, 2000]},\n",
       "                   random_state=42, verbose=2)</pre></div></div></div><div class=\"sk-parallel\"><div class=\"sk-parallel-item\"><div class=\"sk-item\"><div class=\"sk-label-container\"><div class=\"sk-label sk-toggleable\"><input class=\"sk-toggleable__control sk-hidden--visually\" id=\"sk-estimator-id-2\" type=\"checkbox\" ><label for=\"sk-estimator-id-2\" class=\"sk-toggleable__label sk-toggleable__label-arrow\">estimator: RandomForestRegressor</label><div class=\"sk-toggleable__content\"><pre>RandomForestRegressor()</pre></div></div></div><div class=\"sk-serial\"><div class=\"sk-item\"><div class=\"sk-estimator sk-toggleable\"><input class=\"sk-toggleable__control sk-hidden--visually\" id=\"sk-estimator-id-3\" type=\"checkbox\" ><label for=\"sk-estimator-id-3\" class=\"sk-toggleable__label sk-toggleable__label-arrow\">RandomForestRegressor</label><div class=\"sk-toggleable__content\"><pre>RandomForestRegressor()</pre></div></div></div></div></div></div></div></div></div></div>"
      ],
      "text/plain": [
       "RandomizedSearchCV(cv=2, estimator=RandomForestRegressor(), n_iter=50,\n",
       "                   n_jobs=-1,\n",
       "                   param_distributions={'bootstrap': [True, False],\n",
       "                                        'max_depth': [10, 20, 30, 40, 50, 60,\n",
       "                                                      70, 80, 90, 100, 110,\n",
       "                                                      None],\n",
       "                                        'max_features': ['auto', 'sqrt'],\n",
       "                                        'min_samples_leaf': [1, 2, 4],\n",
       "                                        'min_samples_split': [2, 5, 10],\n",
       "                                        'n_estimators': [200, 400, 600, 800,\n",
       "                                                         1000, 1200, 1400, 1600,\n",
       "                                                         1800, 2000]},\n",
       "                   random_state=42, verbose=2)"
      ]
     },
     "execution_count": 73,
     "metadata": {},
     "output_type": "execute_result"
    }
   ],
   "source": [
    "rf_random = RandomizedSearchCV(estimator = rfr, param_distributions = random_grid, n_iter = 50, \n",
    "                               cv = 2, verbose=2, random_state=42, n_jobs = -1)\n",
    "# Fit the random search model\n",
    "rf_random.fit(x_train, y_train)"
   ]
  },
  {
   "cell_type": "code",
   "execution_count": 74,
   "id": "b83466df",
   "metadata": {},
   "outputs": [
    {
     "name": "stdout",
     "output_type": "stream",
     "text": [
      "{'bootstrap': False,\n",
      " 'max_depth': 30,\n",
      " 'max_features': 'sqrt',\n",
      " 'min_samples_leaf': 1,\n",
      " 'min_samples_split': 10,\n",
      " 'n_estimators': 1800}\n"
     ]
    }
   ],
   "source": [
    "#Best parameters for our models is:\n",
    "pprint(rf_random.best_params_)"
   ]
  },
  {
   "cell_type": "code",
   "execution_count": 75,
   "id": "e70c611e",
   "metadata": {},
   "outputs": [
    {
     "data": {
      "text/html": [
       "<style>#sk-container-id-2 {color: black;background-color: white;}#sk-container-id-2 pre{padding: 0;}#sk-container-id-2 div.sk-toggleable {background-color: white;}#sk-container-id-2 label.sk-toggleable__label {cursor: pointer;display: block;width: 100%;margin-bottom: 0;padding: 0.3em;box-sizing: border-box;text-align: center;}#sk-container-id-2 label.sk-toggleable__label-arrow:before {content: \"▸\";float: left;margin-right: 0.25em;color: #696969;}#sk-container-id-2 label.sk-toggleable__label-arrow:hover:before {color: black;}#sk-container-id-2 div.sk-estimator:hover label.sk-toggleable__label-arrow:before {color: black;}#sk-container-id-2 div.sk-toggleable__content {max-height: 0;max-width: 0;overflow: hidden;text-align: left;background-color: #f0f8ff;}#sk-container-id-2 div.sk-toggleable__content pre {margin: 0.2em;color: black;border-radius: 0.25em;background-color: #f0f8ff;}#sk-container-id-2 input.sk-toggleable__control:checked~div.sk-toggleable__content {max-height: 200px;max-width: 100%;overflow: auto;}#sk-container-id-2 input.sk-toggleable__control:checked~label.sk-toggleable__label-arrow:before {content: \"▾\";}#sk-container-id-2 div.sk-estimator input.sk-toggleable__control:checked~label.sk-toggleable__label {background-color: #d4ebff;}#sk-container-id-2 div.sk-label input.sk-toggleable__control:checked~label.sk-toggleable__label {background-color: #d4ebff;}#sk-container-id-2 input.sk-hidden--visually {border: 0;clip: rect(1px 1px 1px 1px);clip: rect(1px, 1px, 1px, 1px);height: 1px;margin: -1px;overflow: hidden;padding: 0;position: absolute;width: 1px;}#sk-container-id-2 div.sk-estimator {font-family: monospace;background-color: #f0f8ff;border: 1px dotted black;border-radius: 0.25em;box-sizing: border-box;margin-bottom: 0.5em;}#sk-container-id-2 div.sk-estimator:hover {background-color: #d4ebff;}#sk-container-id-2 div.sk-parallel-item::after {content: \"\";width: 100%;border-bottom: 1px solid gray;flex-grow: 1;}#sk-container-id-2 div.sk-label:hover label.sk-toggleable__label {background-color: #d4ebff;}#sk-container-id-2 div.sk-serial::before {content: \"\";position: absolute;border-left: 1px solid gray;box-sizing: border-box;top: 0;bottom: 0;left: 50%;z-index: 0;}#sk-container-id-2 div.sk-serial {display: flex;flex-direction: column;align-items: center;background-color: white;padding-right: 0.2em;padding-left: 0.2em;position: relative;}#sk-container-id-2 div.sk-item {position: relative;z-index: 1;}#sk-container-id-2 div.sk-parallel {display: flex;align-items: stretch;justify-content: center;background-color: white;position: relative;}#sk-container-id-2 div.sk-item::before, #sk-container-id-2 div.sk-parallel-item::before {content: \"\";position: absolute;border-left: 1px solid gray;box-sizing: border-box;top: 0;bottom: 0;left: 50%;z-index: -1;}#sk-container-id-2 div.sk-parallel-item {display: flex;flex-direction: column;z-index: 1;position: relative;background-color: white;}#sk-container-id-2 div.sk-parallel-item:first-child::after {align-self: flex-end;width: 50%;}#sk-container-id-2 div.sk-parallel-item:last-child::after {align-self: flex-start;width: 50%;}#sk-container-id-2 div.sk-parallel-item:only-child::after {width: 0;}#sk-container-id-2 div.sk-dashed-wrapped {border: 1px dashed gray;margin: 0 0.4em 0.5em 0.4em;box-sizing: border-box;padding-bottom: 0.4em;background-color: white;}#sk-container-id-2 div.sk-label label {font-family: monospace;font-weight: bold;display: inline-block;line-height: 1.2em;}#sk-container-id-2 div.sk-label-container {text-align: center;}#sk-container-id-2 div.sk-container {/* jupyter's `normalize.less` sets `[hidden] { display: none; }` but bootstrap.min.css set `[hidden] { display: none !important; }` so we also need the `!important` here to be able to override the default hidden behavior on the sphinx rendered scikit-learn.org. See: https://github.com/scikit-learn/scikit-learn/issues/21755 */display: inline-block !important;position: relative;}#sk-container-id-2 div.sk-text-repr-fallback {display: none;}</style><div id=\"sk-container-id-2\" class=\"sk-top-container\"><div class=\"sk-text-repr-fallback\"><pre>RandomForestRegressor(bootstrap=False, max_depth=50, max_features=&#x27;sqrt&#x27;,\n",
       "                      min_samples_leaf=2, n_estimators=800)</pre><b>In a Jupyter environment, please rerun this cell to show the HTML representation or trust the notebook. <br />On GitHub, the HTML representation is unable to render, please try loading this page with nbviewer.org.</b></div><div class=\"sk-container\" hidden><div class=\"sk-item\"><div class=\"sk-estimator sk-toggleable\"><input class=\"sk-toggleable__control sk-hidden--visually\" id=\"sk-estimator-id-4\" type=\"checkbox\" checked><label for=\"sk-estimator-id-4\" class=\"sk-toggleable__label sk-toggleable__label-arrow\">RandomForestRegressor</label><div class=\"sk-toggleable__content\"><pre>RandomForestRegressor(bootstrap=False, max_depth=50, max_features=&#x27;sqrt&#x27;,\n",
       "                      min_samples_leaf=2, n_estimators=800)</pre></div></div></div></div></div>"
      ],
      "text/plain": [
       "RandomForestRegressor(bootstrap=False, max_depth=50, max_features='sqrt',\n",
       "                      min_samples_leaf=2, n_estimators=800)"
      ]
     },
     "execution_count": 75,
     "metadata": {},
     "output_type": "execute_result"
    }
   ],
   "source": [
    "#Running the model with best parameters\n",
    "rfrb = RandomForestRegressor(bootstrap= False,\n",
    " max_depth= 50,\n",
    " max_features= 'sqrt',\n",
    " min_samples_leaf= 2,\n",
    " min_samples_split= 2,\n",
    " n_estimators= 800)\n",
    "\n",
    "rfrb.fit(x_train,y_train)"
   ]
  },
  {
   "cell_type": "code",
   "execution_count": 76,
   "id": "1357da58",
   "metadata": {},
   "outputs": [
    {
     "name": "stdout",
     "output_type": "stream",
     "text": [
      "RMSE : 1968.4089359715533\n",
      "R2 : 0.8114758378025344\n",
      "MSE : 3874633.7392126624\n",
      "MAE : 1229.6029741366483\n"
     ]
    },
    {
     "data": {
      "text/plain": [
       "85.92945753149448"
      ]
     },
     "execution_count": 76,
     "metadata": {},
     "output_type": "execute_result"
    }
   ],
   "source": [
    "#rerunning the model with best parameters\n",
    "#rfb = rf_random.best_estimator_\n",
    "evaluate(rfrb,x_test,y_test)"
   ]
  },
  {
   "cell_type": "markdown",
   "id": "b81410fa",
   "metadata": {},
   "source": [
    "random forest is giving good score"
   ]
  },
  {
   "cell_type": "code",
   "execution_count": 77,
   "id": "1f4261a2",
   "metadata": {},
   "outputs": [],
   "source": [
    "#scaling test data"
   ]
  },
  {
   "cell_type": "code",
   "execution_count": 78,
   "id": "7ec2cc31",
   "metadata": {},
   "outputs": [],
   "source": [
    "X=test_data"
   ]
  },
  {
   "cell_type": "code",
   "execution_count": 79,
   "id": "e18748b6",
   "metadata": {},
   "outputs": [
    {
     "data": {
      "text/html": [
       "<div>\n",
       "<style scoped>\n",
       "    .dataframe tbody tr th:only-of-type {\n",
       "        vertical-align: middle;\n",
       "    }\n",
       "\n",
       "    .dataframe tbody tr th {\n",
       "        vertical-align: top;\n",
       "    }\n",
       "\n",
       "    .dataframe thead th {\n",
       "        text-align: right;\n",
       "    }\n",
       "</style>\n",
       "<table border=\"1\" class=\"dataframe\">\n",
       "  <thead>\n",
       "    <tr style=\"text-align: right;\">\n",
       "      <th></th>\n",
       "      <th>0</th>\n",
       "      <th>1</th>\n",
       "      <th>2</th>\n",
       "      <th>3</th>\n",
       "      <th>4</th>\n",
       "      <th>5</th>\n",
       "      <th>6</th>\n",
       "      <th>7</th>\n",
       "      <th>8</th>\n",
       "      <th>9</th>\n",
       "      <th>10</th>\n",
       "      <th>11</th>\n",
       "    </tr>\n",
       "  </thead>\n",
       "  <tbody>\n",
       "    <tr>\n",
       "      <th>0</th>\n",
       "      <td>0.008716</td>\n",
       "      <td>0.030594</td>\n",
       "      <td>-0.293844</td>\n",
       "      <td>0.038653</td>\n",
       "      <td>-0.791246</td>\n",
       "      <td>0.0</td>\n",
       "      <td>-0.702811</td>\n",
       "      <td>0.131049</td>\n",
       "      <td>0.772098</td>\n",
       "      <td>0.267435</td>\n",
       "      <td>-1.366298</td>\n",
       "      <td>0.026232</td>\n",
       "    </tr>\n",
       "    <tr>\n",
       "      <th>1</th>\n",
       "      <td>-0.426286</td>\n",
       "      <td>0.873530</td>\n",
       "      <td>-0.976212</td>\n",
       "      <td>-0.789942</td>\n",
       "      <td>-0.791246</td>\n",
       "      <td>0.0</td>\n",
       "      <td>-0.819520</td>\n",
       "      <td>2.106117</td>\n",
       "      <td>-1.165138</td>\n",
       "      <td>-0.256540</td>\n",
       "      <td>-0.512126</td>\n",
       "      <td>-0.271549</td>\n",
       "    </tr>\n",
       "    <tr>\n",
       "      <th>2</th>\n",
       "      <td>0.008716</td>\n",
       "      <td>0.030594</td>\n",
       "      <td>-0.293844</td>\n",
       "      <td>1.576046</td>\n",
       "      <td>-0.791246</td>\n",
       "      <td>0.0</td>\n",
       "      <td>1.047819</td>\n",
       "      <td>-0.198129</td>\n",
       "      <td>1.124323</td>\n",
       "      <td>-0.518527</td>\n",
       "      <td>0.769131</td>\n",
       "      <td>-1.462674</td>\n",
       "    </tr>\n",
       "    <tr>\n",
       "      <th>3</th>\n",
       "      <td>0.878721</td>\n",
       "      <td>0.030594</td>\n",
       "      <td>-0.293844</td>\n",
       "      <td>0.288230</td>\n",
       "      <td>-0.791246</td>\n",
       "      <td>0.0</td>\n",
       "      <td>1.047819</td>\n",
       "      <td>-0.198129</td>\n",
       "      <td>-0.812914</td>\n",
       "      <td>-1.304489</td>\n",
       "      <td>1.053855</td>\n",
       "      <td>-1.462674</td>\n",
       "    </tr>\n",
       "    <tr>\n",
       "      <th>4</th>\n",
       "      <td>-1.731292</td>\n",
       "      <td>-1.655278</td>\n",
       "      <td>0.388524</td>\n",
       "      <td>-0.929705</td>\n",
       "      <td>1.429868</td>\n",
       "      <td>0.0</td>\n",
       "      <td>1.397945</td>\n",
       "      <td>0.131049</td>\n",
       "      <td>1.828772</td>\n",
       "      <td>1.577372</td>\n",
       "      <td>-1.651022</td>\n",
       "      <td>1.217357</td>\n",
       "    </tr>\n",
       "  </tbody>\n",
       "</table>\n",
       "</div>"
      ],
      "text/plain": [
       "         0         1         2         3         4    5         6         7   \\\n",
       "0  0.008716  0.030594 -0.293844  0.038653 -0.791246  0.0 -0.702811  0.131049   \n",
       "1 -0.426286  0.873530 -0.976212 -0.789942 -0.791246  0.0 -0.819520  2.106117   \n",
       "2  0.008716  0.030594 -0.293844  1.576046 -0.791246  0.0  1.047819 -0.198129   \n",
       "3  0.878721  0.030594 -0.293844  0.288230 -0.791246  0.0  1.047819 -0.198129   \n",
       "4 -1.731292 -1.655278  0.388524 -0.929705  1.429868  0.0  1.397945  0.131049   \n",
       "\n",
       "         8         9         10        11  \n",
       "0  0.772098  0.267435 -1.366298  0.026232  \n",
       "1 -1.165138 -0.256540 -0.512126 -0.271549  \n",
       "2  1.124323 -0.518527  0.769131 -1.462674  \n",
       "3 -0.812914 -1.304489  1.053855 -1.462674  \n",
       "4  1.828772  1.577372 -1.651022  1.217357  "
      ]
     },
     "execution_count": 79,
     "metadata": {},
     "output_type": "execute_result"
    }
   ],
   "source": [
    "#standard scaling\n",
    "from sklearn import preprocessing\n",
    "standadisation=preprocessing.StandardScaler()\n",
    "X=standadisation.fit_transform(X)\n",
    "X=pd.DataFrame(X)\n",
    "X.head()"
   ]
  },
  {
   "cell_type": "code",
   "execution_count": 86,
   "id": "e8b56372",
   "metadata": {},
   "outputs": [],
   "source": [
    "Y_pred = rfr.predict(X)"
   ]
  },
  {
   "cell_type": "code",
   "execution_count": 87,
   "id": "65b547fe",
   "metadata": {},
   "outputs": [
    {
     "data": {
      "text/plain": [
       "array([10854.137     ,  4254.4       , 13652.44966667, ...,\n",
       "       15900.66      , 14610.71      ,  7324.38      ])"
      ]
     },
     "execution_count": 87,
     "metadata": {},
     "output_type": "execute_result"
    }
   ],
   "source": [
    "Y_pred"
   ]
  },
  {
   "cell_type": "code",
   "execution_count": 88,
   "id": "a9220c3c",
   "metadata": {},
   "outputs": [],
   "source": [
    "result=pd.DataFrame({'price':Y_pred})"
   ]
  },
  {
   "cell_type": "code",
   "execution_count": 89,
   "id": "850122be",
   "metadata": {},
   "outputs": [
    {
     "data": {
      "text/html": [
       "<div>\n",
       "<style scoped>\n",
       "    .dataframe tbody tr th:only-of-type {\n",
       "        vertical-align: middle;\n",
       "    }\n",
       "\n",
       "    .dataframe tbody tr th {\n",
       "        vertical-align: top;\n",
       "    }\n",
       "\n",
       "    .dataframe thead th {\n",
       "        text-align: right;\n",
       "    }\n",
       "</style>\n",
       "<table border=\"1\" class=\"dataframe\">\n",
       "  <thead>\n",
       "    <tr style=\"text-align: right;\">\n",
       "      <th></th>\n",
       "      <th>price</th>\n",
       "    </tr>\n",
       "  </thead>\n",
       "  <tbody>\n",
       "    <tr>\n",
       "      <th>0</th>\n",
       "      <td>10854.137000</td>\n",
       "    </tr>\n",
       "    <tr>\n",
       "      <th>1</th>\n",
       "      <td>4254.400000</td>\n",
       "    </tr>\n",
       "    <tr>\n",
       "      <th>2</th>\n",
       "      <td>13652.449667</td>\n",
       "    </tr>\n",
       "    <tr>\n",
       "      <th>3</th>\n",
       "      <td>13344.781667</td>\n",
       "    </tr>\n",
       "    <tr>\n",
       "      <th>4</th>\n",
       "      <td>3728.050000</td>\n",
       "    </tr>\n",
       "  </tbody>\n",
       "</table>\n",
       "</div>"
      ],
      "text/plain": [
       "          price\n",
       "0  10854.137000\n",
       "1   4254.400000\n",
       "2  13652.449667\n",
       "3  13344.781667\n",
       "4   3728.050000"
      ]
     },
     "execution_count": 89,
     "metadata": {},
     "output_type": "execute_result"
    }
   ],
   "source": [
    "result.head()"
   ]
  },
  {
   "cell_type": "code",
   "execution_count": 90,
   "id": "f403b2bf",
   "metadata": {},
   "outputs": [],
   "source": [
    "result.to_excel('result.xlsx',index=False)"
   ]
  },
  {
   "cell_type": "markdown",
   "id": "b524b3ee",
   "metadata": {},
   "source": [
    "successfully created  and predicted using random forest regressor\n",
    "accuracy 86.11\n",
    "finetuning makes no change.instead reduce the accuracy"
   ]
  }
 ],
 "metadata": {
  "kernelspec": {
   "display_name": "Python 3 (ipykernel)",
   "language": "python",
   "name": "python3"
  },
  "language_info": {
   "codemirror_mode": {
    "name": "ipython",
    "version": 3
   },
   "file_extension": ".py",
   "mimetype": "text/x-python",
   "name": "python",
   "nbconvert_exporter": "python",
   "pygments_lexer": "ipython3",
   "version": "3.9.13"
  }
 },
 "nbformat": 4,
 "nbformat_minor": 5
}
